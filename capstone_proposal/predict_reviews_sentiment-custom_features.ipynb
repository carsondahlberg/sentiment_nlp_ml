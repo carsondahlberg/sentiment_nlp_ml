{
 "cells": [
  {
   "cell_type": "markdown",
   "metadata": {
    "collapsed": true
   },
   "source": [
    "Carson Dahlberg\n",
    "July, 28 2018\n",
    "## Capstone Proposal - Classifying Text Sentiment Polarity (positive vs. negative)\n",
    "-----\n",
    "* this workbook looks at the custom features\n",
    "* these features were designed to try to capture some of the information lost by cleaning, preprocessing, normalizing, lemmatizing, etc..."
   ]
  },
  {
   "cell_type": "markdown",
   "metadata": {},
   "source": [
    "## Import Libraries\n",
    "<a id=\"import_id\"></a>\n"
   ]
  },
  {
   "cell_type": "code",
   "execution_count": 1,
   "metadata": {},
   "outputs": [
    {
     "name": "stdout",
     "output_type": "stream",
     "text": [
      "contractions version: contractions 0.0.16\n",
      "inflect version: inflect 0.3.1\n"
     ]
    }
   ],
   "source": [
    "# helper functions for text cleanup, preprocessing and eature engineering\n",
    "import helpers as h"
   ]
  },
  {
   "cell_type": "code",
   "execution_count": 69,
   "metadata": {},
   "outputs": [
    {
     "name": "stdout",
     "output_type": "stream",
     "text": [
      "Python version: 2.7.13 |Anaconda 4.3.1 (64-bit)| (default, Dec 19 2016, 13:29:36) [MSC v.1500 64 bit (AMD64)]\n",
      "NumPy version: 1.11.3\n",
      "pandas version: 0.19.2\n",
      "seaborn version: 0.7.1\n",
      "SciPy version: 0.18.1\n",
      "scikit-learn version: 0.18.1\n",
      "IPython version: 5.1.0\n",
      "matplotlib version: 2.0.0\n"
     ]
    }
   ],
   "source": [
    "import re, string, unicodedata\n",
    "import os, glob, sys\n",
    "import logging\n",
    "from time import time\n",
    "import datetime\n",
    "\n",
    "import math\n",
    "import numpy as np\n",
    "np.random.seed(0) # set random seed for reproducibility\n",
    "import pandas as pd\n",
    "pd.set_option('display.width',4000)\n",
    "pd.set_option('max_colwidth',4000)\n",
    "pd.set_option('max_rows',100)\n",
    "pd.set_option('max_columns',200)\n",
    "\n",
    "import scipy as sp\n",
    "import sklearn\n",
    "\n",
    "import IPython\n",
    "#from IPython.core.interactiveshell import InteractiveShell\n",
    "#InteractiveShell.ast_node_interactivey = \"all\"\n",
    "from IPython.display import display\n",
    "import matplotlib\n",
    "import matplotlib.pyplot as plt\n",
    "from matplotlib import cm\n",
    "\n",
    "%matplotlib inline\n",
    "import seaborn as sns; sns.set()\n",
    "\n",
    "# which versions\n",
    "print(\"Python version: {}\".format(sys.version))\n",
    "print(\"NumPy version: {}\".format(np.__version__))\n",
    "print(\"pandas version: {}\".format(pd.__version__))\n",
    "print(\"seaborn version: {}\".format(sns.__version__))\n",
    "print(\"SciPy version: {}\".format(sp.__version__))\n",
    "print(\"scikit-learn version: {}\".format(sklearn.__version__))\n",
    "print(\"IPython version: {}\".format(IPython.__version__))\n",
    "print(\"matplotlib version: {}\".format(matplotlib.__version__))"
   ]
  },
  {
   "cell_type": "code",
   "execution_count": 3,
   "metadata": {},
   "outputs": [
    {
     "name": "stdout",
     "output_type": "stream",
     "text": [
      "contractions version: contractions 0.0.16\n",
      "inflect version: inflect 0.3.1\n"
     ]
    }
   ],
   "source": [
    "# additional smaller but useful libraries \n",
    "# contractions is capable of resolving contractions (and slang)\n",
    "# could use to convert slang or create additional text\n",
    "import contractions # expanding contractions here https://pypi.org/project/contractions/\n",
    "print(\"contractions version: {}\".format('contractions 0.0.16'))\n",
    "\n",
    "# inflect.py - Correctly generate plurals, singular nouns, ordinals, indefinite articles; convert numbers to words.\n",
    "# https://pypi.org/project/inflect/ \n",
    "import inflect # generating plurals, singular nouns, ordinals, indefinite articles, and converting numbers to words\n",
    "print(\"inflect version: {}\".format('inflect 0.3.1'))"
   ]
  },
  {
   "cell_type": "code",
   "execution_count": 4,
   "metadata": {
    "collapsed": true
   },
   "outputs": [],
   "source": [
    "import nltk\n",
    "from nltk.corpus import stopwords\n",
    "\n",
    "# custom tokenization for feature engineering using raw text\n",
    "from nltk.tokenize import RegexpTokenizer\n",
    "\n",
    "from nltk.tokenize import sent_tokenize # or can use\n",
    "#from nltk.tokenize import PunktSentenceTokenizer # must be trained to be used\n",
    "from nltk.tokenize import word_tokenize\n",
    "\n",
    "from nltk.corpus import wordnet # for synonyms from WordNet\n",
    "\n",
    "from nltk.stem import PorterStemmer # word stemming english words\n",
    "from nltk.stem import SnowballStemmer # stemming non-English words\n",
    "from nltk.stem import LancasterStemmer\n",
    "from nltk.stem import WordNetLemmatizer # another lemmatizer\n",
    "\n",
    "from nltk.chunk import conlltags2tree, tree2conlltags # for nltk.Tree\n",
    "from nltk import pos_tag\n",
    "from nltk import ne_chunk\n",
    "#from nltk.tag import StanfordPOSTagger  # another POS tagger"
   ]
  },
  {
   "cell_type": "code",
   "execution_count": 5,
   "metadata": {},
   "outputs": [
    {
     "name": "stdout",
     "output_type": "stream",
     "text": [
      "[nltk_data] Downloading package stopwords to C:\\Users\\Carson\n",
      "[nltk_data]     Dahlberg\\AppData\\Roaming\\nltk_data...\n",
      "[nltk_data]   Package stopwords is already up-to-date!\n",
      "[nltk_data] Downloading package punkt to C:\\Users\\Carson\n",
      "[nltk_data]     Dahlberg\\AppData\\Roaming\\nltk_data...\n",
      "[nltk_data]   Package punkt is already up-to-date!\n",
      "[nltk_data] Downloading package wordnet to C:\\Users\\Carson\n",
      "[nltk_data]     Dahlberg\\AppData\\Roaming\\nltk_data...\n",
      "[nltk_data]   Package wordnet is already up-to-date!\n",
      "[nltk_data] Downloading package averaged_perceptron_tagger to\n",
      "[nltk_data]     C:\\Users\\Carson Dahlberg\\AppData\\Roaming\\nltk_data...\n",
      "[nltk_data]   Package averaged_perceptron_tagger is already up-to-\n",
      "[nltk_data]       date!\n",
      "[nltk_data] Downloading package maxent_ne_chunker to C:\\Users\\Carson\n",
      "[nltk_data]     Dahlberg\\AppData\\Roaming\\nltk_data...\n",
      "[nltk_data]   Package maxent_ne_chunker is already up-to-date!\n",
      "[nltk_data] Downloading package words to C:\\Users\\Carson\n",
      "[nltk_data]     Dahlberg\\AppData\\Roaming\\nltk_data...\n",
      "[nltk_data]   Package words is already up-to-date!\n",
      "[nltk_data] Downloading package nps_chat to C:\\Users\\Carson\n",
      "[nltk_data]     Dahlberg\\AppData\\Roaming\\nltk_data...\n",
      "[nltk_data]   Package nps_chat is already up-to-date!\n"
     ]
    },
    {
     "data": {
      "text/plain": [
       "179"
      ]
     },
     "execution_count": 5,
     "metadata": {},
     "output_type": "execute_result"
    }
   ],
   "source": [
    "# must be connected to the internet\n",
    "# download and unzip the files needed\n",
    "nltk.download('stopwords')\n",
    "nltk.download('punkt') # for sent_tokenize\n",
    "nltk.download('wordnet') # for WordNet\n",
    "nltk.download('averaged_perceptron_tagger') # for NER\n",
    "nltk.download('maxent_ne_chunker')\n",
    "nltk.download('words')\n",
    "nltk.download('nps_chat')\n",
    "\n",
    "# call the english stopwords\n",
    "len(stopwords.words('english')) # 179, but sklearn has +300"
   ]
  },
  {
   "cell_type": "code",
   "execution_count": 6,
   "metadata": {},
   "outputs": [
    {
     "name": "stdout",
     "output_type": "stream",
     "text": [
      "sklearn total stop words: 318\n"
     ]
    }
   ],
   "source": [
    "# scikit-learn nlp functionality\n",
    "from sklearn.model_selection import train_test_split\n",
    "from sklearn.model_selection import cross_val_score, cross_val_predict\n",
    "from sklearn.feature_extraction.text import ENGLISH_STOP_WORDS\n",
    "print('sklearn total stop words: {}'.format(len(ENGLISH_STOP_WORDS)))\n",
    "\n",
    "from sklearn.model_selection import GridSearchCV\n",
    "\n",
    "from sklearn.decomposition import PCA\n",
    "\n",
    "from sklearn.linear_model import LogisticRegression\n",
    "#from sklearn.naive_bayes import MultinomialNB\n",
    "from sklearn.naive_bayes import GaussianNB\n",
    "from sklearn.ensemble import RandomForestClassifier\n",
    "from sklearn.neighbors import KNeighborsClassifier\n",
    "\n",
    "from sklearn.feature_extraction.text import TfidfVectorizer\n",
    "from sklearn.feature_extraction.text import CountVectorizer\n",
    "\n",
    "from sklearn.pipeline import make_pipeline\n",
    "\n",
    "from sklearn.metrics import fbeta_score, accuracy_score\n",
    "\n",
    "# model persistence\n",
    "from sklearn.externals import joblib\n",
    "# joblib.dump(clf, 'filename.pkl') \n",
    "# clf = joblib.load('filename.pkl')\n",
    "# result = clf.score(X_test, y_test)\n",
    "# yhat = clf.predict(X)"
   ]
  },
  {
   "cell_type": "code",
   "execution_count": 7,
   "metadata": {
    "collapsed": true
   },
   "outputs": [],
   "source": [
    "# for cleaning html and getting metadata if provided, like tags\n",
    "from bs4 import BeautifulSoup"
   ]
  },
  {
   "cell_type": "markdown",
   "metadata": {},
   "source": [
    "## Data - a brief description\n",
    "<a id\"#dat\"></a>\n",
    "\n",
    "#### Dataset for Classifying Text Sentiment Polarity (positive versus negative)\n",
    "* DATA: [Sentiment Labelled Sentences Data Set](https://archive.ics.uci.edu/ml/datasets/Sentiment+Labelled+Sentences)\n",
    "* SOURCE/CITATION: Dimitrios Kotzias, This dataset was created for the Paper 'From Group to Individual Labels using Deep Features', Kotzias et. al,. KDD 2015\n",
    "* FORMAT: It contains sentences labelled with positive or negative sentiment. \n",
    "* DETAILS: Score is either 1 (for positive) or 0 (for negative)\tThe sentences come from three different websites/fields: imdb.com, amazon.com, and yelp.com. For each website, there exist 500 positive and 500 negative sentences. Those were selected randomly for larger datasets of reviews. We attempted to select sentences that have a clearly positive or negative connotaton, the goal was for no neutral sentences to be selected. \n",
    "\n",
    "-----\n",
    "Set up where we're going to keep figures, in the project"
   ]
  },
  {
   "cell_type": "code",
   "execution_count": 8,
   "metadata": {
    "collapsed": true
   },
   "outputs": [],
   "source": [
    "# Where to save the figures\n",
    "PROJECT_ROOT_DIR = \".\"\n",
    "DATA_PATH = os.path.join(PROJECT_ROOT_DIR, \"data\")\n",
    "IMAGES_PATH = os.path.join(PROJECT_ROOT_DIR, \"images\")\n",
    "MODEL_PATH = os.path.join(PROJECT_ROOT_DIR, \"models\")\n",
    "TODAY = datetime.datetime.today().strftime('%Y-%m-%d')\n",
    "\n",
    "# make sure all paths present\n",
    "if not os.path.isdir(DATA_PATH):\n",
    "    os.makedirs(DATA_PATH)\n",
    "if not os.path.isdir(IMAGES_PATH):\n",
    "    os.makedirs(IMAGES_PATH)\n",
    "if not os.path.isdir(MODEL_PATH):\n",
    "    os.makedirs(MODEL_PATH)\n",
    "\n",
    "def save_fig(fig_id, tight_layout=True, fig_extension=\"png\", resolution=300):\n",
    "    path = os.path.join(IMAGES_PATH, fig_id + \"_\" + TODAY + \".\" + fig_extension)\n",
    "    print(\"Saving figure\", fig_id)\n",
    "    if tight_layout:\n",
    "        plt.tight_layout()\n",
    "    plt.savefig(path, format=fig_extension, dpi=resolution)\n",
    "\n",
    "def save_model(model, model_id, model_extension=\"pkl\"):\n",
    "    path = os.path.join(MODEL_PATH, model_id + \"_\" + TODAY + \".\" + model_extension)\n",
    "    print(\"Saving model\", model_id)\n",
    "    joblib.dump(model, path) \n",
    "\n",
    "# test saving fig\n",
    "#imdb_df.len.hist(bins=100)\n",
    "#save_fig('test_save_img')\n",
    "#plt.show()"
   ]
  },
  {
   "cell_type": "markdown",
   "metadata": {},
   "source": [
    "## Data - get raw data\n",
    "-----\n",
    "We're interested in a generalizable model for classifying sentiment. To do so, we are using text data collected from social media reviews, from multiple social site sources: yelp.com, imdb.com, and amazon.com. These will capture different lengths of text, differing language usage, as well as language covering many domains."
   ]
  },
  {
   "cell_type": "code",
   "execution_count": 9,
   "metadata": {},
   "outputs": [
    {
     "data": {
      "text/plain": [
       "['./data/sentiment labelled sentences/sentiment labelled sentences\\\\amazon_cells_labelled.txt',\n",
       " './data/sentiment labelled sentences/sentiment labelled sentences\\\\imdb_labelled.txt',\n",
       " './data/sentiment labelled sentences/sentiment labelled sentences\\\\readme.txt',\n",
       " './data/sentiment labelled sentences/sentiment labelled sentences\\\\yelp_labelled.txt']"
      ]
     },
     "execution_count": 9,
     "metadata": {},
     "output_type": "execute_result"
    }
   ],
   "source": [
    "from glob import glob\n",
    "dir_reviews = r'./data/sentiment labelled sentences/sentiment labelled sentences'\n",
    "review_files = glob(dir_reviews+'/*.txt')\n",
    "review_files"
   ]
  },
  {
   "cell_type": "code",
   "execution_count": 10,
   "metadata": {
    "collapsed": true
   },
   "outputs": [],
   "source": [
    "# pandas read_table, etc not working properly because of multiline docs.\n",
    "# this will also cleanup a lot of the whitespaces, newlines, etc.\n",
    "def get_sentiment_data(file_name):\n",
    "    data = []\n",
    "    with open(file_name, 'r') as fh:\n",
    "        review = ''\n",
    "        for line in fh:\n",
    "            if line[-2] in ['0', '1']:\n",
    "                data.append(('' + review + line[:-3], line[-2]))\n",
    "                review = ''\n",
    "            else:\n",
    "                review += ' ' + line\n",
    "    return data\n",
    "\n",
    "# get the data\n",
    "imdb_data = get_sentiment_data(review_files[1])\n",
    "imdb_df = pd.DataFrame(data=imdb_data, columns=['document','score'])\n",
    "imdb_df['source'] = 'imdb'\n",
    "imdb_df['len'] = imdb_df['document'].str.len()\n",
    "\n",
    "amzn_data = get_sentiment_data(review_files[0])\n",
    "amzn_df = pd.DataFrame(data=amzn_data, columns=['document','score'])\n",
    "amzn_df['source'] = 'amazon'\n",
    "amzn_df['len'] = amzn_df['document'].str.len()\n",
    "\n",
    "yelp_data = get_sentiment_data(review_files[3])\n",
    "yelp_df = pd.DataFrame(data=yelp_data, columns=['document','score'])\n",
    "yelp_df['source'] = 'yelp'\n",
    "yelp_df['len'] = yelp_df['document'].str.len()"
   ]
  },
  {
   "cell_type": "markdown",
   "metadata": {},
   "source": [
    "### Data Observations:\n",
    "* All reviews are pulled from the sources: __Amazon__ product reviews, __Yelp__ entertainment reviews, and __IMDb__ moview reviews.\n",
    "* All data is in document format with some noted similarities and differences:\n",
    "    * All data has a boolean indicator of 0 or 1 for target sentiment. \n",
    "    * __Amazon__ and __Yelp__ data are the most similar, with the minimum and maximum length of Yelp both roughly twice that of Amazon. \n",
    "    * __IMDb__ data is different in one *__major__* way, each document is made of one or more sentences. This will need to be considered when incorporating the data. \n",
    "    * Interestingly __IMDb__ has both the shortest document (made up of one sentence) and longest (made up of multiple sentences).\n",
    "* Casual observations about sentiment:\n",
    "  * In general, positive sentiment tends to be shorter, within the same datasets.\n",
    "  * In general, negative sentiment tends to be longer, within the same datasets.\n"
   ]
  },
  {
   "cell_type": "code",
   "execution_count": 11,
   "metadata": {},
   "outputs": [
    {
     "data": {
      "text/plain": [
       "165    DELICIOUS!!\n",
       "479    I LOVED it!\n",
       "581    Over rated.\n",
       "648    Great food.\n",
       "663    Both great!\n",
       "Name: document, dtype: object"
      ]
     },
     "execution_count": 11,
     "metadata": {},
     "output_type": "execute_result"
    }
   ],
   "source": [
    "# what do some positive reviews look like?\n",
    "yelp_df['document'][yelp_df['len'] == 11]#.tolist()"
   ]
  },
  {
   "cell_type": "code",
   "execution_count": 12,
   "metadata": {
    "scrolled": false
   },
   "outputs": [
    {
     "name": "stdout",
     "output_type": "stream",
     "text": [
      "*******************************************************\n",
      "--- amzn review data ---\n",
      "\n",
      "<class 'pandas.core.frame.DataFrame'>\n",
      "RangeIndex: 1000 entries, 0 to 999\n",
      "Data columns (total 4 columns):\n",
      "document    1000 non-null object\n",
      "score       1000 non-null object\n",
      "source      1000 non-null object\n",
      "len         1000 non-null int64\n",
      "dtypes: int64(1), object(3)\n",
      "memory usage: 31.3+ KB\n"
     ]
    },
    {
     "data": {
      "text/html": [
       "<div>\n",
       "<table border=\"1\" class=\"dataframe\">\n",
       "  <thead>\n",
       "    <tr style=\"text-align: right;\">\n",
       "      <th></th>\n",
       "      <th>document</th>\n",
       "      <th>score</th>\n",
       "      <th>source</th>\n",
       "      <th>len</th>\n",
       "    </tr>\n",
       "  </thead>\n",
       "  <tbody>\n",
       "    <tr>\n",
       "      <th>0</th>\n",
       "      <td>So there is no way for me to plug it in here in the US unless I go by a converter.</td>\n",
       "      <td>0</td>\n",
       "      <td>amazon</td>\n",
       "      <td>82</td>\n",
       "    </tr>\n",
       "    <tr>\n",
       "      <th>1</th>\n",
       "      <td>Good case, Excellent value.</td>\n",
       "      <td>1</td>\n",
       "      <td>amazon</td>\n",
       "      <td>27</td>\n",
       "    </tr>\n",
       "    <tr>\n",
       "      <th>2</th>\n",
       "      <td>Great for the jawbone.</td>\n",
       "      <td>1</td>\n",
       "      <td>amazon</td>\n",
       "      <td>22</td>\n",
       "    </tr>\n",
       "    <tr>\n",
       "      <th>3</th>\n",
       "      <td>Tied to charger for conversations lasting more than 45 minutes.MAJOR PROBLEMS!!</td>\n",
       "      <td>0</td>\n",
       "      <td>amazon</td>\n",
       "      <td>79</td>\n",
       "    </tr>\n",
       "    <tr>\n",
       "      <th>4</th>\n",
       "      <td>The mic is great.</td>\n",
       "      <td>1</td>\n",
       "      <td>amazon</td>\n",
       "      <td>17</td>\n",
       "    </tr>\n",
       "  </tbody>\n",
       "</table>\n",
       "</div>"
      ],
      "text/plain": [
       "                                                                             document score  source  len\n",
       "0  So there is no way for me to plug it in here in the US unless I go by a converter.     0  amazon   82\n",
       "1                                                         Good case, Excellent value.     1  amazon   27\n",
       "2                                                              Great for the jawbone.     1  amazon   22\n",
       "3     Tied to charger for conversations lasting more than 45 minutes.MAJOR PROBLEMS!!     0  amazon   79\n",
       "4                                                                   The mic is great.     1  amazon   17"
      ]
     },
     "metadata": {},
     "output_type": "display_data"
    },
    {
     "name": "stdout",
     "output_type": "stream",
     "text": [
      "\n",
      "  SENTIMENT:\n",
      "    * negative doc count 500\n",
      "    * positive doc count 500\n",
      "\n",
      "  LENGTH:\n",
      "    negative:\n",
      "      * max of 149 w/ idx is/are:\n",
      " 65     The one big drawback of the MP3 player is that the buttons on the phone's front cover that let you pause and skip songs lock out after a few seconds.\n",
      "532    Unfortunately it's easy to accidentally activate them with the gentle-touch buttons if you accidentally touch the phone to your face while listening.\n",
      "Name: document, dtype: object\n",
      "      * min of 11 w/ idx is/are :\n",
      " 197    Bad Choice.\n",
      "572    Worst ever.\n",
      "Name: document, dtype: object\n",
      "\n",
      "    positive:\n",
      "      * max of w/ idx 148 is/are:\n",
      " 98    Best I've found so far .... I've tried 2 other bluetooths and this one has the best quality (for both me and the listener) as well as ease of using.\n",
      "Name: document, dtype: object\n",
      "      * min of w/ idx 11 is/are :\n",
      " 303    Good price.\n",
      "666    Nice Sound.\n",
      "689    Works well.\n",
      "777    WORTHWHILE.\n",
      "827    Good case!.\n",
      "857    (It works!)\n",
      "870    Works fine.\n",
      "877    Excellent!.\n",
      "923    cool phone.\n",
      "924    Works good.\n",
      "Name: document, dtype: object\n",
      "\n",
      "*******************************************************\n",
      "--- yelp review data ---\n",
      "\n",
      "<class 'pandas.core.frame.DataFrame'>\n",
      "RangeIndex: 1000 entries, 0 to 999\n",
      "Data columns (total 4 columns):\n",
      "document    1000 non-null object\n",
      "score       1000 non-null object\n",
      "source      1000 non-null object\n",
      "len         1000 non-null int64\n",
      "dtypes: int64(1), object(3)\n",
      "memory usage: 31.3+ KB\n"
     ]
    },
    {
     "data": {
      "text/html": [
       "<div>\n",
       "<table border=\"1\" class=\"dataframe\">\n",
       "  <thead>\n",
       "    <tr style=\"text-align: right;\">\n",
       "      <th></th>\n",
       "      <th>document</th>\n",
       "      <th>score</th>\n",
       "      <th>source</th>\n",
       "      <th>len</th>\n",
       "    </tr>\n",
       "  </thead>\n",
       "  <tbody>\n",
       "    <tr>\n",
       "      <th>0</th>\n",
       "      <td>Wow... Loved this place.</td>\n",
       "      <td>1</td>\n",
       "      <td>yelp</td>\n",
       "      <td>24</td>\n",
       "    </tr>\n",
       "    <tr>\n",
       "      <th>1</th>\n",
       "      <td>Crust is not good.</td>\n",
       "      <td>0</td>\n",
       "      <td>yelp</td>\n",
       "      <td>18</td>\n",
       "    </tr>\n",
       "    <tr>\n",
       "      <th>2</th>\n",
       "      <td>Not tasty and the texture was just nasty.</td>\n",
       "      <td>0</td>\n",
       "      <td>yelp</td>\n",
       "      <td>41</td>\n",
       "    </tr>\n",
       "    <tr>\n",
       "      <th>3</th>\n",
       "      <td>Stopped by during the late May bank holiday off Rick Steve recommendation and loved it.</td>\n",
       "      <td>1</td>\n",
       "      <td>yelp</td>\n",
       "      <td>87</td>\n",
       "    </tr>\n",
       "    <tr>\n",
       "      <th>4</th>\n",
       "      <td>The selection on the menu was great and so were the prices.</td>\n",
       "      <td>1</td>\n",
       "      <td>yelp</td>\n",
       "      <td>59</td>\n",
       "    </tr>\n",
       "  </tbody>\n",
       "</table>\n",
       "</div>"
      ],
      "text/plain": [
       "                                                                                  document score source  len\n",
       "0                                                                 Wow... Loved this place.     1   yelp   24\n",
       "1                                                                       Crust is not good.     0   yelp   18\n",
       "2                                                Not tasty and the texture was just nasty.     0   yelp   41\n",
       "3  Stopped by during the late May bank holiday off Rick Steve recommendation and loved it.     1   yelp   87\n",
       "4                              The selection on the menu was great and so were the prices.     1   yelp   59"
      ]
     },
     "metadata": {},
     "output_type": "display_data"
    },
    {
     "name": "stdout",
     "output_type": "stream",
     "text": [
      "\n",
      "  SENTIMENT:\n",
      "    * negative doc count 500\n",
      "    * positive doc count 500\n",
      "\n",
      "  LENGTH:\n",
      "    negative:\n",
      "      * max of 149 w/ idx is/are:\n",
      " 985    The problem I have is that they charge $11.99 for a sandwich that is no bigger than a Subway sub (which offers better and more amount of vegetables).\n",
      "Name: document, dtype: object\n",
      "      * min of 11 w/ idx is/are :\n",
      " 581    Over rated.\n",
      "Name: document, dtype: object\n",
      "\n",
      "    positive:\n",
      "      * max of w/ idx 148 is/are:\n",
      " 549    My boyfriend and I came here for the first time on a recent trip to Vegas and could not have been more pleased with the quality of food and service.\n",
      "Name: document, dtype: object\n",
      "      * min of w/ idx 11 is/are :\n",
      " 165    DELICIOUS!!\n",
      "479    I LOVED it!\n",
      "648    Great food.\n",
      "663    Both great!\n",
      "Name: document, dtype: object\n",
      "\n",
      "*******************************************************\n",
      "--- imdb review data ---\n",
      "\n",
      "<class 'pandas.core.frame.DataFrame'>\n",
      "RangeIndex: 1000 entries, 0 to 999\n",
      "Data columns (total 4 columns):\n",
      "document    1000 non-null object\n",
      "score       1000 non-null object\n",
      "source      1000 non-null object\n",
      "len         1000 non-null int64\n",
      "dtypes: int64(1), object(3)\n",
      "memory usage: 31.3+ KB\n"
     ]
    },
    {
     "data": {
      "text/html": [
       "<div>\n",
       "<table border=\"1\" class=\"dataframe\">\n",
       "  <thead>\n",
       "    <tr style=\"text-align: right;\">\n",
       "      <th></th>\n",
       "      <th>document</th>\n",
       "      <th>score</th>\n",
       "      <th>source</th>\n",
       "      <th>len</th>\n",
       "    </tr>\n",
       "  </thead>\n",
       "  <tbody>\n",
       "    <tr>\n",
       "      <th>0</th>\n",
       "      <td>A very, very, very slow-moving, aimless movie about a distressed, drifting young man.</td>\n",
       "      <td>0</td>\n",
       "      <td>imdb</td>\n",
       "      <td>87</td>\n",
       "    </tr>\n",
       "    <tr>\n",
       "      <th>1</th>\n",
       "      <td>Not sure who was more lost - the flat characters or the audience, nearly half of whom walked out.</td>\n",
       "      <td>0</td>\n",
       "      <td>imdb</td>\n",
       "      <td>99</td>\n",
       "    </tr>\n",
       "    <tr>\n",
       "      <th>2</th>\n",
       "      <td>Attempting artiness with black &amp; white and clever camera angles, the movie disappointed - became even more ridiculous - as the acting was poor and the plot and lines almost non-existent.</td>\n",
       "      <td>0</td>\n",
       "      <td>imdb</td>\n",
       "      <td>188</td>\n",
       "    </tr>\n",
       "    <tr>\n",
       "      <th>3</th>\n",
       "      <td>Very little music or anything to speak of.</td>\n",
       "      <td>0</td>\n",
       "      <td>imdb</td>\n",
       "      <td>44</td>\n",
       "    </tr>\n",
       "    <tr>\n",
       "      <th>4</th>\n",
       "      <td>The best scene in the movie was when Gerardo is trying to find a song that keeps running through his head.</td>\n",
       "      <td>1</td>\n",
       "      <td>imdb</td>\n",
       "      <td>108</td>\n",
       "    </tr>\n",
       "  </tbody>\n",
       "</table>\n",
       "</div>"
      ],
      "text/plain": [
       "                                                                                                                                                                                       document score source  len\n",
       "0                                                                                                       A very, very, very slow-moving, aimless movie about a distressed, drifting young man.       0   imdb   87\n",
       "1                                                                                           Not sure who was more lost - the flat characters or the audience, nearly half of whom walked out.       0   imdb   99\n",
       "2  Attempting artiness with black & white and clever camera angles, the movie disappointed - became even more ridiculous - as the acting was poor and the plot and lines almost non-existent.       0   imdb  188\n",
       "3                                                                                                                                                  Very little music or anything to speak of.       0   imdb   44\n",
       "4                                                                                  The best scene in the movie was when Gerardo is trying to find a song that keeps running through his head.       1   imdb  108"
      ]
     },
     "metadata": {},
     "output_type": "display_data"
    },
    {
     "name": "stdout",
     "output_type": "stream",
     "text": [
      "\n",
      "  SENTIMENT:\n",
      "    * negative doc count 500\n",
      "    * positive doc count 500\n",
      "\n",
      "  LENGTH:\n",
      "    negative:\n",
      "      * max of 321 w/ idx is/are:\n",
      " 428    The use of slow-motion needlessly repeats itself throughout the movie but is well backed up by bad acting (and bad is a kind word here), no continuity, scenes that are thrown in for no reason whatsoever, vehicles that looked like they were made from a Corn Flakes box and a directorial style that bordered on stupidity.  \n",
      "Name: document, dtype: object\n",
      "      * min of 8 w/ idx is/are :\n",
      " 162    Awful.  \n",
      "Name: document, dtype: object\n",
      "\n",
      "    positive:\n",
      "      * max of w/ idx 479 is/are:\n",
      " 620    This is a masterful piece of film-making, with many themes simmering and occasionally boiling over in this warts and all study of the poet's bohemian, self-indulgent wartime years that span the aerial bombardments of London and the outward tranquillity of a Welsh coastal retreat - the borderlines between friendship, lust and love, dedication to art and experience versus practical concerns, jealousy, rivalry, cowardice and egotism versus heroism and self-sacrifice and more.  \n",
      "Name: document, dtype: object\n",
      "      * min of w/ idx 7 is/are :\n",
      " 125    10/10  \n",
      "788    10/10  \n",
      "Name: document, dtype: object\n",
      "\n"
     ]
    }
   ],
   "source": [
    "# exploring the data\n",
    "lst = [('amzn', amzn_df),\n",
    "        ('yelp', yelp_df),\n",
    "        ('imdb', imdb_df)]\n",
    "for tup in lst:\n",
    "    df_neg = pd.DataFrame()\n",
    "    df_pos = pd.DataFrame()\n",
    "    print('*'*55)\n",
    "    print('--- {} review data ---\\n'.format(tup[0]))\n",
    "    tup[1].info()\n",
    "    display(tup[1].head())\n",
    "    print('')\n",
    "    print('  SENTIMENT:')\n",
    "    print('    * negative doc count {}'.format(tup[1]['score'].value_counts()[0]))\n",
    "    print('    * positive doc count {}\\n'.format(tup[1]['score'].value_counts()[1]))\n",
    "\n",
    "    neg_sentiment = tup[1]['score'] == '0'\n",
    "    df_neg = tup[1][neg_sentiment == True].copy()\n",
    "    df_pos = tup[1][neg_sentiment == False].copy()\n",
    "    max_neg = df_neg['len'].max()\n",
    "    min_neg = df_neg['len'].min()\n",
    "    max_pos = df_pos['len'].max()\n",
    "    min_pos = df_pos['len'].min()\n",
    "    \n",
    "    print('  LENGTH:')\n",
    "    print('    negative:')\n",
    "    print('      * max of {} w/ idx is/are:\\n {}'.format(max_neg, df_neg['document'][df_neg['len'] == max_neg]))\n",
    "    print('      * min of {} w/ idx is/are :\\n {}\\n'.format(min_neg, df_neg['document'][df_neg['len'] == min_neg]))\n",
    "    print('    positive:')\n",
    "    print('      * max of w/ idx {} is/are:\\n {}'.format(max_pos, df_pos['document'][df_pos['len'] == max_pos]))\n",
    "    print('      * min of w/ idx {} is/are :\\n {}\\n'.format(min_pos, df_pos['document'][df_pos['len'] == min_pos]))"
   ]
  },
  {
   "cell_type": "markdown",
   "metadata": {},
   "source": [
    "### Split data between training and testing\n",
    "-----\n",
    "\n",
    "#### Combine all three data sets, then check\n",
    "We will create a dataframe with all of the reviews, their sentiment scores, and the length. Later we can add the predictions for later comparison between models and inspecting differences between successful/failed predictions."
   ]
  },
  {
   "cell_type": "code",
   "execution_count": 13,
   "metadata": {},
   "outputs": [
    {
     "name": "stdout",
     "output_type": "stream",
     "text": [
      "<class 'pandas.core.frame.DataFrame'>\n",
      "RangeIndex: 3000 entries, 0 to 2999\n",
      "Data columns (total 4 columns):\n",
      "document    3000 non-null object\n",
      "score       3000 non-null int32\n",
      "source      3000 non-null object\n",
      "len         3000 non-null int64\n",
      "dtypes: int32(1), int64(1), object(2)\n",
      "memory usage: 82.1+ KB\n"
     ]
    },
    {
     "data": {
      "text/html": [
       "<div>\n",
       "<table border=\"1\" class=\"dataframe\">\n",
       "  <thead>\n",
       "    <tr style=\"text-align: right;\">\n",
       "      <th></th>\n",
       "      <th>document</th>\n",
       "      <th>score</th>\n",
       "      <th>source</th>\n",
       "      <th>len</th>\n",
       "    </tr>\n",
       "  </thead>\n",
       "  <tbody>\n",
       "    <tr>\n",
       "      <th>0</th>\n",
       "      <td>A very, very, very slow-moving, aimless movie about a distressed, drifting young man.</td>\n",
       "      <td>0</td>\n",
       "      <td>imdb</td>\n",
       "      <td>87</td>\n",
       "    </tr>\n",
       "    <tr>\n",
       "      <th>1</th>\n",
       "      <td>Not sure who was more lost - the flat characters or the audience, nearly half of whom walked out.</td>\n",
       "      <td>0</td>\n",
       "      <td>imdb</td>\n",
       "      <td>99</td>\n",
       "    </tr>\n",
       "    <tr>\n",
       "      <th>2</th>\n",
       "      <td>Attempting artiness with black &amp; white and clever camera angles, the movie disappointed - became even more ridiculous - as the acting was poor and the plot and lines almost non-existent.</td>\n",
       "      <td>0</td>\n",
       "      <td>imdb</td>\n",
       "      <td>188</td>\n",
       "    </tr>\n",
       "    <tr>\n",
       "      <th>3</th>\n",
       "      <td>Very little music or anything to speak of.</td>\n",
       "      <td>0</td>\n",
       "      <td>imdb</td>\n",
       "      <td>44</td>\n",
       "    </tr>\n",
       "    <tr>\n",
       "      <th>4</th>\n",
       "      <td>The best scene in the movie was when Gerardo is trying to find a song that keeps running through his head.</td>\n",
       "      <td>1</td>\n",
       "      <td>imdb</td>\n",
       "      <td>108</td>\n",
       "    </tr>\n",
       "  </tbody>\n",
       "</table>\n",
       "</div>"
      ],
      "text/plain": [
       "                                                                                                                                                                                       document  score source  len\n",
       "0                                                                                                       A very, very, very slow-moving, aimless movie about a distressed, drifting young man.        0   imdb   87\n",
       "1                                                                                           Not sure who was more lost - the flat characters or the audience, nearly half of whom walked out.        0   imdb   99\n",
       "2  Attempting artiness with black & white and clever camera angles, the movie disappointed - became even more ridiculous - as the acting was poor and the plot and lines almost non-existent.        0   imdb  188\n",
       "3                                                                                                                                                  Very little music or anything to speak of.        0   imdb   44\n",
       "4                                                                                  The best scene in the movie was when Gerardo is trying to find a song that keeps running through his head.        1   imdb  108"
      ]
     },
     "metadata": {},
     "output_type": "display_data"
    },
    {
     "name": "stdout",
     "output_type": "stream",
     "text": [
      "counts for each source:\n",
      "yelp      1000\n",
      "imdb      1000\n",
      "amazon    1000\n",
      "Name: source, dtype: int64\n"
     ]
    }
   ],
   "source": [
    "frames = []\n",
    "frames = [imdb_df, amzn_df, yelp_df]\n",
    "all_reviews = pd.concat(frames, ignore_index=True, axis=0)\n",
    "all_reviews['score'] = all_reviews['score'].astype(int)\n",
    "all_reviews.info()\n",
    "display(all_reviews.head())\n",
    "print('counts for each source:')\n",
    "print(all_reviews['source'].value_counts())"
   ]
  },
  {
   "cell_type": "code",
   "execution_count": 14,
   "metadata": {
    "collapsed": true
   },
   "outputs": [],
   "source": [
    "# save combined data \n",
    "path = os.path.join(DATA_PATH, \"combined_raw_data_\" + TODAY + \".csv\")\n",
    "all_reviews[['document','score','source']].to_csv(path, index=0)"
   ]
  },
  {
   "cell_type": "markdown",
   "metadata": {},
   "source": [
    "__Split the data between train and test.__"
   ]
  },
  {
   "cell_type": "code",
   "execution_count": 15,
   "metadata": {},
   "outputs": [
    {
     "name": "stdout",
     "output_type": "stream",
     "text": [
      "TRAINING:\n",
      "  length of X_train: 2400\n",
      "\n",
      "  Samples per class (training):\n",
      "0    1207\n",
      "1    1193\n",
      "Name: score, dtype: int64\n",
      "\n",
      "TESTING:\n",
      "  length of : 600\n",
      "\n",
      "  Samples per class (training):\n",
      "1    307\n",
      "0    293\n",
      "Name: score, dtype: int64\n",
      "\n"
     ]
    }
   ],
   "source": [
    "# then split between train/test\n",
    "# looks like the data is split relatively evenly between classes [0,1]\n",
    "# checking that stratify and shuffle are, in fact, the default\n",
    "X_train, X_test, y_train, y_test = train_test_split(all_reviews['document'],\n",
    "                                                    all_reviews['score'],\n",
    "                                                    random_state=42, \n",
    "                                                    test_size=0.2\n",
    "                                                   )\n",
    "print('TRAINING:')\n",
    "print('  length of X_train: {}\\n'.format(len(X_train)))\n",
    "print(\"  Samples per class (training):\\n{}\\n\".format(y_train.value_counts()))\n",
    "\n",
    "print('TESTING:')\n",
    "print('  length of : {}\\n'.format(len(X_test)))\n",
    "print(\"  Samples per class (training):\\n{}\\n\".format(y_test.value_counts()))"
   ]
  },
  {
   "cell_type": "markdown",
   "metadata": {},
   "source": [
    "__NOTE:__ Even though the __`source`__ column has not been passed to __`train_test_split`__, the training data is stratified across __`source`__ and the __`target class`__."
   ]
  },
  {
   "cell_type": "code",
   "execution_count": 16,
   "metadata": {},
   "outputs": [
    {
     "name": "stdout",
     "output_type": "stream",
     "text": [
      "Splits between target:\n",
      "----------------------\n",
      "source  score\n",
      "amazon  0        398\n",
      "        1        405\n",
      "imdb    0        397\n",
      "        1        386\n",
      "yelp    0        412\n",
      "        1        402\n",
      "dtype: int64\n"
     ]
    }
   ],
   "source": [
    "print('Splits between target:\\n----------------------')\n",
    "print(X_train.to_frame().merge(all_reviews, \n",
    "                         how='inner', \n",
    "                         left_index=True, \n",
    "                         right_index=True).groupby(['source','score']).size())"
   ]
  },
  {
   "cell_type": "markdown",
   "metadata": {},
   "source": [
    "Now that we have some intuition on how cleaning and preprocessing transforms the data, let's examine the benchmark model."
   ]
  },
  {
   "cell_type": "markdown",
   "metadata": {},
   "source": [
    "## Benchmark / Baseline - Naive Predictor Performance \n",
    "-----\n",
    "*  simple baseline is just guessing the majority class (which in this case the dataset has been carefully selected to be balanced)\n",
    "  * the guess should be 0.50 and the same for the f1 score (and this is what we see in the results below)\n",
    "  \n",
    "### Metrics\n",
    "-----\n",
    "**F-beta score** as a metric that considers both precision and recall:\n",
    "\n",
    "$$ F_{\\beta} = (1 + \\beta^2) \\cdot \\frac{precision \\cdot recall}{\\left( \\beta^2 \\cdot precision \\right) + recall} $$\n",
    "  \n",
    "  * In particular, when $\\beta = 0.5$, more emphasis is placed on precision. \n",
    "  * This is called the **F$_{0.5}$ score** (or F-score for simplicity). [Precision and Recall wikipeadia](https://en.wikipedia.org/wiki/Precision_and_recall)\n",
    "  \n",
    "\n",
    "** Accuracy ** measures how often the classifier makes the correct prediction. It’s the ratio of the number of correct predictions to the total number of predictions (the number of test data points).\n",
    "\n",
    "$$ Accuracy = \\frac{tn + tp}{tp + tn + fp + fn} $$\n",
    "\n",
    "\n",
    "** Precision ** tells us what proportion of messages we classified as spam, actually were spam.\n",
    "It is a ratio of true positives(words classified as spam, and which are actually spam) to all positives(all words classified as spam, irrespective of whether that was the correct classificatio), in other words it is the ratio of\n",
    "\n",
    "$$ Precision = \\frac{tp}{tp + fp} $$\n",
    "\n",
    "** Recall(sensitivity)** tells us what proportion of messages that actually were spam were classified by us as spam.\n",
    "It is a ratio of true positives(words classified as spam, and which are actually spam) to all the words that were actually spam, in other words it is the ratio of\n",
    "\n",
    "$$ Recall = \\frac{tp}{tp + fn} $$"
   ]
  },
  {
   "cell_type": "code",
   "execution_count": 17,
   "metadata": {},
   "outputs": [
    {
     "name": "stdout",
     "output_type": "stream",
     "text": [
      "Naive Predictor: [Accuracy score: 0.5000, F-score: 0.5556]\n"
     ]
    }
   ],
   "source": [
    "y = all_reviews['score']\n",
    "TP = np.sum(y) # Counting the ones as this is the naive case. \n",
    "#Note that 'income' is the 'income_raw' data encoded to numerical values done in the data preprocessing step.\n",
    "\n",
    "FP = y.count() - TP # Specific to the naive case\n",
    "\n",
    "TN = 0 # No predicted negatives in the naive case\n",
    "FN = 0 # No predicted negatives in the naive case\n",
    "\n",
    "# Calculate accuracy, precision and recall\n",
    "accuracy = float(TP + TN) / (TP + FP + TN + FN)\n",
    "recall = float(TP) / (TP + FN)\n",
    "precision = float(TP) / (TP + FP)\n",
    "Beta = 0.5\n",
    "\n",
    "# Calculate F-score using the formula above for beta = 0.5 and correct values for precision and recall.\n",
    "fscore = (1 + Beta**2) * (precision * recall) / ((Beta**2 * precision) + recall)\n",
    "\n",
    "# Print the results \n",
    "print(\"Naive Predictor: [Accuracy score: {:.4f}, F-score: {:.4f}]\".format(accuracy, fscore))"
   ]
  },
  {
   "cell_type": "markdown",
   "metadata": {},
   "source": [
    "## Feature Engineering - Hand-crafted\n",
    "-----\n",
    "  \n",
    "* Sentence level features were created and will applied using helper functions that have been coded into the __`helpers.py`__ file. \n",
    "\n",
    "\n",
    "* Sentence level features are based upon the __*raw text*__. \n",
    "  * This is an attempt to regain information that may have been lost due to the processing of normalization, standardization and cleanup. \n",
    "  * This is accomlished by using a customer parser, demonstrated below.\n",
    "  * Spoiler alert, this was not very successful."
   ]
  },
  {
   "cell_type": "code",
   "execution_count": 18,
   "metadata": {},
   "outputs": [
    {
     "name": "stdout",
     "output_type": "stream",
     "text": [
      "['That', 'U.S.A.', 'poster-print', 'costs', '$12.40', '...']\n"
     ]
    }
   ],
   "source": [
    "# There are many types of tokenizers that could be used http://www.nltk.org/api/nltk.tokenize.html#nltk.tokenize.regexp.RegexpTokenizer\n",
    "# from github issues: https://stackoverflow.com/questions/36353125/nltk-regular-expression-tokenizer\n",
    "text = 'That U.S.A. poster-print costs $12.40...'\n",
    "\n",
    "pattern = r'''(?x)          # set flag to allow verbose regexps\n",
    "        (?:[A-Z]\\.)+        # abbreviations, e.g. U.S.A.\n",
    "      | \\w+(?:-\\w+)*        # words with optional internal hyphens\n",
    "      | \\$?\\d+(?:\\.\\d+)?%?  # currency and percentages, e.g. $12.40, 82%\n",
    "      | \\.\\.\\.              # ellipsis\n",
    "      | [][.,;\"'?():_`-]    # these are separate tokens; includes ], [\n",
    "    '''\n",
    "custome_tokenizer_test = nltk.regexp_tokenize(text=text, pattern=pattern)\n",
    "print(custome_tokenizer_test)\n",
    "#['That', 'U.S.A.', 'poster-print', 'costs', '$12.40', '...']"
   ]
  },
  {
   "cell_type": "markdown",
   "metadata": {
    "collapsed": true
   },
   "source": [
    "## Custom Sentence Level Features\n",
    "-----\n",
    "* From the NLTK online book, using Python to represent the following is natural and intuitive:\n",
    "  * __{*w* | *w* E V & *P*(*w*)}__\n",
    "  * which means, \"The set of all w such that w is an element of V (vocabulary) and w has property P.\"\n",
    "  * This can be represented in Python using a list generator:\n",
    "    * __`[w for w in V if p(w)]`__\n",
    "    * this is the form used to produce the sentence level features\n",
    "\n",
    "\n",
    "* Sentence Level Features include:\n",
    "  * __`is_capitalized`__ - True/False if the sentence starts with a capitalized letter\n",
    "  * __`all_caps_sent`__ - True/False if the sentence is all caps\n",
    "  * __`all_caps_word_cnt`__ - Integer number of words in the sentence which are all caps\n",
    "  * __`is_all_lower`__ - True/False if the sentene is all lower case\n",
    "  * __`num_chars`__ - Integer number of characters in the sentence\n",
    "  * __`word_count`__ - Integer number of total words (including duplicates) in the sentence\n",
    "  * __`word_to_char_frac`__ - this is average number of characters per word per sentence \n",
    "  * __`vocab_size`__ - Integer number of unique words in the sentence\n",
    "  * __`diversity_score`__ - Float number fraction of total words / total unique words (aka lexical diversity)\n",
    "  * __`frac_unusual`__ - Float number fraction of unusual English words which are defined here as unusual or mispelled words using Word Corpus from the /user/share/dict/words Unix file used by spellcheckers\n",
    "  * __`frac_non_stop_words`__ - Float number fraction of stop words in a sentence\n",
    "  \n",
    "  \n",
    "* These sentence level features will be used as inputs to models.\n",
    "\n",
    "\n",
    "* There are more that features I wanted to add, but did not have time:\n",
    "  * more sentence level features:\n",
    "    * if there are elipsis in the sentence\n",
    "    * if there are hyphenated words\n",
    "    * if there are abbreviations\n",
    "    * if money is in the sentence ex. 'All that for \\$15.00\\!\\!\\!'\n",
    "  * word level features"
   ]
  },
  {
   "cell_type": "code",
   "execution_count": 19,
   "metadata": {},
   "outputs": [
    {
     "data": {
      "text/plain": [
       "{'all_caps_sent': False,\n",
       " 'all_caps_word_cnt': 1,\n",
       " 'diversity_score': 1,\n",
       " 'frac_non_stop_words': 0,\n",
       " 'frac_unusual': 0,\n",
       " 'is_all_lower': False,\n",
       " 'is_capitalized': True,\n",
       " 'num_chars': 36,\n",
       " 'vocab_size': 6,\n",
       " 'word_count': 6,\n",
       " 'word_to_char_frac': 6}"
      ]
     },
     "execution_count": 19,
     "metadata": {},
     "output_type": "execute_result"
    }
   ],
   "source": [
    "# example output of the customer sentence level features\n",
    "h.engineered_sentence_features(custome_tokenizer_test) "
   ]
  },
  {
   "cell_type": "code",
   "execution_count": 20,
   "metadata": {},
   "outputs": [
    {
     "data": {
      "text/html": [
       "<div>\n",
       "<table border=\"1\" class=\"dataframe\">\n",
       "  <thead>\n",
       "    <tr style=\"text-align: right;\">\n",
       "      <th></th>\n",
       "      <th>0</th>\n",
       "    </tr>\n",
       "  </thead>\n",
       "  <tbody>\n",
       "    <tr>\n",
       "      <th>vocab_size</th>\n",
       "      <td>6</td>\n",
       "    </tr>\n",
       "    <tr>\n",
       "      <th>diversity_score</th>\n",
       "      <td>1</td>\n",
       "    </tr>\n",
       "    <tr>\n",
       "      <th>is_capitalized</th>\n",
       "      <td>True</td>\n",
       "    </tr>\n",
       "    <tr>\n",
       "      <th>word_count</th>\n",
       "      <td>6</td>\n",
       "    </tr>\n",
       "    <tr>\n",
       "      <th>num_chars</th>\n",
       "      <td>36</td>\n",
       "    </tr>\n",
       "    <tr>\n",
       "      <th>word_to_char_frac</th>\n",
       "      <td>6</td>\n",
       "    </tr>\n",
       "    <tr>\n",
       "      <th>frac_non_stop_words</th>\n",
       "      <td>0</td>\n",
       "    </tr>\n",
       "    <tr>\n",
       "      <th>all_caps_sent</th>\n",
       "      <td>False</td>\n",
       "    </tr>\n",
       "    <tr>\n",
       "      <th>is_all_lower</th>\n",
       "      <td>False</td>\n",
       "    </tr>\n",
       "    <tr>\n",
       "      <th>all_caps_word_cnt</th>\n",
       "      <td>1</td>\n",
       "    </tr>\n",
       "    <tr>\n",
       "      <th>frac_unusual</th>\n",
       "      <td>0</td>\n",
       "    </tr>\n",
       "  </tbody>\n",
       "</table>\n",
       "</div>"
      ],
      "text/plain": [
       "                         0\n",
       "vocab_size               6\n",
       "diversity_score          1\n",
       "is_capitalized        True\n",
       "word_count               6\n",
       "num_chars               36\n",
       "word_to_char_frac        6\n",
       "frac_non_stop_words      0\n",
       "all_caps_sent        False\n",
       "is_all_lower         False\n",
       "all_caps_word_cnt        1\n",
       "frac_unusual             0"
      ]
     },
     "execution_count": 20,
     "metadata": {},
     "output_type": "execute_result"
    }
   ],
   "source": [
    "# view this in a transposed dataframe format\n",
    "pd.DataFrame.from_dict(h.engineered_sentence_features(custome_tokenizer_test), \n",
    "                       orient='index')"
   ]
  },
  {
   "cell_type": "markdown",
   "metadata": {
    "collapsed": true
   },
   "source": [
    "## Preprocess DataFrame for ML Algos\n",
    "-----\n",
    "* apply custom_tokenizer\n",
    "* apply engineered_sentence_features"
   ]
  },
  {
   "cell_type": "code",
   "execution_count": 21,
   "metadata": {},
   "outputs": [
    {
     "data": {
      "text/html": [
       "<div>\n",
       "<table border=\"1\" class=\"dataframe\">\n",
       "  <thead>\n",
       "    <tr style=\"text-align: right;\">\n",
       "      <th></th>\n",
       "      <th>document</th>\n",
       "      <th>custom_tokens</th>\n",
       "    </tr>\n",
       "  </thead>\n",
       "  <tbody>\n",
       "    <tr>\n",
       "      <th>0</th>\n",
       "      <td>A very, very, very slow-moving, aimless movie about a distressed, drifting young man.</td>\n",
       "      <td>[A, very, ,, very, ,, very, slow-moving, ,, aimless, movie, about, a, distressed, ,, drifting, young, man, .]</td>\n",
       "    </tr>\n",
       "    <tr>\n",
       "      <th>1</th>\n",
       "      <td>Not sure who was more lost - the flat characters or the audience, nearly half of whom walked out.</td>\n",
       "      <td>[Not, sure, who, was, more, lost, -, the, flat, characters, or, the, audience, ,, nearly, half, of, whom, walked, out, .]</td>\n",
       "    </tr>\n",
       "    <tr>\n",
       "      <th>2</th>\n",
       "      <td>Attempting artiness with black &amp; white and clever camera angles, the movie disappointed - became even more ridiculous - as the acting was poor and the plot and lines almost non-existent.</td>\n",
       "      <td>[Attempting, artiness, with, black, white, and, clever, camera, angles, ,, the, movie, disappointed, -, became, even, more, ridiculous, -, as, the, acting, was, poor, and, the, plot, and, lines, almost, non-existent, .]</td>\n",
       "    </tr>\n",
       "    <tr>\n",
       "      <th>3</th>\n",
       "      <td>Very little music or anything to speak of.</td>\n",
       "      <td>[Very, little, music, or, anything, to, speak, of, .]</td>\n",
       "    </tr>\n",
       "    <tr>\n",
       "      <th>4</th>\n",
       "      <td>The best scene in the movie was when Gerardo is trying to find a song that keeps running through his head.</td>\n",
       "      <td>[The, best, scene, in, the, movie, was, when, Gerardo, is, trying, to, find, a, song, that, keeps, running, through, his, head, .]</td>\n",
       "    </tr>\n",
       "  </tbody>\n",
       "</table>\n",
       "</div>"
      ],
      "text/plain": [
       "                                                                                                                                                                                       document                                                                                                                                                                                                                custom_tokens\n",
       "0                                                                                                       A very, very, very slow-moving, aimless movie about a distressed, drifting young man.                                                                                                                  [A, very, ,, very, ,, very, slow-moving, ,, aimless, movie, about, a, distressed, ,, drifting, young, man, .]\n",
       "1                                                                                           Not sure who was more lost - the flat characters or the audience, nearly half of whom walked out.                                                                                                      [Not, sure, who, was, more, lost, -, the, flat, characters, or, the, audience, ,, nearly, half, of, whom, walked, out, .]\n",
       "2  Attempting artiness with black & white and clever camera angles, the movie disappointed - became even more ridiculous - as the acting was poor and the plot and lines almost non-existent.    [Attempting, artiness, with, black, white, and, clever, camera, angles, ,, the, movie, disappointed, -, became, even, more, ridiculous, -, as, the, acting, was, poor, and, the, plot, and, lines, almost, non-existent, .]\n",
       "3                                                                                                                                                  Very little music or anything to speak of.                                                                                                                                                                          [Very, little, music, or, anything, to, speak, of, .]\n",
       "4                                                                                  The best scene in the movie was when Gerardo is trying to find a song that keeps running through his head.                                                                                             [The, best, scene, in, the, movie, was, when, Gerardo, is, trying, to, find, a, song, that, keeps, running, through, his, head, .]"
      ]
     },
     "execution_count": 21,
     "metadata": {},
     "output_type": "execute_result"
    }
   ],
   "source": [
    "# apply custom tokenizer to the dataframe with raw text\n",
    "custom_tokenizer = RegexpTokenizer(pattern)\n",
    "\n",
    "all_reviews[\"custom_tokens\"] = all_reviews[\"document\"].apply(custom_tokenizer.tokenize)\n",
    "\n",
    "# review sample output\n",
    "all_reviews[['document','custom_tokens']].head()"
   ]
  },
  {
   "cell_type": "markdown",
   "metadata": {
    "collapsed": true
   },
   "source": [
    "__Inspect the Custom Tokens__\n",
    "  * The majority of the sentences are within the inner quartile range between 6 and 19 with the median near 12.\n",
    "  * Even though there are some long documents, the majority are within a similar range.\n",
    "  * Amazon and Yelp are more similar thah iMDB, which tends to have lenthier documents and appears to have more outliers."
   ]
  },
  {
   "cell_type": "code",
   "execution_count": 22,
   "metadata": {},
   "outputs": [
    {
     "name": "stdout",
     "output_type": "stream",
     "text": [
      "41659 words total, with a vocabulary size of 6022\n",
      "Max sentence length is 81\n"
     ]
    }
   ],
   "source": [
    "all_words = [word for tokens in all_reviews[\"custom_tokens\"] for word in tokens]\n",
    "sentence_lengths = [len(tokens) for tokens in all_reviews[\"custom_tokens\"]]\n",
    "VOCAB = sorted(list(set(all_words)))\n",
    "print(\"%s words total, with a vocabulary size of %s\" % (len(all_words), len(VOCAB)))\n",
    "print(\"Max sentence length is %s\" % max(sentence_lengths))"
   ]
  },
  {
   "cell_type": "code",
   "execution_count": 23,
   "metadata": {},
   "outputs": [
    {
     "name": "stdout",
     "output_type": "stream",
     "text": [
      "('Saving figure', 'sentence_length_distribution')\n"
     ]
    },
    {
     "data": {
      "image/png": "[encoded data removed]",
      "text/plain": [
       "<matplotlib.figure.Figure at 0xded3cc0>"
      ]
     },
     "metadata": {},
     "output_type": "display_data"
    }
   ],
   "source": [
    "# this is a general view of sentence length, \n",
    "# including positive and negative sentement\n",
    "fig = plt.figure(figsize=(10, 10)) \n",
    "plt.xlabel('Sentence length')\n",
    "plt.ylabel('Number of sentences')\n",
    "plt.title('Sentence Length Frequecy')\n",
    "plt.hist(sentence_lengths,bins=81)\n",
    "save_fig(\"sentence_length_distribution\",tight_layout=False)\n",
    "plt.show()"
   ]
  },
  {
   "cell_type": "code",
   "execution_count": 24,
   "metadata": {},
   "outputs": [
    {
     "name": "stdout",
     "output_type": "stream",
     "text": [
      "('Saving figure', 'sentence_length_boxplot')\n"
     ]
    },
    {
     "data": {
      "image/png": "[encoded data removed]",
      "text/plain": [
       "<matplotlib.figure.Figure at 0xde4c8d0>"
      ]
     },
     "metadata": {},
     "output_type": "display_data"
    }
   ],
   "source": [
    "# sentence length by word count\n",
    "# boxplot showing the median near 12, and the upper and lower quartiles\n",
    "sns.boxplot(sentence_lengths)\n",
    "save_fig(\"sentence_length_boxplot\",tight_layout=False)"
   ]
  },
  {
   "cell_type": "code",
   "execution_count": 25,
   "metadata": {},
   "outputs": [
    {
     "name": "stdout",
     "output_type": "stream",
     "text": [
      "('Saving figure', 'sentence_length_boxplots_per_source')\n"
     ]
    },
    {
     "data": {
      "image/png": "[encoded data removed]",
      "text/plain": [
       "<matplotlib.figure.Figure at 0x10ed3160>"
      ]
     },
     "metadata": {},
     "output_type": "display_data"
    }
   ],
   "source": [
    "# breakdown of the sentence lengths by character count by source\n",
    "sns.boxplot(y=all_reviews['source'], x=all_reviews['len'], palette='Blues')\n",
    "save_fig(\"sentence_length_boxplots_per_source\",tight_layout=False)"
   ]
  },
  {
   "cell_type": "raw",
   "metadata": {
    "collapsed": true
   },
   "source": [
    "# apply custom features to the data\n",
    "test_df = all_reviews.copy().head()\n",
    "test_df['engineered_sentence_features'] = test_df['custom_tokens'].apply(h.engineered_sentence_features)\n",
    "\n",
    "test_df['engineered_sentence_features'].apply(pd.Series)"
   ]
  },
  {
   "cell_type": "code",
   "execution_count": 26,
   "metadata": {},
   "outputs": [
    {
     "name": "stdout",
     "output_type": "stream",
     "text": [
      "<class 'pandas.core.frame.DataFrame'>\n",
      "Int64Index: 3000 entries, 0 to 2999\n",
      "Data columns (total 11 columns):\n",
      "all_caps_sent          3000 non-null bool\n",
      "all_caps_word_cnt      3000 non-null int64\n",
      "diversity_score        3000 non-null float64\n",
      "frac_non_stop_words    3000 non-null float64\n",
      "frac_unusual           3000 non-null float64\n",
      "is_all_lower           3000 non-null bool\n",
      "is_capitalized         3000 non-null bool\n",
      "num_chars              3000 non-null int64\n",
      "vocab_size             3000 non-null int64\n",
      "word_count             3000 non-null int64\n",
      "word_to_char_frac      3000 non-null float64\n",
      "dtypes: bool(3), float64(4), int64(4)\n",
      "memory usage: 219.7 KB\n"
     ]
    },
    {
     "data": {
      "text/plain": [
       "None"
      ]
     },
     "metadata": {},
     "output_type": "display_data"
    },
    {
     "data": {
      "text/html": [
       "<div>\n",
       "<table border=\"1\" class=\"dataframe\">\n",
       "  <thead>\n",
       "    <tr style=\"text-align: right;\">\n",
       "      <th></th>\n",
       "      <th>all_caps_sent</th>\n",
       "      <th>all_caps_word_cnt</th>\n",
       "      <th>diversity_score</th>\n",
       "      <th>frac_non_stop_words</th>\n",
       "      <th>frac_unusual</th>\n",
       "      <th>is_all_lower</th>\n",
       "      <th>is_capitalized</th>\n",
       "      <th>num_chars</th>\n",
       "      <th>vocab_size</th>\n",
       "      <th>word_count</th>\n",
       "      <th>word_to_char_frac</th>\n",
       "    </tr>\n",
       "  </thead>\n",
       "  <tbody>\n",
       "    <tr>\n",
       "      <th>0</th>\n",
       "      <td>False</td>\n",
       "      <td>1</td>\n",
       "      <td>1.384615</td>\n",
       "      <td>0.666667</td>\n",
       "      <td>0.000000</td>\n",
       "      <td>False</td>\n",
       "      <td>True</td>\n",
       "      <td>73</td>\n",
       "      <td>12</td>\n",
       "      <td>18</td>\n",
       "      <td>4.055556</td>\n",
       "    </tr>\n",
       "    <tr>\n",
       "      <th>1</th>\n",
       "      <td>False</td>\n",
       "      <td>0</td>\n",
       "      <td>1.050000</td>\n",
       "      <td>0.523810</td>\n",
       "      <td>0.095238</td>\n",
       "      <td>False</td>\n",
       "      <td>True</td>\n",
       "      <td>79</td>\n",
       "      <td>20</td>\n",
       "      <td>21</td>\n",
       "      <td>3.761905</td>\n",
       "    </tr>\n",
       "    <tr>\n",
       "      <th>2</th>\n",
       "      <td>False</td>\n",
       "      <td>0</td>\n",
       "      <td>1.185185</td>\n",
       "      <td>0.687500</td>\n",
       "      <td>0.093750</td>\n",
       "      <td>False</td>\n",
       "      <td>True</td>\n",
       "      <td>155</td>\n",
       "      <td>27</td>\n",
       "      <td>32</td>\n",
       "      <td>4.843750</td>\n",
       "    </tr>\n",
       "    <tr>\n",
       "      <th>3</th>\n",
       "      <td>False</td>\n",
       "      <td>0</td>\n",
       "      <td>1.000000</td>\n",
       "      <td>0.555556</td>\n",
       "      <td>0.000000</td>\n",
       "      <td>False</td>\n",
       "      <td>True</td>\n",
       "      <td>35</td>\n",
       "      <td>9</td>\n",
       "      <td>9</td>\n",
       "      <td>3.888889</td>\n",
       "    </tr>\n",
       "    <tr>\n",
       "      <th>4</th>\n",
       "      <td>False</td>\n",
       "      <td>0</td>\n",
       "      <td>1.000000</td>\n",
       "      <td>0.500000</td>\n",
       "      <td>0.090909</td>\n",
       "      <td>False</td>\n",
       "      <td>True</td>\n",
       "      <td>86</td>\n",
       "      <td>21</td>\n",
       "      <td>22</td>\n",
       "      <td>3.909091</td>\n",
       "    </tr>\n",
       "  </tbody>\n",
       "</table>\n",
       "</div>"
      ],
      "text/plain": [
       "  all_caps_sent  all_caps_word_cnt  diversity_score  frac_non_stop_words  frac_unusual is_all_lower is_capitalized  num_chars  vocab_size  word_count  word_to_char_frac\n",
       "0         False                  1         1.384615             0.666667      0.000000        False           True         73          12          18           4.055556\n",
       "1         False                  0         1.050000             0.523810      0.095238        False           True         79          20          21           3.761905\n",
       "2         False                  0         1.185185             0.687500      0.093750        False           True        155          27          32           4.843750\n",
       "3         False                  0         1.000000             0.555556      0.000000        False           True         35           9           9           3.888889\n",
       "4         False                  0         1.000000             0.500000      0.090909        False           True         86          21          22           3.909091"
      ]
     },
     "metadata": {},
     "output_type": "display_data"
    }
   ],
   "source": [
    "# since the apply functions are slow, use the data saved from previous run\n",
    "if DATA_PATH:\n",
    "    df_engineered_sentence_features = pd.read_csv(os.path.join(DATA_PATH, r'engineered_sentence_features.csv'), \n",
    "                                                  index_col=0)\n",
    "    \n",
    "else:\n",
    "    # WARNING - this part is slow\n",
    "    # apply custom features to the data\n",
    "    all_reviews['engineered_sentence_features'] = all_reviews['custom_tokens'].apply(h.engineered_sentence_features)\n",
    "    \n",
    "    # flatten the engineered_sentence_features into a dataframe\n",
    "    df_engineered_sentence_features = all_reviews['engineered_sentence_features'].apply(pd.Series)\n",
    "    \n",
    "    #save off the data to save time for reviewer\n",
    "    df_engineered_sentence_features.to_csv(os.path.join(DATA_PATH, r'engineered_sentence_features.csv'))\n",
    "\n",
    "# inspect engineered features data\n",
    "display(df_engineered_sentence_features.info())\n",
    "display(df_engineered_sentence_features.head())"
   ]
  },
  {
   "cell_type": "code",
   "execution_count": 27,
   "metadata": {},
   "outputs": [
    {
     "data": {
      "text/html": [
       "<div>\n",
       "<table border=\"1\" class=\"dataframe\">\n",
       "  <thead>\n",
       "    <tr style=\"text-align: right;\">\n",
       "      <th></th>\n",
       "      <th>document</th>\n",
       "      <th>score</th>\n",
       "      <th>source</th>\n",
       "      <th>all_caps_sent</th>\n",
       "      <th>all_caps_word_cnt</th>\n",
       "      <th>diversity_score</th>\n",
       "      <th>frac_non_stop_words</th>\n",
       "      <th>frac_unusual</th>\n",
       "      <th>is_all_lower</th>\n",
       "      <th>is_capitalized</th>\n",
       "      <th>num_chars</th>\n",
       "      <th>vocab_size</th>\n",
       "      <th>word_count</th>\n",
       "      <th>word_to_char_frac</th>\n",
       "    </tr>\n",
       "  </thead>\n",
       "  <tbody>\n",
       "    <tr>\n",
       "      <th>0</th>\n",
       "      <td>A very, very, very slow-moving, aimless movie about a distressed, drifting young man.</td>\n",
       "      <td>0</td>\n",
       "      <td>imdb</td>\n",
       "      <td>False</td>\n",
       "      <td>1</td>\n",
       "      <td>1.384615</td>\n",
       "      <td>0.666667</td>\n",
       "      <td>0.000000</td>\n",
       "      <td>False</td>\n",
       "      <td>True</td>\n",
       "      <td>73</td>\n",
       "      <td>12</td>\n",
       "      <td>18</td>\n",
       "      <td>4.055556</td>\n",
       "    </tr>\n",
       "    <tr>\n",
       "      <th>1</th>\n",
       "      <td>Not sure who was more lost - the flat characters or the audience, nearly half of whom walked out.</td>\n",
       "      <td>0</td>\n",
       "      <td>imdb</td>\n",
       "      <td>False</td>\n",
       "      <td>0</td>\n",
       "      <td>1.050000</td>\n",
       "      <td>0.523810</td>\n",
       "      <td>0.095238</td>\n",
       "      <td>False</td>\n",
       "      <td>True</td>\n",
       "      <td>79</td>\n",
       "      <td>20</td>\n",
       "      <td>21</td>\n",
       "      <td>3.761905</td>\n",
       "    </tr>\n",
       "    <tr>\n",
       "      <th>2</th>\n",
       "      <td>Attempting artiness with black &amp; white and clever camera angles, the movie disappointed - became even more ridiculous - as the acting was poor and the plot and lines almost non-existent.</td>\n",
       "      <td>0</td>\n",
       "      <td>imdb</td>\n",
       "      <td>False</td>\n",
       "      <td>0</td>\n",
       "      <td>1.185185</td>\n",
       "      <td>0.687500</td>\n",
       "      <td>0.093750</td>\n",
       "      <td>False</td>\n",
       "      <td>True</td>\n",
       "      <td>155</td>\n",
       "      <td>27</td>\n",
       "      <td>32</td>\n",
       "      <td>4.843750</td>\n",
       "    </tr>\n",
       "    <tr>\n",
       "      <th>3</th>\n",
       "      <td>Very little music or anything to speak of.</td>\n",
       "      <td>0</td>\n",
       "      <td>imdb</td>\n",
       "      <td>False</td>\n",
       "      <td>0</td>\n",
       "      <td>1.000000</td>\n",
       "      <td>0.555556</td>\n",
       "      <td>0.000000</td>\n",
       "      <td>False</td>\n",
       "      <td>True</td>\n",
       "      <td>35</td>\n",
       "      <td>9</td>\n",
       "      <td>9</td>\n",
       "      <td>3.888889</td>\n",
       "    </tr>\n",
       "    <tr>\n",
       "      <th>4</th>\n",
       "      <td>The best scene in the movie was when Gerardo is trying to find a song that keeps running through his head.</td>\n",
       "      <td>1</td>\n",
       "      <td>imdb</td>\n",
       "      <td>False</td>\n",
       "      <td>0</td>\n",
       "      <td>1.000000</td>\n",
       "      <td>0.500000</td>\n",
       "      <td>0.090909</td>\n",
       "      <td>False</td>\n",
       "      <td>True</td>\n",
       "      <td>86</td>\n",
       "      <td>21</td>\n",
       "      <td>22</td>\n",
       "      <td>3.909091</td>\n",
       "    </tr>\n",
       "  </tbody>\n",
       "</table>\n",
       "</div>"
      ],
      "text/plain": [
       "                                                                                                                                                                                       document  score source all_caps_sent  all_caps_word_cnt  diversity_score  frac_non_stop_words  frac_unusual is_all_lower is_capitalized  num_chars  vocab_size  word_count  word_to_char_frac\n",
       "0                                                                                                       A very, very, very slow-moving, aimless movie about a distressed, drifting young man.        0   imdb         False                  1         1.384615             0.666667      0.000000        False           True         73          12          18           4.055556\n",
       "1                                                                                           Not sure who was more lost - the flat characters or the audience, nearly half of whom walked out.        0   imdb         False                  0         1.050000             0.523810      0.095238        False           True         79          20          21           3.761905\n",
       "2  Attempting artiness with black & white and clever camera angles, the movie disappointed - became even more ridiculous - as the acting was poor and the plot and lines almost non-existent.        0   imdb         False                  0         1.185185             0.687500      0.093750        False           True        155          27          32           4.843750\n",
       "3                                                                                                                                                  Very little music or anything to speak of.        0   imdb         False                  0         1.000000             0.555556      0.000000        False           True         35           9           9           3.888889\n",
       "4                                                                                  The best scene in the movie was when Gerardo is trying to find a song that keeps running through his head.        1   imdb         False                  0         1.000000             0.500000      0.090909        False           True         86          21          22           3.909091"
      ]
     },
     "metadata": {},
     "output_type": "display_data"
    },
    {
     "name": "stdout",
     "output_type": "stream",
     "text": [
      "<class 'pandas.core.frame.DataFrame'>\n",
      "Int64Index: 3000 entries, 0 to 2999\n",
      "Data columns (total 14 columns):\n",
      "document               3000 non-null object\n",
      "score                  3000 non-null int32\n",
      "source                 3000 non-null object\n",
      "all_caps_sent          3000 non-null bool\n",
      "all_caps_word_cnt      3000 non-null int64\n",
      "diversity_score        3000 non-null float64\n",
      "frac_non_stop_words    3000 non-null float64\n",
      "frac_unusual           3000 non-null float64\n",
      "is_all_lower           3000 non-null bool\n",
      "is_capitalized         3000 non-null bool\n",
      "num_chars              3000 non-null int64\n",
      "vocab_size             3000 non-null int64\n",
      "word_count             3000 non-null int64\n",
      "word_to_char_frac      3000 non-null float64\n",
      "dtypes: bool(3), float64(4), int32(1), int64(4), object(2)\n",
      "memory usage: 278.3+ KB\n"
     ]
    },
    {
     "data": {
      "text/plain": [
       "None"
      ]
     },
     "metadata": {},
     "output_type": "display_data"
    }
   ],
   "source": [
    "reviews_features = all_reviews.merge(df_engineered_sentence_features, how='outer',left_index=True, right_index=True)\n",
    "reviews_features.columns.tolist()\n",
    "cols_keep = ['document',\n",
    " 'score',\n",
    " 'source',\n",
    " 'all_caps_sent',\n",
    " 'all_caps_word_cnt',\n",
    " 'diversity_score',\n",
    " 'frac_non_stop_words',\n",
    " 'frac_unusual',\n",
    " 'is_all_lower',\n",
    " 'is_capitalized',\n",
    " 'num_chars',\n",
    " 'vocab_size',\n",
    " 'word_count',\n",
    " 'word_to_char_frac']\n",
    "display(reviews_features[cols_keep].head())\n",
    "display(reviews_features[cols_keep].info())"
   ]
  },
  {
   "cell_type": "code",
   "execution_count": 28,
   "metadata": {},
   "outputs": [
    {
     "name": "stdout",
     "output_type": "stream",
     "text": [
      "num_attribs:\n"
     ]
    },
    {
     "data": {
      "text/html": [
       "<div>\n",
       "<table border=\"1\" class=\"dataframe\">\n",
       "  <thead>\n",
       "    <tr style=\"text-align: right;\">\n",
       "      <th></th>\n",
       "      <th>count</th>\n",
       "      <th>mean</th>\n",
       "      <th>std</th>\n",
       "      <th>min</th>\n",
       "      <th>25%</th>\n",
       "      <th>50%</th>\n",
       "      <th>75%</th>\n",
       "      <th>max</th>\n",
       "    </tr>\n",
       "  </thead>\n",
       "  <tbody>\n",
       "    <tr>\n",
       "      <th>all_caps_word_cnt</th>\n",
       "      <td>3000.0</td>\n",
       "      <td>0.474333</td>\n",
       "      <td>0.875365</td>\n",
       "      <td>0.0</td>\n",
       "      <td>0.0</td>\n",
       "      <td>0.000000</td>\n",
       "      <td>1.000000</td>\n",
       "      <td>15.000000</td>\n",
       "    </tr>\n",
       "    <tr>\n",
       "      <th>diversity_score</th>\n",
       "      <td>3000.0</td>\n",
       "      <td>1.051270</td>\n",
       "      <td>0.084383</td>\n",
       "      <td>1.0</td>\n",
       "      <td>1.0</td>\n",
       "      <td>1.000000</td>\n",
       "      <td>1.090909</td>\n",
       "      <td>2.000000</td>\n",
       "    </tr>\n",
       "    <tr>\n",
       "      <th>frac_non_stop_words</th>\n",
       "      <td>3000.0</td>\n",
       "      <td>0.596731</td>\n",
       "      <td>0.152479</td>\n",
       "      <td>0.2</td>\n",
       "      <td>0.5</td>\n",
       "      <td>0.571429</td>\n",
       "      <td>0.666667</td>\n",
       "      <td>1.000000</td>\n",
       "    </tr>\n",
       "    <tr>\n",
       "      <th>frac_unusual</th>\n",
       "      <td>3000.0</td>\n",
       "      <td>0.076202</td>\n",
       "      <td>0.087251</td>\n",
       "      <td>0.0</td>\n",
       "      <td>0.0</td>\n",
       "      <td>0.062500</td>\n",
       "      <td>0.125000</td>\n",
       "      <td>0.666667</td>\n",
       "    </tr>\n",
       "    <tr>\n",
       "      <th>num_chars</th>\n",
       "      <td>3000.0</td>\n",
       "      <td>53.570333</td>\n",
       "      <td>36.295530</td>\n",
       "      <td>4.0</td>\n",
       "      <td>27.0</td>\n",
       "      <td>46.000000</td>\n",
       "      <td>72.000000</td>\n",
       "      <td>407.000000</td>\n",
       "    </tr>\n",
       "    <tr>\n",
       "      <th>vocab_size</th>\n",
       "      <td>3000.0</td>\n",
       "      <td>12.803667</td>\n",
       "      <td>7.514116</td>\n",
       "      <td>1.0</td>\n",
       "      <td>7.0</td>\n",
       "      <td>11.000000</td>\n",
       "      <td>17.000000</td>\n",
       "      <td>59.000000</td>\n",
       "    </tr>\n",
       "    <tr>\n",
       "      <th>word_count</th>\n",
       "      <td>3000.0</td>\n",
       "      <td>13.886333</td>\n",
       "      <td>8.960181</td>\n",
       "      <td>1.0</td>\n",
       "      <td>7.0</td>\n",
       "      <td>12.000000</td>\n",
       "      <td>19.000000</td>\n",
       "      <td>81.000000</td>\n",
       "    </tr>\n",
       "    <tr>\n",
       "      <th>word_to_char_frac</th>\n",
       "      <td>3000.0</td>\n",
       "      <td>3.901527</td>\n",
       "      <td>0.801059</td>\n",
       "      <td>1.8</td>\n",
       "      <td>3.4</td>\n",
       "      <td>3.833333</td>\n",
       "      <td>4.316388</td>\n",
       "      <td>11.000000</td>\n",
       "    </tr>\n",
       "  </tbody>\n",
       "</table>\n",
       "</div>"
      ],
      "text/plain": [
       "                      count       mean        std  min   25%        50%        75%         max\n",
       "all_caps_word_cnt    3000.0   0.474333   0.875365  0.0   0.0   0.000000   1.000000   15.000000\n",
       "diversity_score      3000.0   1.051270   0.084383  1.0   1.0   1.000000   1.090909    2.000000\n",
       "frac_non_stop_words  3000.0   0.596731   0.152479  0.2   0.5   0.571429   0.666667    1.000000\n",
       "frac_unusual         3000.0   0.076202   0.087251  0.0   0.0   0.062500   0.125000    0.666667\n",
       "num_chars            3000.0  53.570333  36.295530  4.0  27.0  46.000000  72.000000  407.000000\n",
       "vocab_size           3000.0  12.803667   7.514116  1.0   7.0  11.000000  17.000000   59.000000\n",
       "word_count           3000.0  13.886333   8.960181  1.0   7.0  12.000000  19.000000   81.000000\n",
       "word_to_char_frac    3000.0   3.901527   0.801059  1.8   3.4   3.833333   4.316388   11.000000"
      ]
     },
     "metadata": {},
     "output_type": "display_data"
    },
    {
     "name": "stdout",
     "output_type": "stream",
     "text": [
      "cat_attribs:\n"
     ]
    },
    {
     "data": {
      "text/html": [
       "<div>\n",
       "<table border=\"1\" class=\"dataframe\">\n",
       "  <thead>\n",
       "    <tr style=\"text-align: right;\">\n",
       "      <th></th>\n",
       "      <th>count</th>\n",
       "      <th>unique</th>\n",
       "      <th>top</th>\n",
       "      <th>freq</th>\n",
       "    </tr>\n",
       "  </thead>\n",
       "  <tbody>\n",
       "    <tr>\n",
       "      <th>all_caps_sent</th>\n",
       "      <td>3000</td>\n",
       "      <td>2</td>\n",
       "      <td>False</td>\n",
       "      <td>2994</td>\n",
       "    </tr>\n",
       "    <tr>\n",
       "      <th>is_all_lower</th>\n",
       "      <td>3000</td>\n",
       "      <td>2</td>\n",
       "      <td>False</td>\n",
       "      <td>2996</td>\n",
       "    </tr>\n",
       "    <tr>\n",
       "      <th>is_capitalized</th>\n",
       "      <td>3000</td>\n",
       "      <td>2</td>\n",
       "      <td>True</td>\n",
       "      <td>2820</td>\n",
       "    </tr>\n",
       "  </tbody>\n",
       "</table>\n",
       "</div>"
      ],
      "text/plain": [
       "               count unique    top  freq\n",
       "all_caps_sent   3000      2  False  2994\n",
       "is_all_lower    3000      2  False  2996\n",
       "is_capitalized  3000      2   True  2820"
      ]
     },
     "metadata": {},
     "output_type": "display_data"
    }
   ],
   "source": [
    "# some quick stats on hand-engineered features\n",
    "\n",
    "# get list of number cols\n",
    "num_attribs = df_engineered_sentence_features.select_dtypes(include=[np.number]).columns.tolist()\n",
    "print('num_attribs:')\n",
    "display(df_engineered_sentence_features[num_attribs].describe().T)\n",
    "\n",
    "cat_attribs = df_engineered_sentence_features.select_dtypes(include=['O','bool']).columns.tolist()\n",
    "print('cat_attribs:')\n",
    "display(df_engineered_sentence_features[cat_attribs].describe().T)\n"
   ]
  },
  {
   "cell_type": "markdown",
   "metadata": {
    "collapsed": true
   },
   "source": [
    "# TODO\n",
    "* process pipeline data prep\n",
    "* split test train\n",
    "* visualize distributions\n",
    "* grid over default models\n",
    "  * save results into dataframe\n",
    "* select best model and refine\n",
    "* create voting\n",
    "* add vect models with feature engineered models\n",
    "\n",
    "## reviewing samples of null vals w/ their rows\n",
    "* no null values in the engineered features"
   ]
  },
  {
   "cell_type": "code",
   "execution_count": 29,
   "metadata": {},
   "outputs": [
    {
     "name": "stdout",
     "output_type": "stream",
     "text": [
      "missing\tcolumn name\n"
     ]
    }
   ],
   "source": [
    "print('missing\\tcolumn name')\n",
    "for col in df_engineered_sentence_features.columns:\n",
    "    if df_engineered_sentence_features[col].isnull().sum() > 0:\n",
    "        print('{}\\t{}'.format(df_engineered_sentence_features[col].isnull().sum(), col))"
   ]
  },
  {
   "cell_type": "markdown",
   "metadata": {},
   "source": [
    "## Categorical Engineered Features\n",
    "* two are rare, one is skewed"
   ]
  },
  {
   "cell_type": "raw",
   "metadata": {},
   "source": [
    "# map the boolean columns to [0,1]\n",
    "bool_map = {True:1, False:0}\n",
    "df_engineered_sentence_features['all_caps_sent'] = df_engineered_sentence_features['all_caps_sent'].astype('category')\n",
    "df_engineered_sentence_features['is_all_lower'] = df_engineered_sentence_features['is_all_lower'].astype('category')\n",
    "df_engineered_sentence_features['is_capitalized'] = df_engineered_sentence_features['is_capitalized'].astype('category')"
   ]
  },
  {
   "cell_type": "code",
   "execution_count": 33,
   "metadata": {
    "collapsed": true
   },
   "outputs": [],
   "source": [
    "# map the boolean columns to [0,1]\n",
    "bool_map = {True:1, False:0}\n",
    "df_engineered_sentence_features['all_caps_sent'] = df_engineered_sentence_features['all_caps_sent'].map(bool_map)\n",
    "df_engineered_sentence_features['is_all_lower'] = df_engineered_sentence_features['is_all_lower'].map(bool_map)\n",
    "df_engineered_sentence_features['is_capitalized'] = df_engineered_sentence_features['is_capitalized'].map(bool_map)"
   ]
  },
  {
   "cell_type": "code",
   "execution_count": 34,
   "metadata": {},
   "outputs": [
    {
     "data": {
      "text/html": [
       "<div>\n",
       "<table border=\"1\" class=\"dataframe\">\n",
       "  <thead>\n",
       "    <tr style=\"text-align: right;\">\n",
       "      <th></th>\n",
       "      <th>all_caps_sent</th>\n",
       "      <th>all_caps_word_cnt</th>\n",
       "      <th>diversity_score</th>\n",
       "      <th>frac_non_stop_words</th>\n",
       "      <th>frac_unusual</th>\n",
       "      <th>is_all_lower</th>\n",
       "      <th>is_capitalized</th>\n",
       "      <th>num_chars</th>\n",
       "      <th>vocab_size</th>\n",
       "      <th>word_count</th>\n",
       "      <th>word_to_char_frac</th>\n",
       "    </tr>\n",
       "  </thead>\n",
       "  <tbody>\n",
       "    <tr>\n",
       "      <th>0</th>\n",
       "      <td>0</td>\n",
       "      <td>1</td>\n",
       "      <td>1.384615</td>\n",
       "      <td>0.666667</td>\n",
       "      <td>0.000000</td>\n",
       "      <td>0</td>\n",
       "      <td>1</td>\n",
       "      <td>73</td>\n",
       "      <td>12</td>\n",
       "      <td>18</td>\n",
       "      <td>4.055556</td>\n",
       "    </tr>\n",
       "    <tr>\n",
       "      <th>1</th>\n",
       "      <td>0</td>\n",
       "      <td>0</td>\n",
       "      <td>1.050000</td>\n",
       "      <td>0.523810</td>\n",
       "      <td>0.095238</td>\n",
       "      <td>0</td>\n",
       "      <td>1</td>\n",
       "      <td>79</td>\n",
       "      <td>20</td>\n",
       "      <td>21</td>\n",
       "      <td>3.761905</td>\n",
       "    </tr>\n",
       "    <tr>\n",
       "      <th>2</th>\n",
       "      <td>0</td>\n",
       "      <td>0</td>\n",
       "      <td>1.185185</td>\n",
       "      <td>0.687500</td>\n",
       "      <td>0.093750</td>\n",
       "      <td>0</td>\n",
       "      <td>1</td>\n",
       "      <td>155</td>\n",
       "      <td>27</td>\n",
       "      <td>32</td>\n",
       "      <td>4.843750</td>\n",
       "    </tr>\n",
       "    <tr>\n",
       "      <th>3</th>\n",
       "      <td>0</td>\n",
       "      <td>0</td>\n",
       "      <td>1.000000</td>\n",
       "      <td>0.555556</td>\n",
       "      <td>0.000000</td>\n",
       "      <td>0</td>\n",
       "      <td>1</td>\n",
       "      <td>35</td>\n",
       "      <td>9</td>\n",
       "      <td>9</td>\n",
       "      <td>3.888889</td>\n",
       "    </tr>\n",
       "    <tr>\n",
       "      <th>4</th>\n",
       "      <td>0</td>\n",
       "      <td>0</td>\n",
       "      <td>1.000000</td>\n",
       "      <td>0.500000</td>\n",
       "      <td>0.090909</td>\n",
       "      <td>0</td>\n",
       "      <td>1</td>\n",
       "      <td>86</td>\n",
       "      <td>21</td>\n",
       "      <td>22</td>\n",
       "      <td>3.909091</td>\n",
       "    </tr>\n",
       "  </tbody>\n",
       "</table>\n",
       "</div>"
      ],
      "text/plain": [
       "   all_caps_sent  all_caps_word_cnt  diversity_score  frac_non_stop_words  frac_unusual  is_all_lower  is_capitalized  num_chars  vocab_size  word_count  word_to_char_frac\n",
       "0              0                  1         1.384615             0.666667      0.000000             0               1         73          12          18           4.055556\n",
       "1              0                  0         1.050000             0.523810      0.095238             0               1         79          20          21           3.761905\n",
       "2              0                  0         1.185185             0.687500      0.093750             0               1        155          27          32           4.843750\n",
       "3              0                  0         1.000000             0.555556      0.000000             0               1         35           9           9           3.888889\n",
       "4              0                  0         1.000000             0.500000      0.090909             0               1         86          21          22           3.909091"
      ]
     },
     "execution_count": 34,
     "metadata": {},
     "output_type": "execute_result"
    }
   ],
   "source": [
    "df_engineered_sentence_features.head()"
   ]
  },
  {
   "cell_type": "markdown",
   "metadata": {},
   "source": [
    "## Visualize the Numerical Engineered Features\n",
    "* only one of these features looks normally distributed\n",
    "* the features will need to be standardized to keep the model from favoring higher valued features"
   ]
  },
  {
   "cell_type": "code",
   "execution_count": 35,
   "metadata": {
    "collapsed": true
   },
   "outputs": [],
   "source": [
    "# Let’s plot the distribution of each feature\n",
    "def plot_distribution(dataset, cols=5, width=20, height=15, hspace=0.2, wspace=0.5):\n",
    "    plt.style.use('seaborn-whitegrid')\n",
    "    fig = plt.figure(figsize=(width,height))\n",
    "    fig.subplots_adjust(left=None, bottom=None, right=None, top=None, wspace=wspace, hspace=hspace)\n",
    "    rows = math.ceil(float(dataset.shape[1]) / cols)\n",
    "    for i, column in enumerate(dataset.columns):\n",
    "        ax = fig.add_subplot(rows, cols, i + 1)\n",
    "        ax.set_title(column)\n",
    "        if dataset.dtypes[column] == np.object:\n",
    "            g = sns.countplot(y=column, data=dataset)\n",
    "            substrings = [s.get_text()[:18] for s in g.get_yticklabels()]\n",
    "            g.set(yticklabels=substrings)\n",
    "            plt.xticks(rotation=25)\n",
    "        else:\n",
    "            g = sns.distplot(dataset[column])\n",
    "            plt.xticks(rotation=25)"
   ]
  },
  {
   "cell_type": "code",
   "execution_count": 36,
   "metadata": {},
   "outputs": [
    {
     "name": "stdout",
     "output_type": "stream",
     "text": [
      "('Saving figure', 'feature_engineering_original_distributions')\n"
     ]
    },
    {
     "data": {
      "image/png": "[encoded data removed]",
      "text/plain": [
       "<matplotlib.figure.Figure at 0x122643c8>"
      ]
     },
     "metadata": {},
     "output_type": "display_data"
    }
   ],
   "source": [
    "plot_distribution(np.log(df_engineered_sentence_features.dropna() + 1), \n",
    "                  cols=3, \n",
    "                  width=22, \n",
    "                  height=2*df_engineered_sentence_features.shape[1], \n",
    "                  hspace=0.25, \n",
    "                  wspace=0.25)\n",
    "\n",
    "save_fig(\"feature_engineering_original_distributions\",tight_layout=False)"
   ]
  },
  {
   "cell_type": "markdown",
   "metadata": {
    "collapsed": true
   },
   "source": [
    "## Pipeline - Preprocess the Engineered Features\n",
    "-----\n",
    "* create a dataframe selector \n",
    "* cleanup and create features"
   ]
  },
  {
   "cell_type": "code",
   "execution_count": 37,
   "metadata": {
    "collapsed": true
   },
   "outputs": [],
   "source": [
    "# Definition of the CategoricalEncoder class, copied from PR #9151.\n",
    "\n",
    "from sklearn.base import BaseEstimator, TransformerMixin\n",
    "from sklearn.utils import check_array\n",
    "from sklearn.preprocessing import LabelEncoder\n",
    "from scipy import sparse\n",
    "\n",
    "class CategoricalEncoder(BaseEstimator, TransformerMixin):\n",
    "    \"\"\"Encode categorical features as a numeric array.\n",
    "    The input to this transformer should be a matrix of integers or strings,\n",
    "    denoting the values taken on by categorical (discrete) features.\n",
    "    The features can be encoded using a one-hot aka one-of-K scheme\n",
    "    (``encoding='onehot'``, the default) or converted to ordinal integers\n",
    "    (``encoding='ordinal'``).\n",
    "    This encoding is needed for feeding categorical data to many scikit-learn\n",
    "    estimators, notably linear models and SVMs with the standard kernels.\n",
    "    Read more in the :ref:`User Guide <preprocessing_categorical_features>`.\n",
    "    Parameters\n",
    "    ----------\n",
    "    encoding : str, 'onehot', 'onehot-dense' or 'ordinal'\n",
    "        The type of encoding to use (default is 'onehot'):\n",
    "        - 'onehot': encode the features using a one-hot aka one-of-K scheme\n",
    "          (or also called 'dummy' encoding). This creates a binary column for\n",
    "          each category and returns a sparse matrix.\n",
    "        - 'onehot-dense': the same as 'onehot' but returns a dense array\n",
    "          instead of a sparse matrix.\n",
    "        - 'ordinal': encode the features as ordinal integers. This results in\n",
    "          a single column of integers (0 to n_categories - 1) per feature.\n",
    "    categories : 'auto' or a list of lists/arrays of values.\n",
    "        Categories (unique values) per feature:\n",
    "        - 'auto' : Determine categories automatically from the training data.\n",
    "        - list : ``categories[i]`` holds the categories expected in the ith\n",
    "          column. The passed categories are sorted before encoding the data\n",
    "          (used categories can be found in the ``categories_`` attribute).\n",
    "    dtype : number type, default np.float64\n",
    "        Desired dtype of output.\n",
    "    handle_unknown : 'error' (default) or 'ignore'\n",
    "        Whether to raise an error or ignore if a unknown categorical feature is\n",
    "        present during transform (default is to raise). When this is parameter\n",
    "        is set to 'ignore' and an unknown category is encountered during\n",
    "        transform, the resulting one-hot encoded columns for this feature\n",
    "        will be all zeros.\n",
    "        Ignoring unknown categories is not supported for\n",
    "        ``encoding='ordinal'``.\n",
    "    Attributes\n",
    "    ----------\n",
    "    categories_ : list of arrays\n",
    "        The categories of each feature determined during fitting. When\n",
    "        categories were specified manually, this holds the sorted categories\n",
    "        (in order corresponding with output of `transform`).\n",
    "    Examples\n",
    "    --------\n",
    "    Given a dataset with three features and two samples, we let the encoder\n",
    "    find the maximum value per feature and transform the data to a binary\n",
    "    one-hot encoding.\n",
    "    >>> from sklearn.preprocessing import CategoricalEncoder\n",
    "    >>> enc = CategoricalEncoder(handle_unknown='ignore')\n",
    "    >>> enc.fit([[0, 0, 3], [1, 1, 0], [0, 2, 1], [1, 0, 2]])\n",
    "    ... # doctest: +ELLIPSIS\n",
    "    CategoricalEncoder(categories='auto', dtype=<... 'numpy.float64'>,\n",
    "              encoding='onehot', handle_unknown='ignore')\n",
    "    >>> enc.transform([[0, 1, 1], [1, 0, 4]]).toarray()\n",
    "    array([[ 1.,  0.,  0.,  1.,  0.,  0.,  1.,  0.,  0.],\n",
    "           [ 0.,  1.,  1.,  0.,  0.,  0.,  0.,  0.,  0.]])\n",
    "    See also\n",
    "    --------\n",
    "    sklearn.preprocessing.OneHotEncoder : performs a one-hot encoding of\n",
    "      integer ordinal features. The ``OneHotEncoder assumes`` that input\n",
    "      features take on values in the range ``[0, max(feature)]`` instead of\n",
    "      using the unique values.\n",
    "    sklearn.feature_extraction.DictVectorizer : performs a one-hot encoding of\n",
    "      dictionary items (also handles string-valued features).\n",
    "    sklearn.feature_extraction.FeatureHasher : performs an approximate one-hot\n",
    "      encoding of dictionary items or strings.\n",
    "    \"\"\"\n",
    "\n",
    "    def __init__(self, encoding='onehot', categories='auto', dtype=np.float64,\n",
    "                 handle_unknown='error'):\n",
    "        self.encoding = encoding\n",
    "        self.categories = categories\n",
    "        self.dtype = dtype\n",
    "        self.handle_unknown = handle_unknown\n",
    "\n",
    "    def fit(self, X, y=None):\n",
    "        \"\"\"Fit the CategoricalEncoder to X.\n",
    "        Parameters\n",
    "        ----------\n",
    "        X : array-like, shape [n_samples, n_feature]\n",
    "            The data to determine the categories of each feature.\n",
    "        Returns\n",
    "        -------\n",
    "        self\n",
    "        \"\"\"\n",
    "\n",
    "        if self.encoding not in ['onehot', 'onehot-dense', 'ordinal']:\n",
    "            template = (\"encoding should be either 'onehot', 'onehot-dense' \"\n",
    "                        \"or 'ordinal', got %s\")\n",
    "            raise ValueError(template % self.handle_unknown)\n",
    "\n",
    "        if self.handle_unknown not in ['error', 'ignore']:\n",
    "            template = (\"handle_unknown should be either 'error' or \"\n",
    "                        \"'ignore', got %s\")\n",
    "            raise ValueError(template % self.handle_unknown)\n",
    "\n",
    "        if self.encoding == 'ordinal' and self.handle_unknown == 'ignore':\n",
    "            raise ValueError(\"handle_unknown='ignore' is not supported for\"\n",
    "                             \" encoding='ordinal'\")\n",
    "\n",
    "        X = check_array(X, dtype=np.object, accept_sparse='csc', copy=True)\n",
    "        n_samples, n_features = X.shape\n",
    "\n",
    "        self._label_encoders_ = [LabelEncoder() for _ in range(n_features)]\n",
    "\n",
    "        for i in range(n_features):\n",
    "            le = self._label_encoders_[i]\n",
    "            Xi = X[:, i]\n",
    "            if self.categories == 'auto':\n",
    "                le.fit(Xi)\n",
    "            else:\n",
    "                valid_mask = np.in1d(Xi, self.categories[i])\n",
    "                if not np.all(valid_mask):\n",
    "                    if self.handle_unknown == 'error':\n",
    "                        diff = np.unique(Xi[~valid_mask])\n",
    "                        msg = (\"Found unknown categories {0} in column {1}\"\n",
    "                               \" during fit\".format(diff, i))\n",
    "                        raise ValueError(msg)\n",
    "                le.classes_ = np.array(np.sort(self.categories[i]))\n",
    "\n",
    "        self.categories_ = [le.classes_ for le in self._label_encoders_]\n",
    "\n",
    "        return self\n",
    "\n",
    "    def transform(self, X):\n",
    "        \"\"\"Transform X using one-hot encoding.\n",
    "        Parameters\n",
    "        ----------\n",
    "        X : array-like, shape [n_samples, n_features]\n",
    "            The data to encode.\n",
    "        Returns\n",
    "        -------\n",
    "        X_out : sparse matrix or a 2-d array\n",
    "            Transformed input.\n",
    "        \"\"\"\n",
    "        X = check_array(X, accept_sparse='csc', dtype=np.object, copy=True)\n",
    "        n_samples, n_features = X.shape\n",
    "        X_int = np.zeros_like(X, dtype=np.int)\n",
    "        X_mask = np.ones_like(X, dtype=np.bool)\n",
    "\n",
    "        for i in range(n_features):\n",
    "            valid_mask = np.in1d(X[:, i], self.categories_[i])\n",
    "\n",
    "            if not np.all(valid_mask):\n",
    "                if self.handle_unknown == 'error':\n",
    "                    diff = np.unique(X[~valid_mask, i])\n",
    "                    msg = (\"Found unknown categories {0} in column {1}\"\n",
    "                           \" during transform\".format(diff, i))\n",
    "                    raise ValueError(msg)\n",
    "                else:\n",
    "                    # Set the problematic rows to an acceptable value and\n",
    "                    # continue `The rows are marked `X_mask` and will be\n",
    "                    # removed later.\n",
    "                    X_mask[:, i] = valid_mask\n",
    "                    X[:, i][~valid_mask] = self.categories_[i][0]\n",
    "            X_int[:, i] = self._label_encoders_[i].transform(X[:, i])\n",
    "\n",
    "        if self.encoding == 'ordinal':\n",
    "            return X_int.astype(self.dtype, copy=False)\n",
    "\n",
    "        mask = X_mask.ravel()\n",
    "        n_values = [cats.shape[0] for cats in self.categories_]\n",
    "        n_values = np.array([0] + n_values)\n",
    "        indices = np.cumsum(n_values)\n",
    "\n",
    "        column_indices = (X_int + indices[:-1]).ravel()[mask]\n",
    "        row_indices = np.repeat(np.arange(n_samples, dtype=np.int32),\n",
    "                                n_features)[mask]\n",
    "        data = np.ones(n_samples * n_features)[mask]\n",
    "\n",
    "        out = sparse.csc_matrix((data, (row_indices, column_indices)),\n",
    "                                shape=(n_samples, indices[-1]),\n",
    "                                dtype=self.dtype).tocsr()\n",
    "        if self.encoding == 'onehot-dense':\n",
    "            return out.toarray()\n",
    "        else:\n",
    "            return out"
   ]
  },
  {
   "cell_type": "code",
   "execution_count": 38,
   "metadata": {
    "collapsed": true
   },
   "outputs": [],
   "source": [
    "# transformer to just select a subset of the Pandas DataFrame columns:\n",
    "from sklearn.base import BaseEstimator, TransformerMixin\n",
    "\n",
    "# A class to select numerical or categorical columns \n",
    "# since Scikit-Learn doesn't handle DataFrames yet\n",
    "class DataFrameSelector(BaseEstimator, TransformerMixin):\n",
    "    def __init__(self, attribute_names):\n",
    "        self.attribute_names = attribute_names\n",
    "    def fit(self, X, y=None):\n",
    "        return self\n",
    "    def transform(self, X):\n",
    "        return X[self.attribute_names]\n",
    "    \n",
    "from sklearn.pipeline import Pipeline\n",
    "from sklearn.preprocessing import StandardScaler, Imputer, PolynomialFeatures\n",
    "from sklearn.pipeline import FeatureUnion\n",
    "from sklearn.preprocessing import MaxAbsScaler, RobustScaler, MinMaxScaler\n",
    "\n",
    "\n",
    "# get list of number cols\n",
    "#num_attribs = df_engineered_sentence_features.select_dtypes(include=[np.number]).columns.tolist()\n",
    "#cat_attribs = df_engineered_sentence_features.select_dtypes(include=['O']).columns.tolist()\n",
    "\n",
    "# pipeline for processing numerical attribs\n",
    "# fill missining w/ median\n",
    "num_pipeline = Pipeline([('selector', DataFrameSelector(num_attribs)),\n",
    "                        ('imputer', Imputer(missing_values='NaN', strategy='mean', axis=0)), \n",
    "                        #('robust', RobustScaler(quantile_range=(25,75))),\n",
    "                        #('minmax', MinMaxScaler()),\n",
    "                        ('max_abs_scaler', MaxAbsScaler())#,('polynomials', PolynomialFeatures(degree=2))\n",
    "                       ])\n",
    "\n",
    "# pipeline for processing categorical attribs\n",
    "cat_pipeline = Pipeline([('selector', DataFrameSelector(cat_attribs)), \n",
    "                        ('cat_encoder', CategoricalEncoder(encoding='onehot-dense')),\n",
    "                       ])\n",
    "\n",
    "# full pre-processing pipeline\n",
    "full_pipeline = FeatureUnion(transformer_list=[\n",
    "        ('num_pipeline', num_pipeline),\n",
    "        ('cat_pipeline', cat_pipeline),\n",
    "    ])\n",
    "\n",
    "dataset_prepped = full_pipeline.fit_transform(df_engineered_sentence_features)\n",
    "\n",
    "#dataset_prepped = num_pipeline.fit_transform(reviews_features)"
   ]
  },
  {
   "cell_type": "code",
   "execution_count": 113,
   "metadata": {},
   "outputs": [
    {
     "data": {
      "text/plain": [
       "<function getfield>"
      ]
     },
     "execution_count": 113,
     "metadata": {},
     "output_type": "execute_result"
    }
   ],
   "source": [
    "dataset_prepped."
   ]
  },
  {
   "cell_type": "code",
   "execution_count": 40,
   "metadata": {},
   "outputs": [
    {
     "name": "stdout",
     "output_type": "stream",
     "text": [
      "('Saving figure', 'feature_engineering_transformed_distributions')\n"
     ]
    },
    {
     "data": {
      "image/png": "[encoded data removed]",
      "text/plain": [
       "<matplotlib.figure.Figure at 0x10fbab00>"
      ]
     },
     "metadata": {},
     "output_type": "display_data"
    }
   ],
   "source": [
    "# only plotting the non-ploynimial, original features that are transformed\n",
    "plot_distribution(pd.DataFrame(dataset_prepped[:,:len(num_attribs)], columns=num_attribs), \n",
    "                  cols=3, \n",
    "                  width=22, \n",
    "                  height=2*dataset_prepped.shape[1], \n",
    "                  hspace=0.25, \n",
    "                  wspace=0.25)\n",
    "\n",
    "save_fig(\"feature_engineering_transformed_distributions\",tight_layout=False)"
   ]
  },
  {
   "cell_type": "code",
   "execution_count": 41,
   "metadata": {},
   "outputs": [
    {
     "name": "stdout",
     "output_type": "stream",
     "text": [
      "Training set has 2400 samples.\n",
      "Testing set has 600 samples.\n"
     ]
    }
   ],
   "source": [
    "# split engineered features into train and test sets\n",
    "X_train, X_test, y_train, y_test = train_test_split(dataset_prepped, \n",
    "                                                    reviews_features['score'], \n",
    "                                                    test_size = 0.2, \n",
    "                                                    random_state = 42)\n",
    "\n",
    "# Show the results of the split\n",
    "print(\"Training set has {} samples.\".format(X_train.shape[0]))\n",
    "print(\"Testing set has {} samples.\".format(X_test.shape[0]))"
   ]
  },
  {
   "cell_type": "markdown",
   "metadata": {
    "collapsed": true
   },
   "source": [
    "## Compare Various Models with the Engineered Features\n",
    "-----\n",
    "* utized code learned in the class\n",
    "* examining more than just accuracy\n",
    "  * time to train and predict\n",
    "  * results with varied data sampling\n",
    "  * using f1 score"
   ]
  },
  {
   "cell_type": "code",
   "execution_count": 42,
   "metadata": {
    "collapsed": true
   },
   "outputs": [],
   "source": [
    "# using setup from class to iterate through models\n",
    "def train_predict(learner, sample_size, X_train, y_train, X_test, y_test): \n",
    "    '''\n",
    "    inputs:\n",
    "       - learner: the learning algorithm to be trained and predicted on\n",
    "       - sample_size: the size of samples (number) to be drawn from training set\n",
    "       - X_train: features training set\n",
    "       - y_train: income training set\n",
    "       - X_test: features testing set\n",
    "       - y_test: income testing set\n",
    "    '''\n",
    "    \n",
    "    results = {}\n",
    "    \n",
    "    # Fit the learner to the training data using slicing with 'sample_size'\n",
    "    start = time() # Get start time\n",
    "    learner = learner.fit(X_train[:sample_size], y_train[:sample_size])\n",
    "    end = time() # Get end time\n",
    "    \n",
    "    # Calculate the training time\n",
    "    results['train_time'] = end - start\n",
    "        \n",
    "    # Get the predictions on the test set(X_test),\n",
    "    # then get predictions on the first 300 training samples(X_train) using .predict()\n",
    "    start = time() # Get start time\n",
    "    predictions_test = learner.predict(X_test)\n",
    "    predictions_train = learner.predict(X_train[:300])\n",
    "    end = time() # Get end time\n",
    "    \n",
    "    # Calculate the total prediction time\n",
    "    results['pred_time'] = end - start\n",
    "            \n",
    "    # Compute accuracy on the first 300 training samples which is y_train[:300]\n",
    "    # metrics.accuracy_score(y_true, y_pred[,...])\n",
    "    results['acc_train'] = accuracy_score(y_train[:300], predictions_train)\n",
    "        \n",
    "\n",
    "    # Compute accuracy on test set using accuracy_score()\n",
    "    results['acc_test'] = accuracy_score(y_test, predictions_test)\n",
    "    \n",
    "    # Compute F-score on the the first 300 training samples \n",
    "    # http://scikit-learn.org/0.17/modules/generated/sklearn.metrics.fbeta_score.html#sklearn.metrics.fbeta_score\n",
    "    # fbeta_score(y_true, y_pred, beta, labels)\n",
    "    results['f_train'] = fbeta_score(y_train[:300], predictions_train, \n",
    "                                     beta=0.5)\n",
    "        \n",
    "    # Compute F-score on the test set which is y_test\n",
    "    results['f_test'] = fbeta_score(y_test, predictions_test, \n",
    "                                     beta=0.5)\n",
    "       \n",
    "    # Success\n",
    "    print(\"{} trained on {} samples.\".format(learner.__class__.__name__, sample_size))\n",
    "        \n",
    "    # Return the results\n",
    "    return results"
   ]
  },
  {
   "cell_type": "code",
   "execution_count": 43,
   "metadata": {
    "scrolled": false
   },
   "outputs": [
    {
     "name": "stdout",
     "output_type": "stream",
     "text": [
      "GaussianNB trained on 24 samples.\n",
      "GaussianNB trained on 240 samples.\n",
      "GaussianNB trained on 2400 samples.\n",
      "LinearSVC trained on 24 samples.\n",
      "LinearSVC trained on 240 samples.\n",
      "LinearSVC trained on 2400 samples.\n",
      "LinearDiscriminantAnalysis trained on 24 samples.\n",
      "LinearDiscriminantAnalysis trained on 240 samples.\n",
      "LinearDiscriminantAnalysis trained on 2400 samples.\n"
     ]
    },
    {
     "name": "stderr",
     "output_type": "stream",
     "text": [
      "C:\\Anaconda3\\envs\\python27\\lib\\site-packages\\sklearn\\discriminant_analysis.py:387: UserWarning: Variables are collinear.\n",
      "  warnings.warn(\"Variables are collinear.\")\n"
     ]
    }
   ],
   "source": [
    "# Initialize the models\n",
    "from sklearn.svm import LinearSVC\n",
    "from sklearn.discriminant_analysis import LinearDiscriminantAnalysis\n",
    "from sklearn.naive_bayes import MultinomialNB\n",
    "\n",
    "clf_A = GaussianNB()\n",
    "clf_B = LinearSVC()\n",
    "clf_C = LinearDiscriminantAnalysis(n_components=None, \n",
    "                                   priors=None, \n",
    "                                   shrinkage=None,\n",
    "                                   solver='svd', \n",
    "                                   store_covariance=False, \n",
    "                                   tol=0.0001)\n",
    "\n",
    "# Calculate the number of samples for 1%, 10%, and 100% of the training data\n",
    "# the entire training set i.e. len(y_train)\n",
    "samples_100 = len(y_train)\n",
    "samples_10 = int(0.10 * samples_100)\n",
    "samples_1 = int(0.01 * samples_100)\n",
    "\n",
    "# Collect results on the learners\n",
    "model_results1 = {}\n",
    "for clf in [clf_A, clf_B, clf_C]:\n",
    "    clf_name = clf.__class__.__name__\n",
    "    model_results1[clf_name] = {}\n",
    "    for i, samples in enumerate([samples_1, samples_10, samples_100]):\n",
    "        model_results1[clf_name][i] = \\\n",
    "        train_predict(clf, samples, X_train, y_train, X_test, y_test)"
   ]
  },
  {
   "cell_type": "code",
   "execution_count": 104,
   "metadata": {},
   "outputs": [
    {
     "name": "stdout",
     "output_type": "stream",
     "text": [
      "('Saving figure', 'model_results1_engineered_features')\n"
     ]
    },
    {
     "data": {
      "image/png": "[encoded data removed]",
      "text/plain": [
       "<matplotlib.figure.Figure at 0x11e2bba8>"
      ]
     },
     "metadata": {},
     "output_type": "display_data"
    }
   ],
   "source": [
    "# review all of the numbers\n",
    "#model_results1\n",
    "# Run metrics visualization for the three supervised learning models chosen\n",
    "h.evaluate(model_results1, accuracy, fscore)\n",
    "save_fig(\"model_results1_engineered_features\",tight_layout=False)\n",
    "plt.show()"
   ]
  },
  {
   "cell_type": "code",
   "execution_count": 107,
   "metadata": {},
   "outputs": [
    {
     "name": "stdout",
     "output_type": "stream",
     "text": [
      "KNeighborsClassifier trained on 24 samples.\n",
      "KNeighborsClassifier trained on 240 samples.\n",
      "KNeighborsClassifier trained on 2400 samples.\n",
      "MultinomialNB trained on 24 samples.\n",
      "MultinomialNB trained on 240 samples.\n",
      "MultinomialNB trained on 2400 samples.\n",
      "RandomForestClassifier trained on 24 samples.\n",
      "RandomForestClassifier trained on 240 samples.\n",
      "RandomForestClassifier trained on 2400 samples.\n"
     ]
    }
   ],
   "source": [
    "# Initialize the models\n",
    "from sklearn.svm import LinearSVC\n",
    "from sklearn.discriminant_analysis import LinearDiscriminantAnalysis\n",
    "from sklearn.naive_bayes import MultinomialNB\n",
    "\n",
    "clf_D = KNeighborsClassifier(5)\n",
    "clf_E = MultinomialNB()\n",
    "clf_F = RandomForestClassifier(max_depth=3, \n",
    "                               n_estimators=100, #30, \n",
    "                               max_features=7,\n",
    "                               bootstrap=True, \n",
    "                               random_state=42)\n",
    "\n",
    "# Calculate the number of samples for 1%, 10%, and 100% of the training data\n",
    "# the entire training set i.e. len(y_train)\n",
    "samples_100 = len(y_train)\n",
    "samples_10 = int(0.10 * samples_100)\n",
    "samples_1 = int(0.01 * samples_100)\n",
    "\n",
    "# Collect results on the learners\n",
    "model_results2 = {}\n",
    "for clf in [clf_D, clf_E, clf_F]:\n",
    "    clf_name = clf.__class__.__name__\n",
    "    model_results2[clf_name] = {}\n",
    "    for i, samples in enumerate([samples_1, samples_10, samples_100]):\n",
    "        model_results2[clf_name][i] = \\\n",
    "        train_predict(clf, samples, X_train, y_train, X_test, y_test)"
   ]
  },
  {
   "cell_type": "code",
   "execution_count": 108,
   "metadata": {},
   "outputs": [
    {
     "name": "stdout",
     "output_type": "stream",
     "text": [
      "('Saving figure', 'model_results2_engineered_features')\n"
     ]
    },
    {
     "data": {
      "image/png": "[encoded data removed]",
      "text/plain": [
       "<matplotlib.figure.Figure at 0x112360f0>"
      ]
     },
     "metadata": {},
     "output_type": "display_data"
    }
   ],
   "source": [
    "# review all of the numbers\n",
    "#model_results2\n",
    "\n",
    "# Run metrics visualization for the three supervised learning models chosen\n",
    "h.evaluate(model_results2, accuracy, fscore)\n",
    "save_fig(\"model_results2_engineered_features\",tight_layout=False)\n",
    "plt.show()"
   ]
  },
  {
   "cell_type": "markdown",
   "metadata": {},
   "source": [
    "### Try Bagging (Bootstrap Aggregating) with DecisionTreeClassifier\n",
    "-----\n",
    "* Since RandomForrest was the best performer, try Bagging.\n",
    "* get a diverse set of classifiers by training same classifier on different subsets of the training data, sampling with replacement\n",
    "* predictors will be more biased but should be less correlated, reducing the ensemble's variance"
   ]
  },
  {
   "cell_type": "code",
   "execution_count": 47,
   "metadata": {},
   "outputs": [
    {
     "data": {
      "text/plain": [
       "0.55791666666666662"
      ]
     },
     "execution_count": 47,
     "metadata": {},
     "output_type": "execute_result"
    }
   ],
   "source": [
    "from sklearn.ensemble import BaggingClassifier\n",
    "from sklearn.tree import DecisionTreeClassifier\n",
    "\n",
    "bag_clf = BaggingClassifier(DecisionTreeClassifier(), \n",
    "                            n_estimators=500, \n",
    "                            max_samples=100, \n",
    "                            bootstrap=True, \n",
    "                            n_jobs=3, \n",
    "                           oob_score=True)\n",
    "bag_clf.fit(X_train, y_train)\n",
    "bag_clf.oob_score_"
   ]
  },
  {
   "cell_type": "code",
   "execution_count": 48,
   "metadata": {},
   "outputs": [
    {
     "name": "stdout",
     "output_type": "stream",
     "text": [
      "accuracy = 0.538, precision = 0.540, recall = 0.538, f1 = 0.538\n"
     ]
    }
   ],
   "source": [
    "# predict the target from engineered features\n",
    "y_pred = bag_clf.predict(X_test)\n",
    "\n",
    "# unpack metrics using function\n",
    "accuracy, precision, recall, f1 = h.get_metrics(y_test, y_pred)\n",
    "print(\"accuracy = %.3f, precision = %.3f, recall = %.3f, f1 = %.3f\" % (accuracy, precision, recall, f1))"
   ]
  },
  {
   "cell_type": "markdown",
   "metadata": {
    "collapsed": true
   },
   "source": [
    "## Summary of Experiments\n",
    "-----\n",
    "* Unfortunately, these features alone did not provide much value, and are almost indistinguishable from the naive model of guessing the majority class. \n",
    "* The aren't really clear winners, unless you specified a particular metric:\n",
    "  * *__acc_test__* - RandomForrest (slower) & LinearSVC\n",
    "  * *__f_test__* -GuassianNB, LinearSVC, & RandomForrest (slower)\n",
    "* For the amount of time, effort, and research invested in thinking about which features might be indicative of information which is lost when transforming the data to a more standard way of representing text (cleaned, normalized, etc.), and then the regex involved, these were dissappointing results to say the least.\n",
    "* From the results, it's easy to see that models have varying strengths. Some train quickly but predict slowly, or vice versa - KNeighbors prediction time grows quickly with the size of the dataset, while other learners scale well to larger datasets. The time to process might be a real barrier to using a particular model in production.\n",
    "* Many models looked promising while training, but then were dissappointing in the testing set. "
   ]
  },
  {
   "cell_type": "code",
   "execution_count": 49,
   "metadata": {},
   "outputs": [
    {
     "name": "stdout",
     "output_type": "stream",
     "text": [
      "-------- LinearSVC tials\n"
     ]
    },
    {
     "data": {
      "text/html": [
       "<div>\n",
       "<table border=\"1\" class=\"dataframe\">\n",
       "  <thead>\n",
       "    <tr style=\"text-align: right;\">\n",
       "      <th></th>\n",
       "      <th>acc_test</th>\n",
       "      <th>acc_train</th>\n",
       "      <th>f_test</th>\n",
       "      <th>f_train</th>\n",
       "      <th>pred_time</th>\n",
       "      <th>train_time</th>\n",
       "    </tr>\n",
       "  </thead>\n",
       "  <tbody>\n",
       "    <tr>\n",
       "      <th>1_pct</th>\n",
       "      <td>0.493333</td>\n",
       "      <td>0.496667</td>\n",
       "      <td>0.350224</td>\n",
       "      <td>0.375648</td>\n",
       "      <td>0.0</td>\n",
       "      <td>0.000</td>\n",
       "    </tr>\n",
       "    <tr>\n",
       "      <th>10_pct</th>\n",
       "      <td>0.556667</td>\n",
       "      <td>0.543333</td>\n",
       "      <td>0.550459</td>\n",
       "      <td>0.537249</td>\n",
       "      <td>0.0</td>\n",
       "      <td>0.001</td>\n",
       "    </tr>\n",
       "    <tr>\n",
       "      <th>100_pct</th>\n",
       "      <td>0.565000</td>\n",
       "      <td>0.533333</td>\n",
       "      <td>0.566893</td>\n",
       "      <td>0.529248</td>\n",
       "      <td>0.0</td>\n",
       "      <td>0.030</td>\n",
       "    </tr>\n",
       "  </tbody>\n",
       "</table>\n",
       "</div>"
      ],
      "text/plain": [
       "         acc_test  acc_train    f_test   f_train  pred_time  train_time\n",
       "1_pct    0.493333   0.496667  0.350224  0.375648        0.0       0.000\n",
       "10_pct   0.556667   0.543333  0.550459  0.537249        0.0       0.001\n",
       "100_pct  0.565000   0.533333  0.566893  0.529248        0.0       0.030"
      ]
     },
     "metadata": {},
     "output_type": "display_data"
    },
    {
     "name": "stdout",
     "output_type": "stream",
     "text": [
      "-------- GaussianNB tials\n"
     ]
    },
    {
     "data": {
      "text/html": [
       "<div>\n",
       "<table border=\"1\" class=\"dataframe\">\n",
       "  <thead>\n",
       "    <tr style=\"text-align: right;\">\n",
       "      <th></th>\n",
       "      <th>acc_test</th>\n",
       "      <th>acc_train</th>\n",
       "      <th>f_test</th>\n",
       "      <th>f_train</th>\n",
       "      <th>pred_time</th>\n",
       "      <th>train_time</th>\n",
       "    </tr>\n",
       "  </thead>\n",
       "  <tbody>\n",
       "    <tr>\n",
       "      <th>1_pct</th>\n",
       "      <td>0.468333</td>\n",
       "      <td>0.513333</td>\n",
       "      <td>0.266559</td>\n",
       "      <td>0.340136</td>\n",
       "      <td>0.004</td>\n",
       "      <td>0.000</td>\n",
       "    </tr>\n",
       "    <tr>\n",
       "      <th>10_pct</th>\n",
       "      <td>0.486667</td>\n",
       "      <td>0.506667</td>\n",
       "      <td>0.000000</td>\n",
       "      <td>0.063291</td>\n",
       "      <td>0.000</td>\n",
       "      <td>0.004</td>\n",
       "    </tr>\n",
       "    <tr>\n",
       "      <th>100_pct</th>\n",
       "      <td>0.531667</td>\n",
       "      <td>0.493333</td>\n",
       "      <td>0.573903</td>\n",
       "      <td>0.546252</td>\n",
       "      <td>0.000</td>\n",
       "      <td>0.005</td>\n",
       "    </tr>\n",
       "  </tbody>\n",
       "</table>\n",
       "</div>"
      ],
      "text/plain": [
       "         acc_test  acc_train    f_test   f_train  pred_time  train_time\n",
       "1_pct    0.468333   0.513333  0.266559  0.340136      0.004       0.000\n",
       "10_pct   0.486667   0.506667  0.000000  0.063291      0.000       0.004\n",
       "100_pct  0.531667   0.493333  0.573903  0.546252      0.000       0.005"
      ]
     },
     "metadata": {},
     "output_type": "display_data"
    },
    {
     "name": "stdout",
     "output_type": "stream",
     "text": [
      "-------- LinearDiscriminantAnalysis tials\n"
     ]
    },
    {
     "data": {
      "text/html": [
       "<div>\n",
       "<table border=\"1\" class=\"dataframe\">\n",
       "  <thead>\n",
       "    <tr style=\"text-align: right;\">\n",
       "      <th></th>\n",
       "      <th>acc_test</th>\n",
       "      <th>acc_train</th>\n",
       "      <th>f_test</th>\n",
       "      <th>f_train</th>\n",
       "      <th>pred_time</th>\n",
       "      <th>train_time</th>\n",
       "    </tr>\n",
       "  </thead>\n",
       "  <tbody>\n",
       "    <tr>\n",
       "      <th>1_pct</th>\n",
       "      <td>0.501667</td>\n",
       "      <td>0.496667</td>\n",
       "      <td>0.516698</td>\n",
       "      <td>0.494580</td>\n",
       "      <td>0.0</td>\n",
       "      <td>0.004</td>\n",
       "    </tr>\n",
       "    <tr>\n",
       "      <th>10_pct</th>\n",
       "      <td>0.570000</td>\n",
       "      <td>0.553333</td>\n",
       "      <td>0.568643</td>\n",
       "      <td>0.545723</td>\n",
       "      <td>0.0</td>\n",
       "      <td>0.006</td>\n",
       "    </tr>\n",
       "    <tr>\n",
       "      <th>100_pct</th>\n",
       "      <td>0.560000</td>\n",
       "      <td>0.533333</td>\n",
       "      <td>0.562914</td>\n",
       "      <td>0.530303</td>\n",
       "      <td>0.0</td>\n",
       "      <td>0.005</td>\n",
       "    </tr>\n",
       "  </tbody>\n",
       "</table>\n",
       "</div>"
      ],
      "text/plain": [
       "         acc_test  acc_train    f_test   f_train  pred_time  train_time\n",
       "1_pct    0.501667   0.496667  0.516698  0.494580        0.0       0.004\n",
       "10_pct   0.570000   0.553333  0.568643  0.545723        0.0       0.006\n",
       "100_pct  0.560000   0.533333  0.562914  0.530303        0.0       0.005"
      ]
     },
     "metadata": {},
     "output_type": "display_data"
    },
    {
     "name": "stdout",
     "output_type": "stream",
     "text": [
      "-------- MultinomialNB tials\n"
     ]
    },
    {
     "data": {
      "text/html": [
       "<div>\n",
       "<table border=\"1\" class=\"dataframe\">\n",
       "  <thead>\n",
       "    <tr style=\"text-align: right;\">\n",
       "      <th></th>\n",
       "      <th>acc_test</th>\n",
       "      <th>acc_train</th>\n",
       "      <th>f_test</th>\n",
       "      <th>f_train</th>\n",
       "      <th>pred_time</th>\n",
       "      <th>train_time</th>\n",
       "    </tr>\n",
       "  </thead>\n",
       "  <tbody>\n",
       "    <tr>\n",
       "      <th>1_pct</th>\n",
       "      <td>0.486667</td>\n",
       "      <td>0.510000</td>\n",
       "      <td>0.156627</td>\n",
       "      <td>0.198020</td>\n",
       "      <td>0.0</td>\n",
       "      <td>0.000</td>\n",
       "    </tr>\n",
       "    <tr>\n",
       "      <th>10_pct</th>\n",
       "      <td>0.501667</td>\n",
       "      <td>0.526667</td>\n",
       "      <td>0.332198</td>\n",
       "      <td>0.374150</td>\n",
       "      <td>0.0</td>\n",
       "      <td>0.001</td>\n",
       "    </tr>\n",
       "    <tr>\n",
       "      <th>100_pct</th>\n",
       "      <td>0.516667</td>\n",
       "      <td>0.533333</td>\n",
       "      <td>0.537697</td>\n",
       "      <td>0.544496</td>\n",
       "      <td>0.0</td>\n",
       "      <td>0.004</td>\n",
       "    </tr>\n",
       "  </tbody>\n",
       "</table>\n",
       "</div>"
      ],
      "text/plain": [
       "         acc_test  acc_train    f_test   f_train  pred_time  train_time\n",
       "1_pct    0.486667   0.510000  0.156627  0.198020        0.0       0.000\n",
       "10_pct   0.501667   0.526667  0.332198  0.374150        0.0       0.001\n",
       "100_pct  0.516667   0.533333  0.537697  0.544496        0.0       0.004"
      ]
     },
     "metadata": {},
     "output_type": "display_data"
    },
    {
     "name": "stdout",
     "output_type": "stream",
     "text": [
      "-------- RandomForestClassifier tials\n"
     ]
    },
    {
     "data": {
      "text/html": [
       "<div>\n",
       "<table border=\"1\" class=\"dataframe\">\n",
       "  <thead>\n",
       "    <tr style=\"text-align: right;\">\n",
       "      <th></th>\n",
       "      <th>acc_test</th>\n",
       "      <th>acc_train</th>\n",
       "      <th>f_test</th>\n",
       "      <th>f_train</th>\n",
       "      <th>pred_time</th>\n",
       "      <th>train_time</th>\n",
       "    </tr>\n",
       "  </thead>\n",
       "  <tbody>\n",
       "    <tr>\n",
       "      <th>1_pct</th>\n",
       "      <td>0.503333</td>\n",
       "      <td>0.486667</td>\n",
       "      <td>0.473637</td>\n",
       "      <td>0.462382</td>\n",
       "      <td>0.212</td>\n",
       "      <td>0.512</td>\n",
       "    </tr>\n",
       "    <tr>\n",
       "      <th>10_pct</th>\n",
       "      <td>0.571667</td>\n",
       "      <td>0.656667</td>\n",
       "      <td>0.578911</td>\n",
       "      <td>0.657182</td>\n",
       "      <td>0.200</td>\n",
       "      <td>0.353</td>\n",
       "    </tr>\n",
       "    <tr>\n",
       "      <th>100_pct</th>\n",
       "      <td>0.555000</td>\n",
       "      <td>0.563333</td>\n",
       "      <td>0.557987</td>\n",
       "      <td>0.557971</td>\n",
       "      <td>0.201</td>\n",
       "      <td>0.512</td>\n",
       "    </tr>\n",
       "  </tbody>\n",
       "</table>\n",
       "</div>"
      ],
      "text/plain": [
       "         acc_test  acc_train    f_test   f_train  pred_time  train_time\n",
       "1_pct    0.503333   0.486667  0.473637  0.462382      0.212       0.512\n",
       "10_pct   0.571667   0.656667  0.578911  0.657182      0.200       0.353\n",
       "100_pct  0.555000   0.563333  0.557987  0.557971      0.201       0.512"
      ]
     },
     "metadata": {},
     "output_type": "display_data"
    },
    {
     "name": "stdout",
     "output_type": "stream",
     "text": [
      "-------- KNeighborsClassifier tials\n"
     ]
    },
    {
     "data": {
      "text/html": [
       "<div>\n",
       "<table border=\"1\" class=\"dataframe\">\n",
       "  <thead>\n",
       "    <tr style=\"text-align: right;\">\n",
       "      <th></th>\n",
       "      <th>acc_test</th>\n",
       "      <th>acc_train</th>\n",
       "      <th>f_test</th>\n",
       "      <th>f_train</th>\n",
       "      <th>pred_time</th>\n",
       "      <th>train_time</th>\n",
       "    </tr>\n",
       "  </thead>\n",
       "  <tbody>\n",
       "    <tr>\n",
       "      <th>1_pct</th>\n",
       "      <td>0.483333</td>\n",
       "      <td>0.510000</td>\n",
       "      <td>0.398180</td>\n",
       "      <td>0.454545</td>\n",
       "      <td>0.006</td>\n",
       "      <td>0.000</td>\n",
       "    </tr>\n",
       "    <tr>\n",
       "      <th>10_pct</th>\n",
       "      <td>0.523333</td>\n",
       "      <td>0.616667</td>\n",
       "      <td>0.528680</td>\n",
       "      <td>0.616531</td>\n",
       "      <td>0.011</td>\n",
       "      <td>0.002</td>\n",
       "    </tr>\n",
       "    <tr>\n",
       "      <th>100_pct</th>\n",
       "      <td>0.530000</td>\n",
       "      <td>0.713333</td>\n",
       "      <td>0.534083</td>\n",
       "      <td>0.720461</td>\n",
       "      <td>0.045</td>\n",
       "      <td>0.007</td>\n",
       "    </tr>\n",
       "  </tbody>\n",
       "</table>\n",
       "</div>"
      ],
      "text/plain": [
       "         acc_test  acc_train    f_test   f_train  pred_time  train_time\n",
       "1_pct    0.483333   0.510000  0.398180  0.454545      0.006       0.000\n",
       "10_pct   0.523333   0.616667  0.528680  0.616531      0.011       0.002\n",
       "100_pct  0.530000   0.713333  0.534083  0.720461      0.045       0.007"
      ]
     },
     "metadata": {},
     "output_type": "display_data"
    }
   ],
   "source": [
    "for model in model_results1:\n",
    "    print('-------- {} tials'.format(model))\n",
    "    display(pd.DataFrame.from_dict(model_results1[model], orient='columns').rename(columns={0:'1_pct',1:'10_pct',2:'100_pct'}).T)\n",
    "for model in model_results2:\n",
    "    print('-------- {} tials'.format(model))\n",
    "    display(pd.DataFrame.from_dict(model_results2[model], orient='columns').rename(columns={0:'1_pct',1:'10_pct',2:'100_pct'}).T)"
   ]
  },
  {
   "cell_type": "markdown",
   "metadata": {},
   "source": [
    "## Let's plot the Feature Importance \n",
    "-----\n",
    "* "
   ]
  },
  {
   "cell_type": "code",
   "execution_count": 50,
   "metadata": {
    "collapsed": true
   },
   "outputs": [],
   "source": [
    "from sklearn.ensemble import ExtraTreesClassifier"
   ]
  },
  {
   "cell_type": "code",
   "execution_count": 111,
   "metadata": {},
   "outputs": [
    {
     "data": {
      "text/plain": [
       "(3000L, 14L)"
      ]
     },
     "execution_count": 111,
     "metadata": {},
     "output_type": "execute_result"
    }
   ],
   "source": []
  },
  {
   "cell_type": "code",
   "execution_count": 51,
   "metadata": {
    "collapsed": true
   },
   "outputs": [],
   "source": [
    "# use this forest to model feature importance\n",
    "forest = ExtraTreesClassifier(n_estimators=250, \n",
    "                              random_state=42)\n",
    "forest.fit(dataset_prepped, \n",
    "           reviews_features['score'])\n",
    "\n",
    "# importance of features\n",
    "feat_import = forest.feature_importances_\n",
    "# variance of the features\n",
    "std = np.std([a_tree.feature_importances_ for a_tree in forest.estimators_], \n",
    "             axis=0)\n",
    "idx = np.argsort(feat_import)[::-1]"
   ]
  },
  {
   "cell_type": "code",
   "execution_count": 55,
   "metadata": {
    "scrolled": true
   },
   "outputs": [
    {
     "name": "stdout",
     "output_type": "stream",
     "text": [
      "feature: 7, importance: 0.0637816912364\n",
      "feature: 4, importance: 0.0723420228364\n",
      "feature: 2, importance: 0.149294771842\n",
      "feature: 3, importance: 0.114623701751\n",
      "feature: 5, importance: 0.201150937226\n",
      "feature: 6, importance: 0.099743959492\n",
      "feature: 1, importance: 0.0865325952976\n",
      "feature: 0, importance: 0.206061932416\n",
      "feature: 13, importance: 0.00040684264761\n",
      "feature: 12, importance: 0.000369278879298\n",
      "feature: 8, importance: 0.000339478732086\n",
      "feature: 9, importance: 0.00029456726056\n",
      "feature: 10, importance: 0.0024979961202\n",
      "feature: 11, importance: 0.00256022426379\n"
     ]
    }
   ],
   "source": [
    "for feat, importance in zip(idx, forest.feature_importances_):\n",
    "    print 'feature: {f}, importance {i}'.format(f=feat, i=importance)"
   ]
  },
  {
   "cell_type": "code",
   "execution_count": 56,
   "metadata": {},
   "outputs": [
    {
     "data": {
      "text/html": [
       "<div>\n",
       "<table border=\"1\" class=\"dataframe\">\n",
       "  <thead>\n",
       "    <tr style=\"text-align: right;\">\n",
       "      <th></th>\n",
       "      <th>feature</th>\n",
       "      <th>importance</th>\n",
       "      <th>std</th>\n",
       "    </tr>\n",
       "  </thead>\n",
       "  <tbody>\n",
       "    <tr>\n",
       "      <th>0</th>\n",
       "      <td>all_caps_word_cnt</td>\n",
       "      <td>0.041291</td>\n",
       "      <td>0.021417</td>\n",
       "    </tr>\n",
       "    <tr>\n",
       "      <th>1</th>\n",
       "      <td>diversity_score</td>\n",
       "      <td>0.048227</td>\n",
       "      <td>0.009705</td>\n",
       "    </tr>\n",
       "    <tr>\n",
       "      <th>5</th>\n",
       "      <td>vocab_size</td>\n",
       "      <td>0.062341</td>\n",
       "      <td>0.012684</td>\n",
       "    </tr>\n",
       "    <tr>\n",
       "      <th>6</th>\n",
       "      <td>word_count</td>\n",
       "      <td>0.063104</td>\n",
       "      <td>0.010957</td>\n",
       "    </tr>\n",
       "    <tr>\n",
       "      <th>3</th>\n",
       "      <td>frac_unusual</td>\n",
       "      <td>0.066358</td>\n",
       "      <td>0.020359</td>\n",
       "    </tr>\n",
       "    <tr>\n",
       "      <th>4</th>\n",
       "      <td>num_chars</td>\n",
       "      <td>0.139811</td>\n",
       "      <td>0.018180</td>\n",
       "    </tr>\n",
       "    <tr>\n",
       "      <th>7</th>\n",
       "      <td>word_to_char_frac</td>\n",
       "      <td>0.262235</td>\n",
       "      <td>0.016772</td>\n",
       "    </tr>\n",
       "    <tr>\n",
       "      <th>2</th>\n",
       "      <td>frac_non_stop_words</td>\n",
       "      <td>0.310268</td>\n",
       "      <td>0.024915</td>\n",
       "    </tr>\n",
       "  </tbody>\n",
       "</table>\n",
       "</div>"
      ],
      "text/plain": [
       "               feature  importance       std\n",
       "0    all_caps_word_cnt    0.041291  0.021417\n",
       "1      diversity_score    0.048227  0.009705\n",
       "5           vocab_size    0.062341  0.012684\n",
       "6           word_count    0.063104  0.010957\n",
       "3         frac_unusual    0.066358  0.020359\n",
       "4            num_chars    0.139811  0.018180\n",
       "7    word_to_char_frac    0.262235  0.016772\n",
       "2  frac_non_stop_words    0.310268  0.024915"
      ]
     },
     "execution_count": 56,
     "metadata": {},
     "output_type": "execute_result"
    }
   ],
   "source": [
    "feature_importance_df = pd.DataFrame(zip(num_attribs, clf.feature_importances_, std), columns=['feature', 'importance', 'std']).sort_values(by='importance')#, ascending=False)\n",
    "feature_importance_df#.set_index('feature')"
   ]
  },
  {
   "cell_type": "code",
   "execution_count": 102,
   "metadata": {
    "scrolled": false
   },
   "outputs": [
    {
     "name": "stdout",
     "output_type": "stream",
     "text": [
      "('Saving figure', 'feature_importance_hand_crafted_features')\n"
     ]
    },
    {
     "data": {
      "image/png": "[encoded data removed]",
      "text/plain": [
       "<matplotlib.figure.Figure at 0x1d343e80>"
      ]
     },
     "metadata": {},
     "output_type": "display_data"
    }
   ],
   "source": [
    "cmap = cm.get_cmap('Spectral')\n",
    "\n",
    "feature_importance_df.plot(kind='barh',\n",
    "                           xerr='std', \n",
    "                           color='yellow', alpha=0.70,\n",
    "                           ecolor='green', edgecolor='green')\n",
    "plt.yticks(range(feature_importance_df.shape[0]), \n",
    "           [feature_importance_df['feature'][i] for i in feature_importance_df.index])\n",
    "plt.ylim([-1, feature_importance_df.shape[0]])\n",
    "plt.title('Feature Importance - Engineered Features')\n",
    "save_fig(\"feature_importance_hand_crafted_features\",tight_layout=False)\n",
    "plt.show()"
   ]
  },
  {
   "cell_type": "markdown",
   "metadata": {},
   "source": [
    "## Applying a [Voting Classifier](http://scikit-learn.org/stable/modules/generated/sklearn.ensemble.VotingClassifier.html#sklearn.ensemble.VotingClassifier)\n",
    "-----\n",
    "* a quick attempt at combining the three models to vote on the predictions\n",
    "* applying a soft voting based on the argmax of the sums of predicted probabilities\n",
    "* applying hard/majority rule classifier for unifying estimators"
   ]
  },
  {
   "cell_type": "raw",
   "metadata": {
    "collapsed": true
   },
   "source": [
    "from sklearn.ensembles import VotingClassifier\n",
    "\n",
    "# models for estimating\n",
    "models = [('randomforest', clf_F), \n",
    "          ('gaussiannb', clf_A), \n",
    "          ('linearsvc', clf_B)\n",
    "         ]\n",
    "vote_soft = VotingClassifier(estimators=models, \n",
    "                             voting='soft')\n",
    "vote_soft.fit(dataset_prepped, \n",
    "              reviews_features['score']\n",
    "             )\n",
    "vote_hard = VotingClassifier(estimators=models, \n",
    "                             voting='hard')\n",
    "vote_hard.fit(dataset_prepped, \n",
    "              reviews_features['score']\n",
    "             )"
   ]
  },
  {
   "cell_type": "code",
   "execution_count": null,
   "metadata": {
    "collapsed": true
   },
   "outputs": [],
   "source": []
  },
  {
   "cell_type": "code",
   "execution_count": null,
   "metadata": {
    "collapsed": true
   },
   "outputs": [],
   "source": []
  },
  {
   "cell_type": "markdown",
   "metadata": {
    "collapsed": true
   },
   "source": [
    "## Test Sentences from, urbandictionary.com\n",
    "-----\n",
    "The idea is to grab and label polarized sentences from yet another source. This will help demonstrate if the model is generalizing well, investigate any shortcomings/look for inspiration for ideas of improvement.\n",
    "\n",
    "In summary, these work pretty well. The ones that were missed, would be challenging even as a human, without more context like speaker's disposition/bias, or word intention/meanings. \n",
    "\n",
    "Also, using a strategy of the two highest probabilites per class would do quite nicely. An example is Index 2 \"Nah, that place is a total touristaurant, my food was awful last time I ate there.\" where Bag-of-Words choked but the other two models were within the top quartile of predicting negative sentiment."
   ]
  },
  {
   "cell_type": "code",
   "execution_count": null,
   "metadata": {
    "collapsed": true
   },
   "outputs": [],
   "source": [
    "# document & score\n",
    "contrived_sents = [(\"Expensive restaurants with horrible food that people still go to for the prime location or atmosphere.\", 0), \n",
    " (\"It has a beautiful view of the Eiffel Tower!\", 1),\n",
    " (\"Nah, that place is a total touristaurant, my food was awful last time I ate there.\", 0),\n",
    " (\"I had a great day, climbed a hill and didn't check facebook.\", 1),\n",
    " (\"That corgi-shaped macaron is expensive because it's got instagram tax.\", 1),\n",
    " (\"That 1962 Alfa Romeo is good for transportainment\", 1),\n",
    " (\"not so great for getting to work in the snow\", 0),\n",
    " (\"This is so sad Alexa play despacito\", 0),\n",
    " (\"This better not escalate to Dutch ovens any time soon...\", 0),\n",
    " (\"Oh. It has too many calories for me. Well, OK.\", 1),\n",
    " (\"Mmm, this pizza is some good food.\", 1),\n",
    " (\"Food's better for throwing at someone than eating.\", 0), \n",
    " (\"Are you finished with your restau-rant? I get it, we're outta here. Let's pay the check and leave.\", 0),\n",
    " (\"The Primrose Bar and Restaurant in Ballynahinch, Co. Down in the north of Ireland is one of the best in the country. \",  1),\n",
    " (\"This burger is crappy.\", 0),\n",
    " (\"DUDE! I got buffungled by Amazon.com with a 8-12 day shipping time!\", 0),\n",
    " (\"I am going to <b>BUY</b> that game RIGHT NOW.\", 1),\n",
    " (\"wow, that was great!\", 1),\n",
    " (\"That movie was great!\", 1),\n",
    " (\"The computer crashed again. I lost three thousand lines of code.\", 0)\n",
    "]\n",
    "\n",
    "df_contrived = pd.DataFrame(contrived_sents,columns=['document','score'])\n",
    "df_contrived.head()"
   ]
  },
  {
   "cell_type": "code",
   "execution_count": null,
   "metadata": {
    "collapsed": true
   },
   "outputs": [],
   "source": [
    "# predict on the three models and review\n",
    "\n",
    "# load saved CountVecorizer and LogisticRegression models\n",
    "vect = joblib.load('./models/bows_default_2018-08-08.pkl')\n",
    "lr_clf = joblib.load('./models/logistic_regression_w_bows_2018-08-08.pkl')\n",
    "\n",
    "# transform and predict\n",
    "x_bows = vect.transform(df_contrived['document'].as_matrix())\n",
    "y_pred_proba_bows = lr_clf.predict_proba(x_bows)\n",
    "\n",
    "df_contrived['bows_0'] = y_pred_proba_bows[:,0]\n",
    "df_contrived['bows_1'] = y_pred_proba_bows[:,1]"
   ]
  },
  {
   "cell_type": "code",
   "execution_count": null,
   "metadata": {
    "collapsed": true
   },
   "outputs": [],
   "source": [
    "# load TfidfVectorizer and LogisticRegression models\n",
    "\n",
    "tfidf_vect = joblib.load('./models/tfidf_default_2018-08-08.pkl')\n",
    "lr_clf_2 = joblib.load('./models/logistic_regression_w_tfidf_2018-08-08.pkl')\n",
    "\n",
    "# transform and predict\n",
    "x_tfidf = tfidf_vect.transform(df_contrived['document'].as_matrix())\n",
    "y_pred_proba_x_tfidf = lr_clf_2.predict_proba(x_tfidf)\n",
    "\n",
    "df_contrived['tfidf_0'] = y_pred_proba_x_tfidf[:,0]\n",
    "df_contrived['tfidf_1'] = y_pred_proba_x_tfidf[:,1]"
   ]
  },
  {
   "cell_type": "code",
   "execution_count": null,
   "metadata": {
    "collapsed": true
   },
   "outputs": [],
   "source": [
    "# word2vec and Logistic Regression\n",
    "\n",
    "# clean the data\n",
    "df_contrived['tokens'] = df_contrived[\"document\"].apply(h.replace_contractions) \\\n",
    "                                               .apply(nltk.word_tokenize) \\\n",
    "                                               .apply(h.normalize) \\\n",
    "                                               .apply(h.lemmatize_verbs)\n",
    "display(df_contrived[['document','tokens']].head())\n",
    "\n",
    "# create the embeddings using gensim\n",
    "word2vec_embeddings = get_word2vec_embeddings(word2vec,\n",
    "                                              all_reviews=df_contrived)\n",
    "\n",
    "# predict the test set with the trained word2vec + Logistic Regression model\n",
    "#y_pred_w2v = lr_clf_w2v.predict(word2vec_embeddings)\n",
    "y_pred_proba_w2v = lr_clf_w2v.predict_proba(word2vec_embeddings)\n",
    "\n",
    "df_contrived['w2v_0'] = y_pred_proba_w2v[:,0]\n",
    "df_contrived['w2v_1'] = y_pred_proba_w2v[:,1]"
   ]
  },
  {
   "cell_type": "code",
   "execution_count": null,
   "metadata": {
    "collapsed": true
   },
   "outputs": [],
   "source": [
    "df_contrived[['document','score','bows_1','tfidf_1','w2v_1']]"
   ]
  },
  {
   "cell_type": "code",
   "execution_count": null,
   "metadata": {
    "collapsed": true
   },
   "outputs": [],
   "source": [
    "# explore topics on the urbandictionary.com sentences\n",
    "from gensim import corpora\n",
    "dictionary = corpora.Dictionary(df_contrived['tokens'])\n",
    "doc_term_matrix = [dictionary.doc2bow(doc) for doc in all_reviews['tokens']]\n",
    "lda = gensim.models.ldamodel.LdaModel\n",
    "ldamodel = lda(doc_term_matrix, num_topics=2, id2word = dictionary, passes=50)\n",
    "print(ldamodel.print_topics())"
   ]
  },
  {
   "cell_type": "markdown",
   "metadata": {
    "collapsed": true
   },
   "source": [
    "## Conclusion\n",
    "-----\n",
    "Sentiment analysis is challenging in practice, due to many of the constraints of models. Often times, the size of the text being classified is a factor. The longer the text, the less accurate the classification simply because there is a greater chance of ambiguity. Additionally, tuning a model to a particular data source may provide better metrics at the likely cost of sacrificing the generalizable model. And, as is true with most text-based tasks, the more data the better the model can be, which is dependent upon human or perhaps a semi-supervised method to get enough labels for modelling. \n",
    "\n",
    "In this capstone, we aimed at creating a generalizable model. Hence, the data chosen was aggregated from three separate sources: reviews from Yelp, Amazon, and iMDB. The idea being that in order to create a more generalizable model, the more diverse the data the better. The data is diverse from a site perspective, a product/industry perspective, and a language usage perspective (proper prose all the way to the gutter). The driver for chosing the models in this CapStone was immediate ease of interpretability, which is necessary in my industry for business/model validation committes et al buy-in/adoption.\n",
    "\n",
    "The experiment was begun by calculating a naive predictor as the baseline. Then, a default model baseline was established with minimal preprocessing and a simple frequency count to bag of words utilized by a linear regression model for classification (sklearn.CountVectorizer + sklearn.LogisticRegression). This baseline was then compared to a similar approach but switching out a a simple count frequency data representation for sklearn.TfidfVectorizer. Both results were very similar. However, one interesting observation was that even though the two models' metrics were similar, the actual instances where mistakes were made had sufficient non-overlap that a strategy could be devised to achieve higher metrics than just using either model individually.\n",
    "\n",
    "Next, hand-crafted feature engineering was tried by thinking about constructing features on information that might be lost due to preprocessing (removing punctuation, lower casing words, unusual and misspelled words, the richness of text, the fractions of stop words, etc.). Even with the use of grid search among six different models, the results were below the baseline of linear regression on a simple bag of words. This was extremely dissappointing as it involved a large time commitment. However it also goes to demonstrate the power of this simple model.\n",
    "\n",
    "Finally, a distributed vector was tried using a word2vec model created by Google researchers. The main advantages here is its ability to utilize words which have not been seen in the training data, as well as allowing for comparing similarities via vectors, either on the word-level or the document level. To incorporate the word2vec model, an average vector was created per document, which was then fed to Logistic Regression for prediction. This model was a noted improvement above the simple Bag of Words baseline. But, when an attempt was made to improve upon the word2vec + Logistic Regression model, via grid search, there wasn't much to be gained, so it would be better to use the first version.\n",
    "\n",
    "With the three strongest models being so close in terms of metrics, I collected some contrived sentences from UrbanDictionary.com and labelled them myself. Then, I predicted sentiment with the three models for comparison. This sort of technique seems feasable to explore weakness in the model. Using a strategy of the two highest probabilites per class did quite nicely, in this small sample.\n",
    "\n",
    "With all of this in mind, there are many interesting routes to pursue for increased performance. First steps might be testing a voting strategy between the three successful models, gathering more data for training, and trying different representations of data like part-of-speech and named entity recognition. Casting a wider net on models utilized, perhaps even state-of-the-art, is published enough to make it worthwhile to experiment. So, naturally LSTMs and CNNs come to mind as next steps. And, with exciting and recently published techniques like LIME (local Interpretable Model-Agnostic Explanations) the door may have swung a little wider to acceptable models in the business' eyes."
   ]
  },
  {
   "cell_type": "markdown",
   "metadata": {
    "collapsed": true
   },
   "source": [
    "### References Aides\n",
    "-----\n",
    "* [should I normalize/standardize/rescale the data](http://www.faqs.org/faqs/ai-faq/neural-nets/part2/section-16.html)\n",
    "* [sklearn LogisticRegression docs](http://scikit-learn.org/stable/modules/generated/sklearn.linear_model.LogisticRegression.html#sklearn.linear_model.LogisticRegression.predict_log_proba)\n",
    "* [About Logistic Regressions from stats.stackexchange](https://stats.stackexchange.com/questions/24405/analyzing-logistic-regression-coefficients)\n",
    "* [Plot class probabilities calculated by the VotingClassifier](http://scikit-learn.org/stable/auto_examples/ensemble/plot_voting_probas.html#sphx-glr-auto-examples-ensemble-plot-voting-probas-py)\n",
    "* [python-graph-gallery](https://python-graph-gallery.com/33-control-colors-of-boxplot-seaborn/)\n",
    "* [vector space model](https://en.wikipedia.org/wiki/Vector_space_model) - applications in relevance rankings, most common being cosine similarity and tf-idf (which is good for short docs but not long ones - b/c similarity becomes less w/ length)\n",
    "* [latent semantic analysis](https://en.wikipedia.org/wiki/Latent_semantic_analysis#Latent_semantic_indexing)\n",
    "\n",
    "* Gensim word2vec\n",
    "  * **[Gensim](https://radimrehurek.com/gensim/)** – Topic Modelling for Humans\n",
    "  * [Google's paper](https://code.google.com/archive/p/word2vec/), code for word2vec, and published pre-trained word2vec model (~1.6 GB file size)\n",
    "  * [Google Open Source Blog - Learning the meaning behind words, 2013](https://opensource.googleblog.com/2013/08/learning-meaning-behind-words.html)\n",
    "  * [Learning Representations of Text using Neural Networks, Tomas Mikolov, 2013](https://docs.google.com/file/d/0B7XkCwpI5KDYRWRnd1RzWXQ2TWc/edit)\n",
    "  * [gensim word2vec embeddings - for missing words](https://radimrehurek.com/gensim/models/word2vec.html)\n",
    "  * [gensim word2vec tutorial](https://rare-technologies.com/word2vec-tutorial/#app)\n",
    "  * [machine learning mastery word2vec and GloVe](https://machinelearningmastery.com/develop-word-embeddings-python-gensim/)\n",
    "\n",
    "* arXiv papers\n",
    "  * [Enriching Word Vectors with Subword Information, Piotr Bojanowski](https://arxiv.org/abs/1607.04606)\n",
    "  * [The Evolution of Sentiment Analysis - A Review of Research Topics, Venues, and Top Cited Papers](https://arxiv.org/ftp/arxiv/papers/1612/1612.01556.pdf)\n",
    "  * [Assessing State-of-the-Art Sentiment Models on State-of-the-Art Sentiment Datasets](http://www.aclweb.org/anthology/W17-5202)\n",
    "  * [Distributed Representations of Words and Phrases and their Compositionality, Tomas Mikolov, 2013](https://arxiv.org/pdf/1310.4546.pdf)\n",
    "  * [Efficient Estimation of Word Representations in Vector Space, Thomas Mikolov, 2013](https://arxiv.org/pdf/1301.3781.pdf)"
   ]
  },
  {
   "cell_type": "markdown",
   "metadata": {},
   "source": [
    "### Reference Notes\n",
    "-------\n",
    "\n",
    "  * **Noise Reduction** - removing non-relevant text to the context of the data (stop words, URLs/links, social media entities, punctuations and industry specific words, etc.)\n",
    "  * **Lexicon Normalization** - feature engineering step by converting versions of a word into a lemma, effectively reducing dimensionality\n",
    "    * stemming - rule-based, removing suffixes\n",
    "    * lemmatization - obtaining root form of word, using a vocabulary (standard lexical dictionary for importance of words) and morphological analysis (word structure and grammar relations)\n",
    "  * **Object Standardization** - often using regex to handle non-standard speech like acronyms, hashtags, and slang by creating a dictionary and a lookup method to map and replace such objects.\n",
    "  * **Syntactic Parsing** - \n",
    "    * **Dependency Grammar** - dependency trees finding root word of sentence with subtrees, making use of tripplets (relation, governor, dependent)\n",
    "    * **Part of Speech (POS) tags** - nouns, adjectives, adverbs, ett. but in finer detail like in this [Penn Treebank project list](https://www.ling.upenn.edu/courses/Fall_2003/ling001/penn_treebank_pos.html)\n",
    "      * reduces word ambiguities, when can have several meanings\n",
    "      * feature engineering, improving word-based features enabling models to learn proper context w/ the tag\n",
    "      * normalization and lemmatization based on POS tags\n",
    "      * efficient stopword removal by tagging low fequency words\n",
    "  * **Entity Extraction** - \n",
    "    * **Named Entity Recognition (NER)** consists of blocks\n",
    "      * noun phrase id - uses dependency parcing and pos tagging\n",
    "      * phrase classification - noun phrases to categories\n",
    "      * entity disambiguation - a validation layer to correct misclassified entities, typically using knowledge graphs like [Google Knowledge Graph](https://www.google.com/intl/en_us/insidesearch/features/search/knowledge.html) or IBM Watson and Wikipedia\n",
    "    * **Topic Modeling** - id topics present in a corpus\n",
    "      * Latent Dirichlet Allocation [(LDA)](http://scikit-learn.org/stable/modules/generated/sklearn.decomposition.LatentDirichletAllocation.html) is popular\n",
    "      * [On Finding the Natural Number of Topics with Latent Dirichlet Allocation: Some Observations, R. ArunV. SureshC. E. Veni MadhavanM. N. Narasimha Murthy](https://link.springer.com/chapter/10.1007%2F978-3-642-13657-3_43)\n",
    "  \n",
    "  * **Text Summarization** - taking large text data and reducing to most important and relevant topics/sentences\n",
    "  \n",
    "  * **Machine Translation** - translating between human languages, using grammar, semantics and real world info\n",
    "  \n",
    "  * **Natural Language Generation and Understanding** - converting information from text data or semantic intents into human-readable text. This can include constructing more logical structures, as a preprocessing step for models\n",
    "  \n",
    "  * **Optical Character Recognition** -convert visual images of text to text data\n",
    "  \n",
    "  * **Document to Information** - preprocessing like parsing text data from sources to standard formats for analyzing/modeling\n",
    "\n",
    "\n"
   ]
  }
 ],
 "metadata": {
  "kernelspec": {
   "display_name": "Python [conda env:python27]",
   "language": "python",
   "name": "conda-env-python27-py"
  },
  "language_info": {
   "codemirror_mode": {
    "name": "ipython",
    "version": 2
   },
   "file_extension": ".py",
   "mimetype": "text/x-python",
   "name": "python",
   "nbconvert_exporter": "python",
   "pygments_lexer": "ipython2",
   "version": "2.7.13"
  }
 },
 "nbformat": 4,
 "nbformat_minor": 2
}
