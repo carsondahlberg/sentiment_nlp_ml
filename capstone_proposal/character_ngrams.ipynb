{
 "cells": [
  {
   "cell_type": "code",
   "execution_count": 1,
   "metadata": {},
   "outputs": [
    {
     "name": "stdout",
     "output_type": "stream",
     "text": [
      "contractions version: contractions 0.0.16\n",
      "inflect version: inflect 0.3.1\n"
     ]
    }
   ],
   "source": [
    "# helper functions for text cleanup, preprocessing and eature engineering\n",
    "import helpers as h"
   ]
  },
  {
   "cell_type": "code",
   "execution_count": 2,
   "metadata": {},
   "outputs": [
    {
     "name": "stdout",
     "output_type": "stream",
     "text": [
      "Python version: 3.5.5 | packaged by conda-forge | (default, Jul 24 2018, 01:52:17) [MSC v.1900 64 bit (AMD64)]\n",
      "NumPy version: 1.13.1\n",
      "pandas version: 0.20.3\n",
      "seaborn version: 0.8.1\n",
      "SciPy version: 0.19.1\n",
      "scikit-learn version: 0.19.0\n",
      "IPython version: 6.1.0\n",
      "matplotlib version: 2.2.2\n"
     ]
    }
   ],
   "source": [
    "import re, string, unicodedata\n",
    "import os, glob, sys\n",
    "import logging\n",
    "from time import time\n",
    "import datetime\n",
    "\n",
    "import math\n",
    "import numpy as np\n",
    "np.random.seed(0) # set random seed for reproducibility\n",
    "import pandas as pd\n",
    "pd.set_option('display.width',4000)\n",
    "pd.set_option('max_colwidth',4000)\n",
    "pd.set_option('max_rows',100)\n",
    "pd.set_option('max_columns',200)\n",
    "\n",
    "import scipy as sp\n",
    "import sklearn\n",
    "\n",
    "import IPython\n",
    "#from IPython.core.interactiveshell import InteractiveShell\n",
    "#InteractiveShell.ast_node_interactivey = \"all\"\n",
    "from IPython.display import display\n",
    "import matplotlib\n",
    "import matplotlib.pyplot as plt\n",
    "%matplotlib inline\n",
    "import seaborn as sns; sns.set()\n",
    "\n",
    "# which versions\n",
    "print(\"Python version: {}\".format(sys.version))\n",
    "print(\"NumPy version: {}\".format(np.__version__))\n",
    "print(\"pandas version: {}\".format(pd.__version__))\n",
    "print(\"seaborn version: {}\".format(sns.__version__))\n",
    "print(\"SciPy version: {}\".format(sp.__version__))\n",
    "print(\"scikit-learn version: {}\".format(sklearn.__version__))\n",
    "print(\"IPython version: {}\".format(IPython.__version__))\n",
    "print(\"matplotlib version: {}\".format(matplotlib.__version__))"
   ]
  },
  {
   "cell_type": "code",
   "execution_count": 3,
   "metadata": {},
   "outputs": [
    {
     "name": "stdout",
     "output_type": "stream",
     "text": [
      "contractions version: contractions 0.0.16\n",
      "inflect version: inflect 0.3.1\n"
     ]
    }
   ],
   "source": [
    "# additional smaller but useful libraries \n",
    "# contractions is capable of resolving contractions (and slang)\n",
    "# could use to convert slang or create additional text\n",
    "import contractions # expanding contractions here https://pypi.org/project/contractions/\n",
    "print(\"contractions version: {}\".format('contractions 0.0.16'))\n",
    "\n",
    "# inflect.py - Correctly generate plurals, singular nouns, ordinals, indefinite articles; convert numbers to words.\n",
    "# https://pypi.org/project/inflect/ \n",
    "import inflect # generating plurals, singular nouns, ordinals, indefinite articles, and converting numbers to words\n",
    "print(\"inflect version: {}\".format('inflect 0.3.1'))"
   ]
  },
  {
   "cell_type": "code",
   "execution_count": 4,
   "metadata": {
    "collapsed": true
   },
   "outputs": [],
   "source": [
    "import nltk\n",
    "from nltk.corpus import stopwords\n",
    "\n",
    "# custom tokenization for feature engineering using raw text\n",
    "from nltk.tokenize import RegexpTokenizer\n",
    "\n",
    "from nltk.tokenize import sent_tokenize # or can use\n",
    "#from nltk.tokenize import PunktSentenceTokenizer # must be trained to be used\n",
    "from nltk.tokenize import word_tokenize\n",
    "\n",
    "from nltk.corpus import wordnet # for synonyms from WordNet\n",
    "\n",
    "from nltk.stem import PorterStemmer # word stemming english words\n",
    "from nltk.stem import SnowballStemmer # stemming non-English words\n",
    "from nltk.stem import LancasterStemmer\n",
    "from nltk.stem import WordNetLemmatizer # another lemmatizer\n",
    "\n",
    "from nltk.chunk import conlltags2tree, tree2conlltags # for nltk.Tree\n",
    "from nltk import pos_tag\n",
    "from nltk import ne_chunk\n",
    "#from nltk.tag import StanfordPOSTagger  # another POS tagger"
   ]
  },
  {
   "cell_type": "code",
   "execution_count": 5,
   "metadata": {},
   "outputs": [
    {
     "name": "stdout",
     "output_type": "stream",
     "text": [
      "sklearn total stop words: 318\n"
     ]
    }
   ],
   "source": [
    "# scikit-learn nlp functionality\n",
    "from sklearn.model_selection import train_test_split\n",
    "from sklearn.model_selection import cross_val_score, cross_val_predict\n",
    "from sklearn.feature_extraction.text import ENGLISH_STOP_WORDS\n",
    "print('sklearn total stop words: {}'.format(len(ENGLISH_STOP_WORDS)))\n",
    "\n",
    "from sklearn.model_selection import GridSearchCV\n",
    "\n",
    "from sklearn.decomposition import PCA\n",
    "\n",
    "from sklearn.linear_model import LogisticRegression\n",
    "#from sklearn.naive_bayes import MultinomialNB\n",
    "from sklearn.naive_bayes import GaussianNB\n",
    "from sklearn.ensemble import RandomForestClassifier\n",
    "from sklearn.neighbors import KNeighborsClassifier\n",
    "\n",
    "from sklearn.feature_extraction.text import TfidfVectorizer\n",
    "from sklearn.feature_extraction.text import CountVectorizer\n",
    "\n",
    "from sklearn.pipeline import make_pipeline\n",
    "\n",
    "from sklearn.metrics import fbeta_score, accuracy_score\n",
    "\n",
    "# model persistence\n",
    "from sklearn.externals import joblib\n",
    "# joblib.dump(clf, 'filename.pkl') \n",
    "# clf = joblib.load('filename.pkl')\n",
    "# result = clf.score(X_test, y_test)\n",
    "# yhat = clf.predict(X)"
   ]
  },
  {
   "cell_type": "code",
   "execution_count": 6,
   "metadata": {
    "collapsed": true
   },
   "outputs": [],
   "source": [
    "# Where to save the figures\n",
    "PROJECT_ROOT_DIR = \".\"\n",
    "DATA_PATH = os.path.join(PROJECT_ROOT_DIR, \"data\")\n",
    "IMAGES_PATH = os.path.join(PROJECT_ROOT_DIR, \"images\")\n",
    "MODEL_PATH = os.path.join(PROJECT_ROOT_DIR, \"models\")\n",
    "TODAY = datetime.datetime.today().strftime('%Y-%m-%d')\n",
    "\n",
    "# make sure all paths present\n",
    "if not os.path.isdir(DATA_PATH):\n",
    "    os.makedirs(DATA_PATH)\n",
    "if not os.path.isdir(IMAGES_PATH):\n",
    "    os.makedirs(IMAGES_PATH)\n",
    "if not os.path.isdir(MODEL_PATH):\n",
    "    os.makedirs(MODEL_PATH)\n",
    "\n",
    "def save_fig(fig_id, tight_layout=True, fig_extension=\"png\", resolution=300):\n",
    "    path = os.path.join(IMAGES_PATH, fig_id + \"_\" + TODAY + \".\" + fig_extension)\n",
    "    print(\"Saving figure\", fig_id)\n",
    "    if tight_layout:\n",
    "        plt.tight_layout()\n",
    "    plt.savefig(path, format=fig_extension, dpi=resolution)\n",
    "\n",
    "def save_model(model, model_id, model_extension=\"pkl\"):\n",
    "    path = os.path.join(MODEL_PATH, model_id + \"_\" + TODAY + \".\" + model_extension)\n",
    "    print(\"Saving model\", model_id)\n",
    "    joblib.dump(model, path) \n",
    "\n",
    "# test saving fig\n",
    "#imdb_df.len.hist(bins=100)\n",
    "#save_fig('test_save_img')\n",
    "#plt.show()"
   ]
  },
  {
   "cell_type": "code",
   "execution_count": 10,
   "metadata": {},
   "outputs": [],
   "source": [
    "path = os.path.join(DATA_PATH, \"combined_raw_data*\" + \".csv\")\n",
    "combined_data = glob.glob(path)\n",
    "all_reviews = pd.read_csv(combined_data[0])"
   ]
  },
  {
   "cell_type": "code",
   "execution_count": 11,
   "metadata": {},
   "outputs": [
    {
     "data": {
      "text/html": [
       "<div>\n",
       "<style>\n",
       "    .dataframe thead tr:only-child th {\n",
       "        text-align: right;\n",
       "    }\n",
       "\n",
       "    .dataframe thead th {\n",
       "        text-align: left;\n",
       "    }\n",
       "\n",
       "    .dataframe tbody tr th {\n",
       "        vertical-align: top;\n",
       "    }\n",
       "</style>\n",
       "<table border=\"1\" class=\"dataframe\">\n",
       "  <thead>\n",
       "    <tr style=\"text-align: right;\">\n",
       "      <th></th>\n",
       "      <th>document</th>\n",
       "      <th>tokens</th>\n",
       "    </tr>\n",
       "  </thead>\n",
       "  <tbody>\n",
       "    <tr>\n",
       "      <th>0</th>\n",
       "      <td>A very, very, very slow-moving, aimless movie about a distressed, drifting young man.</td>\n",
       "      <td>[slowmoving, aimless, movie, distress, drift, young, man]</td>\n",
       "    </tr>\n",
       "    <tr>\n",
       "      <th>1</th>\n",
       "      <td>Not sure who was more lost - the flat characters or the audience, nearly half of whom walked out.</td>\n",
       "      <td>[sure, lose, flat, character, audience, nearly, half, walk]</td>\n",
       "    </tr>\n",
       "    <tr>\n",
       "      <th>2</th>\n",
       "      <td>Attempting artiness with black &amp; white and clever camera angles, the movie disappointed - became even more ridiculous - as the acting was poor and the plot and lines almost non-existent.</td>\n",
       "      <td>[attempt, artiness, black, white, clever, camera, angle, movie, disappoint, become, even, ridiculous, act, poor, plot, line, almost, nonexistent]</td>\n",
       "    </tr>\n",
       "    <tr>\n",
       "      <th>3</th>\n",
       "      <td>Very little music or anything to speak of.</td>\n",
       "      <td>[little, music, anything, speak]</td>\n",
       "    </tr>\n",
       "    <tr>\n",
       "      <th>4</th>\n",
       "      <td>The best scene in the movie was when Gerardo is trying to find a song that keeps running through his head.</td>\n",
       "      <td>[best, scene, movie, gerardo, try, find, song, keep, run, head]</td>\n",
       "    </tr>\n",
       "  </tbody>\n",
       "</table>\n",
       "</div>"
      ],
      "text/plain": [
       "                                                                                                                                                                                       document                                                                                                                                             tokens\n",
       "0                                                                                                       A very, very, very slow-moving, aimless movie about a distressed, drifting young man.                                                                                            [slowmoving, aimless, movie, distress, drift, young, man]\n",
       "1                                                                                           Not sure who was more lost - the flat characters or the audience, nearly half of whom walked out.                                                                                          [sure, lose, flat, character, audience, nearly, half, walk]\n",
       "2  Attempting artiness with black & white and clever camera angles, the movie disappointed - became even more ridiculous - as the acting was poor and the plot and lines almost non-existent.    [attempt, artiness, black, white, clever, camera, angle, movie, disappoint, become, even, ridiculous, act, poor, plot, line, almost, nonexistent]\n",
       "3                                                                                                                                                  Very little music or anything to speak of.                                                                                                                     [little, music, anything, speak]\n",
       "4                                                                                  The best scene in the movie was when Gerardo is trying to find a song that keeps running through his head.                                                                                      [best, scene, movie, gerardo, try, find, song, keep, run, head]"
      ]
     },
     "execution_count": 11,
     "metadata": {},
     "output_type": "execute_result"
    }
   ],
   "source": [
    "# create cleaned up, preprocessed tokens to be used by all three models. \n",
    "# %%timeit # 9.09 s ± 339 ms per loop (mean ± std. dev. of 7 runs, 1 loop each)\n",
    "# custom tokenization and preprocessing\n",
    "# note: h.normalize revoves non-ascii words, converts to lower case, removes punct, \n",
    "#       replaces numbers with words, and removes stopwords\n",
    "all_reviews['tokens'] = all_reviews[\"document\"].apply(h.denoise_text) \\\n",
    "                                                .apply(h.replace_contractions) \\\n",
    "                                               .apply(nltk.word_tokenize) \\\n",
    "                                               .apply(h.normalize) \\\n",
    "                                               .apply(h.lemmatize_verbs)\n",
    "all_reviews[['document','tokens']].head()"
   ]
  },
  {
   "cell_type": "code",
   "execution_count": 12,
   "metadata": {},
   "outputs": [
    {
     "name": "stdout",
     "output_type": "stream",
     "text": [
      "TRAINING:\n",
      "  length of X_train: 2400\n",
      "\n",
      "  Samples per class (training):\n",
      "0    1207\n",
      "1    1193\n",
      "Name: score, dtype: int64\n",
      "\n",
      "TESTING:\n",
      "  length of : 600\n",
      "\n",
      "  Samples per class (training):\n",
      "1    307\n",
      "0    293\n",
      "Name: score, dtype: int64\n",
      "\n"
     ]
    }
   ],
   "source": [
    "# then split between train/test\n",
    "# looks like the data is split relatively evenly between classes [0,1]\n",
    "# checking that stratify and shuffle are, in fact, the default\n",
    "X_train, X_test, y_train, y_test = train_test_split(all_reviews['tokens'].apply(' '.join),\n",
    "                                                    all_reviews['score'],\n",
    "                                                    random_state=42, \n",
    "                                                    test_size=0.2\n",
    "                                                   )\n",
    "print('TRAINING:')\n",
    "print('  length of X_train: {}\\n'.format(len(X_train)))\n",
    "print(\"  Samples per class (training):\\n{}\\n\".format(y_train.value_counts()))\n",
    "\n",
    "print('TESTING:')\n",
    "print('  length of : {}\\n'.format(len(X_test)))\n",
    "print(\"  Samples per class (training):\\n{}\\n\".format(y_test.value_counts()))"
   ]
  },
  {
   "cell_type": "raw",
   "metadata": {},
   "source": [
    "# then split between train/test\n",
    "# looks like the data is split relatively evenly between classes [0,1]\n",
    "# checking that stratify and shuffle are, in fact, the default\n",
    "X_train, X_test, y_train, y_test = train_test_split(all_reviews['document'],\n",
    "                                                    all_reviews['score'],\n",
    "                                                    random_state=42, \n",
    "                                                    test_size=0.2\n",
    "                                                   )\n",
    "print('TRAINING:')\n",
    "print('  length of X_train: {}\\n'.format(len(X_train)))\n",
    "print(\"  Samples per class (training):\\n{}\\n\".format(y_train.value_counts()))\n",
    "\n",
    "print('TESTING:')\n",
    "print('  length of : {}\\n'.format(len(X_test)))\n",
    "print(\"  Samples per class (training):\\n{}\\n\".format(y_test.value_counts()))"
   ]
  },
  {
   "cell_type": "code",
   "execution_count": 13,
   "metadata": {},
   "outputs": [
    {
     "data": {
      "text/plain": [
       "CountVectorizer(analyzer='char_wb', binary=False, decode_error='strict',\n",
       "        dtype=<class 'numpy.int64'>, encoding='utf-8', input='content',\n",
       "        lowercase=True, max_df=0.99, max_features=10000, min_df=0.01,\n",
       "        ngram_range=(2, 10), preprocessor=None, stop_words=None,\n",
       "        strip_accents=None, token_pattern='(?u)\\\\b\\\\w\\\\w+\\\\b',\n",
       "        tokenizer=None, vocabulary=None)"
      ]
     },
     "execution_count": 13,
     "metadata": {},
     "output_type": "execute_result"
    }
   ],
   "source": [
    "# CountVectorizer tokenizes and creates the .vocabulary_\n",
    "vect = CountVectorizer(max_features=10000, \n",
    "                       max_df=0.99,          # ignore terms w/ doc freq higher than threshold\n",
    "                       min_df=0.01,          # ignore rarer terms\n",
    "                       #stop_words=\"english\", # using sklearn's stopwords\n",
    "                       analyzer='char_wb',   # char level ngrams\n",
    "                       ngram_range=(2, 10)     # using unigrams first\n",
    "                      )\n",
    "vect.fit(X_train)"
   ]
  },
  {
   "cell_type": "code",
   "execution_count": 14,
   "metadata": {},
   "outputs": [
    {
     "name": "stdout",
     "output_type": "stream",
     "text": [
      "vocab size: 2523:\n",
      "vocab:\n",
      "{' be': 41, 'gra': 1251, ' work ': 595, ' better': 50, ' every': 158, 'ron': 2078, ' litt': 291, ' loo': 296, ' tw': 549, 'ak': 644, 'erfe': 1076, 'ine ': 1398, ' sup': 503, 'watch ': 2457, 'av': 745, 'uck': 2360, 'cter': 887, 'tabl': 2223, 'ittl': 1459, 'et ': 1120, 'pec': 1862, 'omme': 1746, ' would': 603, 'mov': 1612, ' ye': 607, 'serv': 2147, ' scre': 459, 'rrib': 2083, ' excelle': 169, ' come': 90, 'cellent ': 824, 'gh': 1234, 'rc': 1976, 'erythi': 1106, 'ation ': 737, 'ed': 995, 'terrible': 2257, ' compl': 97, 'abl': 612, 'eally ': 967, 'terrible ': 2258, 'oug': 1823, 'pric': 1934, 'old': 1731, 'rger': 2031, 'nitely ': 1674, 'xcellen': 2492, 'era': 1070, 'ny': 1706, 'plac': 1897, 'qui': 1959, 'cin': 848, 'oduct': 1719, ' del': 118, 'ye': 2506, 'bi': 787, ' d': 108, 'bri': 801, 'wr': 2485, 'harac': 1266, 'unc': 2380, 'rly ': 2064, 'ct ': 885, 'ke ': 1473, 'esp': 1113, 'mmen': 1605, 'pect ': 1867, 'py': 1950, 'fect': 1173, ' happ': 239, 'rd': 1977, 'come': 857, 'red ': 2004, 'ortab': 1803, 'tch ': 2240, 'people': 1872, ' ba': 28, 'pic': 1890, 'ne ': 1648, 'ity': 1462, 'ten ': 2250, 'sur': 2217, 'bo': 796, ' mea': 309, ' gr': 229, ' qui': 421, ' goo': 226, 'ul': 2372, 'err': 1087, 'rge': 2029, ' ru': 448, 'hea': 1275, 'see ': 2142, 'ienc': 1354, 'ist': 1448, ' to': 541, 'phone': 1887, 'ali': 652, ' ten ': 514, 'ery': 1102, 'lk': 1531, 'so ': 2176, 'rm': 2065, 'rk': 2060, 'ial': 1327, 'lt': 1560, 'ore': 1789, ' wo': 588, ' exc': 165, 'we': 2460, 'inute': 1416, ' hi': 248, 'tion': 2296, 'terribl': 2256, 'nter': 1698, ' enoug': 148, 'lace ': 1484, 'scene': 2132, 'friend': 1215, ' tota': 543, ' sea': 461, 'nt': 1694, ' ever ': 157, 'far ': 1168, ' disappoi': 131, 'pret': 1929, 'rvice': 2105, 'hous': 1304, ' poor ': 394, 'ale': 651, 'erienc': 1084, ' battery': 39, 'ecial': 982, ' cam': 68, 'muc': 1624, 'aracter': 699, 'charac': 835, 'rin': 2053, 'comfort': 862, 'ndred': 1645, 'ime ': 1386, 'ens': 1055, 'so': 2175, 'ecommend': 988, ' plot ': 390, 'thi': 2268, 'xcellent ': 2494, ' best': 45, 'inutes': 1417, 'let': 1508, 'joy': 1469, ' want ': 571, ' ins': 269, 'ass': 720, ' thre': 536, 'ze ': 2522, 'nou': 1684, 'rible ': 2037, 'veral': 2423, 'ppoint ': 1924, ' dr': 134, ' tast': 511, 'lat': 1491, 'ina': 1391, ' pi': 376, ' blu': 55, 'ry ': 2108, ' a': 0, ' ma': 303, 'eadse': 958, 'ace ': 619, ' en': 143, 'acter ': 626, 'vice': 2434, 'never': 1657, 'tri': 2321, 'ough ': 1825, ' pu': 412, 'and ': 678, 'ew ': 1144, 'think ': 2273, 'coul': 875, 'ience': 1355, 'back': 762, ' rest': 441, 'ic ': 1335, 'ton': 2310, 'ob': 1710, 'la': 1481, ' and ': 17, 'qua': 1953, 'ppoin': 1922, 'und ': 2382, 'ile': 1377, 'defi': 906, ' film ': 186, 'neve': 1656, 'ern': 1086, 'ttl': 2334, 'bel': 775, 'reco': 1995, 'au': 743, 'comp': 868, ' phone ': 375, 'res': 2012, ' bett': 48, ' so': 479, 'su': 2215, ' ov': 353, 'haracter ': 1270, ' good': 227, ' want': 570, ' heads': 243, 'cellen': 822, ' ti': 537, 'disappo': 929, ' bi': 52, 'arge': 706, 'ls': 1557, ' minute': 314, 'gn': 1244, ' sound': 484, ' sa': 450, ' deli': 119, ' wan': 569, 'ompl': 1751, 'mme': 1604, 'rythin': 2112, 'sap': 2120, 'ust': 2406, 'atch': 728, 'ur': 2391, 'ru': 2100, 'arge ': 707, 'eig': 1020, 'mu': 1623, ' produ': 408, ' qual': 416, ' play': 386, 'horr': 1302, 'hel': 1282, ' far': 177, 'able ': 614, 'rac': 1964, 'du': 947, 'finitely': 1192, 'tre': 2320, ' any': 18, 'eli': 1025, ' frien': 208, 'hink ': 1294, 'len': 1501, ' car': 69, 'ati': 734, 'ttery': 2332, 'order': 1787, 'fr': 1210, ' sce': 455, 'experie': 1158, 'uld ': 2375, 'ven': 2418, ' y': 606, ' real': 427, 'housand': 1307, 'ok': 1727, 'wn': 2466, 'ture': 2341, 'ele': 1024, ' way ': 581, 'recommen': 1999, 'three ': 2283, 'reat': 1991, 'sh': 2157, 'mp': 1618, 'iend': 1357, 'ini': 1401, 'over': 1843, ' one ': 347, 'rou': 2079, ' exp': 172, 'nu': 1701, 'mak': 1569, 'som': 2178, 'jo': 1468, 'ice ': 1339, 'wo ': 2468, 'gen': 1228, 'verything ': 2431, 'da': 899, 'efinitel': 1014, 'cte': 886, 'hundr': 1320, ' tas': 510, ' give': 222, ' wors': 596, 'ligh': 1515, ' nice': 340, 'dset': 945, 'dly': 935, ' pri': 401, 'mar': 1575, 'ork': 1792, 'uality ': 2355, 'veg': 2417, 'three': 2282, 'buy': 804, 'mfo': 1592, 'ing': 1399, ' order': 351, 'ible ': 1333, ' place': 384, ' hear': 247, 'ece ': 979, 'ones': 1761, 'li': 1509, ' nice ': 341, ' good ': 228, 'bre': 798, 'oy ': 1854, 'eryt': 1104, 'service': 2151, 'ould': 1827, ' hea': 241, ' buy ': 64, 'dr': 938, ' love': 300, 'comfor': 861, 'ot': 1814, 'ervice': 1100, 'peop': 1870, 'hree': 1312, 'und': 2381, 'sound ': 2185, 'ub': 2356, ' int': 270, 'ousan': 1837, 'get ': 1232, 'as': 715, ' ke': 276, ' bad': 32, 'athe': 733, 'ely ': 1034, 'love ': 1554, 'tar ': 2234, ' in': 267, ' back': 30, 'plot': 1905, ' n': 329, 'xcell': 2490, ' expe': 173, 'son ': 2181, ' pho': 372, ' fee': 180, 'nce': 1634, 'minutes': 1601, 'rful': 2026, 'k ': 1471, 'iti': 1457, ' aw': 26, ' excell': 168, 'break': 800, 'atc': 727, ' frie': 207, 'ace': 618, ' right ': 446, 'ht ': 1315, 'ry': 2107, 'dly ': 936, 'mon': 1609, 'cept': 828, 'frien': 1214, 'rge ': 2030, 'great ': 1255, 'al ': 649, 'nte': 1697, ' and': 16, 'tl': 2303, ' make ': 306, 'nice': 1667, 'ie': 1348, 'wor': 2473, ' direct': 125, ' att': 24, 'kin': 1475, 'ste': 2200, 'disap': 927, 'ssi': 2194, ' enough ': 150, 'ear ': 970, 'nl': 1678, 'etter ': 1126, 'tw': 2345, ' amaz': 12, 'fiv': 1198, 'would': 2483, 'excellen': 1151, 'omm': 1745, 'noth': 1683, 'able': 613, 'tio': 2295, ' two': 550, 'prod': 1939, ' excellent': 171, 'bet': 782, 'bett': 783, 'disapp': 928, 'nst': 1693, 'still ': 2208, 'ver': 2420, ' th': 522, ' ear': 137, 'fi': 1181, ' cl': 86, 'ose ': 1811, 'rel': 2009, 'iou': 1423, 'llent': 1536, ' veg': 562, 'de': 902, 'housan': 1306, 'eno': 1050, 'duct': 949, 'call': 809, 'ene': 1049, 'ctor': 894, ' hundre': 260, 'ommend': 1748, 'oble': 1712, 'ttery ': 2333, 'ike': 1373, 'sh ': 2158, ' defin': 113, 'nough': 1686, 'gue': 1257, ' pe': 360, 'nj': 1675, 'h ': 1258, 'lace': 1483, 'erv': 1096, 'on ': 1753, 'vic': 2433, ' everythin': 163, 'old ': 1732, 'chi': 843, 'hundred': 1322, 'rienc': 2043, 'mat': 1576, ' piec': 378, 'hap': 1262, 'work ': 2475, 'ney ': 1660, 'harg': 1271, 'rall': 1970, 'ex': 1145, 'phon': 1886, 'wan': 2446, ' p': 356, ' ex': 164, 'men': 1585, 'dir': 921, 'recommend ': 2001, 'racte': 1966, ' act': 3, 'ho': 1296, 'xperi': 2498, 'enc': 1041, ' scr': 458, 'ant ': 682, 'mm': 1603, 'edi': 997, 'lot ': 1551, 'tast': 2236, ' pr': 395, 'ook ': 1771, 'lli': 1538, 'in': 1389, 'irs': 1432, 'appoint ': 692, ' bo': 56, 'hundre': 1321, 'nge': 1664, ' right': 445, 'line': 1521, 'sti': 2204, 'sen': 2144, 'erall': 1072, 'riendl': 2046, 'definitel': 911, 'is': 1435, 'ba': 759, 'olu': 1735, 'excell': 1149, 'perfect': 1878, 'recommend': 2000, 'undre': 2386, 'tte': 2329, 'ss': 2192, 'ck ': 850, 'erfec': 1077, 'five ': 1200, 'cial': 847, 'ser': 2145, 'ig': 1367, ' ge': 217, 'eri': 1081, 'urn': 2396, 'tar': 2233, 'ase ': 718, 'little': 1527, 'vies': 2438, 'ish': 1446, 'inter': 1413, 'mus': 1627, ' recommen': 438, 'everyt': 1137, 'ec': 977, ' st': 488, 'ow': 1849, 'ity ': 1463, 'ommen': 1747, ' also ': 9, ' wond': 590, ' or': 348, 'tur': 2340, 'xperienc': 2501, 'nf': 1661, 'stil': 2206, 'sup': 2216, 'sid': 2164, 'batte': 769, 'ugh ': 2369, ' pie': 377, 'se ': 2139, 'ner': 1651, ' wou': 601, 'iendly ': 1360, 'mil': 1596, ' act ': 4, 'duc': 948, 'inite': 1403, 'ev': 1129, 'bab': 760, 'right ': 2052, 'wond': 2470, 'too': 2311, 'charact': 836, 'ins': 1409, 'finitel': 1191, ' pret': 397, 'll': 1532, 'nder': 1639, ' take ': 509, ' ap': 19, 'eve': 1130, 'ndly ': 1642, 'p ': 1855, 'comme': 864, 'ac': 617, 'recom': 1996, 'cont': 872, ' da': 109, ' thing': 525, 'tak': 2228, 'hone': 1299, 'ran': 1971, 'direct': 924, 'reat ': 1992, 'much ': 1626, 'lm ': 1543, 'up': 2390, 'scre': 2134, 'sappoint ': 2126, 'fa': 1166, 'ble': 791, 'food': 1205, 'dri': 942, ' see ': 463, 'poin': 1909, 'racter': 1967, 'ndly': 1641, 'way': 2458, 'ra': 1962, 'ak ': 645, 'nutes': 1704, 'experien': 1159, ' lo': 295, 'evi': 1142, 'really ': 1990, 'orde': 1786, 'ally': 658, 'know': 1478, 'rfu': 2025, 'ip': 1426, ' mak': 304, ' sto': 496, 'op': 1778, 'wors': 2476, 'ink': 1407, 'nat': 1632, 'real': 1986, ' cont': 100, ' wa': 566, 'at': 725, ' for': 203, 'anc': 674, 'sma': 2174, ' pla': 382, 'story': 2211, ' re': 425, 'asi': 719, ' sti': 492, 'iev': 1363, ' con': 98, ' per': 366, 'mis': 1602, 'llen': 1535, 'hin': 1290, 'rder ': 1981, 'rything': 2113, ' prob': 406, 'hi': 1285, 'rma': 2067, 'utes': 2411, 'be': 773, 'th ': 2264, ' giv': 221, ' brea': 59, ' un': 553, ' excellen': 170, 'tu': 2339, 'servic': 2150, 'tot': 2315, 'ma': 1568, ' worst ': 598, 'nin': 1669, 'movie ': 1615, 'pp': 1918, 'film': 1183, ' not': 343, 'much': 1625, 'ont': 1766, ' grea': 231, 'ound ': 1831, 'housa': 1305, 'ough': 1824, ' phon': 373, 'ption': 1948, 'thr': 2280, 'ree': 2006, 'hun': 1318, 'vi': 2432, 'specia': 2190, 'onal': 1755, 'art': 713, 'pt ': 1945, 'ar ': 694, 'finit': 1189, 'il ': 1376, 'ree ': 2007, 'int ': 1411, 'qual': 1954, ' ab': 1, 'ff': 1179, 'py ': 1951, ' star': 490, 'xt': 2503, 're ': 1983, ' impr': 266, 'ay': 751, 'brea': 799, 'em ': 1036, 'eel': 1002, 'inte': 1412, 'could ': 877, 'recomme': 1998, 'ure ': 2395, ' great ': 233, 'ill ': 1379, 'any': 683, 'ortabl': 1804, 'rfect': 2024, 'peopl': 1871, 'ectio': 993, 'ey ': 1164, 'rie': 2041, ' eas': 139, 'uality': 2354, ' try ': 548, 'ack ': 621, 'ces': 829, 'ol ': 1730, 'lit': 1524, 'aze ': 757, 'orth ': 1806, 'rice ': 2040, 'ory ': 1808, 'tel': 2244, 'pres': 1927, 'under': 2384, 'ous': 1834, ' mu': 324, 'lia': 1510, 'peo': 1869, 'vie': 2436, 'two': 2346, 'acte': 624, ' orde': 350, 'rti': 2098, 'orr': 1796, 'lar': 1489, 'ably ': 616, 'een ': 1005, 'efinitely ': 1016, ' am': 10, 'quit': 1960, 'rr': 2081, 'hou': 1303, 'amaze ': 668, ' some': 481, ' horr': 254, 'haract': 1267, 'ment': 1588, 'uni': 2389, ' character': 81, ' peop': 362, ' use': 558, 'ge': 1226, 'ic': 1334, 'ght': 1236, 'everythin': 1140, ' cu': 107, 'experi': 1157, ' e': 135, 'head': 1276, 'noug': 1685, ' hap': 238, 'wai': 2444, ' headse': 244, ' little': 293, 'tif': 2287, ' people ': 365, 'erve': 1097, ' ove': 354, 'errib': 1089, 'pri': 1933, 'ious ': 1425, 'pla': 1896, 'rt': 2091, 'omp': 1750, 's ': 2115, 'ven ': 2419, 'al': 648, ' pl': 381, ' sev': 471, 'ate ': 731, ' wast': 573, 'az': 755, 'ecom': 984, ' cou': 102, ' pretty': 399, 'ere': 1073, 'arl': 709, 'five': 1199, 'time': 2292, ' imp': 265, 'e ': 953, 'ne': 1647, ' bar': 34, 'erything ': 1109, ' cha': 75, 'attery ': 742, 'nt ': 1695, 'ost ': 1813, 'ience ': 1356, 'olut': 1736, ' av': 25, 'int': 1410, ' kn': 278, ' better ': 51, ' lik': 287, ' hand': 237, ' comfo': 93, 'he': 1274, 'co': 854, ' vi': 563, 'impr': 1388, ' man': 307, 'hing ': 1292, ' as': 22, ' tak': 507, 'cho': 844, 'us': 2398, 'ably': 615, 'experienc': 1160, ' everyt': 160, 'lac': 1482, 'piece ': 1894, 'char': 833, 'rite': 2058, 'ri': 2033, ' t': 505, 'look ': 1549, 'ay ': 752, 'ong ': 1763, 'isap': 1437, 'own': 1852, 'ght ': 1237, ' movie ': 321, ' do': 133, 'lay': 1492, 'ei': 1019, 'les': 1505, 'comf': 859, 'eep': 1006, 'way ': 2459, ' dis': 126, ' tra': 546, 'ain': 641, 'cell': 820, 'dia': 919, 'owe': 1851, 'would ': 2484, 'set ': 2154, 'fu': 1220, 'ome': 1739, ' sp': 486, 'uali': 2352, 'ress ': 2014, 'cl': 852, 'urn ': 2397, 'reen': 2008, 'cellent': 823, 'cr': 878, 'va': 2414, 'oduct ': 1720, 'experience': 1161, ' ac': 2, ' cons': 99, 'nut': 1702, 'product': 1942, 'table ': 2225, 'thou': 2275, 'maz': 1577, 'terrib': 2255, 'fir': 1194, 'fri': 1212, ' charact': 79, 'lif': 1513, 'vies ': 2439, ' me': 308, 'how': 1308, 'give ': 1242, 'turn': 2343, 'lea': 1498, 'atte': 739, 'ittle ': 1461, 'ttle ': 2336, 'mmend ': 1607, 'imp': 1387, 'cc': 816, 'efinitely': 1015, ' vo': 564, 'bl': 789, 'nitel': 1672, 'pretty ': 1932, 'ovies ': 1848, ' far ': 178, 'ousa': 1836, ' co': 88, 'ince ': 1394, 'friendl': 1216, ' buy': 63, ' high': 250, 'riendly': 2047, ' perfect': 370, 'tion ': 2297, 'har': 1264, 'isappoi': 1440, 'arr': 710, 'sin': 2167, ' le': 284, 'g ': 1224, 'ue ': 2366, 'yon': 2510, 'tch': 2239, 'hon': 1298, 'price ': 1936, ' hun': 257, 'ool ': 1773, ' worth': 600, 'lity ': 1530, 'ely': 1033, ' cal': 67, ' disappoin': 132, 'ci': 845, 'xperie': 2499, 'eop': 1061, 'also ': 663, 'ar': 693, 'direc': 923, 'rible': 2036, ' thous': 531, ' an': 15, 'odu': 1717, 'ust ': 2407, 'oi': 1723, ' order ': 352, ' fin': 187, 'poor ': 1914, 'yth': 2516, 'mb': 1580, 'us ': 2399, 'b ': 758, 'x ': 2486, 'it ': 1450, 'uc': 2357, ' terribl': 519, 'ha': 1259, 'des': 917, ' nee': 332, 'go': 1245, ' se': 460, 'disappoin': 931, 'ool': 1772, 'stu': 2214, ' ra': 423, ' tim': 538, ' ten': 513, 'ook': 1770, 'pan': 1857, 'ste ': 2201, 'attery': 741, 'give': 1241, 'pre': 1926, 'med': 1584, 'fini': 1188, ' qua': 415, 'col': 855, 'low ': 1556, 'nta': 1696, 'tes': 2261, 'es ': 1111, ' service ': 470, 'im': 1384, 'hink': 1293, 'ood': 1768, 'tes ': 2262, 'ok ': 1728, 'tota': 2316, ' amaze': 13, ' food ': 202, 'der': 915, 'ext': 1162, 'ms': 1622, 'ople ': 1782, 'rtabl': 2095, 'ble ': 792, 'ver ': 2421, 'woul': 2482, ' lit': 290, ' wor': 593, 'arac': 696, 'tle': 2304, 'some': 2179, 'pr': 1925, ' know ': 281, ' definitel': 117, 'red': 2003, 'ince': 1393, 'tat': 2237, 'low': 1555, ' hig': 249, ' work': 594, ' thousan': 533, ' bla': 54, ' could ': 105, 'ence': 1042, 'errible': 1091, ' tot': 542, 'ld': 1494, ' everythi': 162, 'maze': 1578, ' eve': 153, ' ha': 235, 'tea': 2243, 'ess': 1114, 'ndred ': 1646, 'ions': 1421, ' poor': 393, 'a ': 610, 'cen': 825, ' recom': 435, 'ui': 2370, 'fe': 1170, 'initely ': 1406, 'tra': 2319, 'rev': 2020, 'ittle': 1460, 'ical': 1337, ' han': 236, 'sly': 2171, 'ers': 1093, 'excellent ': 1153, 'erything': 1108, ' batter': 38, 'an ': 673, 'know ': 1479, 'oa': 1709, 'arg': 705, 'ut ': 2409, ' gre': 230, 'qualit': 1956, 'ery ': 1103, ' won': 589, 'os': 1809, 'ays ': 754, 'now ': 1689, ' perfe': 368, 'gin': 1239, 'dic': 920, 'ut': 2408, 'age': 637, 'ight ': 1370, 'bat': 767, ' terrib': 518, 'ppo': 1920, ' wat': 576, ' hor': 253, ' seri': 465, 'ur ': 2392, 'ure': 2394, 'two ': 2347, 'cene': 826, 'serve': 2148, 'ilm': 1380, 'ise ': 1445, 'id': 1344, 'ons ': 1765, 'inc': 1392, 'ort': 1800, 'speci': 2189, ' feel': 181, 'on': 1752, 'mpl': 1619, 'exp': 1154, 'tal': 2231, 'nice ': 1668, 'iendl': 1358, ' ar': 21, 'aracte': 698, 'ter ': 2252, 'xper': 2497, 'ation': 736, 'nd': 1636, 'right': 2051, 'ors': 1797, 'ty': 2348, 'erfect': 1078, ' k': 275, 'd ': 898, 'rience': 2044, 'ies': 1361, ' piece': 379, 'erf': 1075, 'ed ': 996, 'uct ': 2363, 'yea': 2507, 'every': 1135, ' friendly ': 212, 'cep': 827, 'movie': 1614, 'dred': 940, 'part': 1859, 'ara': 695, ' terri': 517, ' v': 560, ' fe': 179, ' friend': 209, 'fer': 1178, 'make ': 1571, 'm ': 1567, 'use ': 2404, 'enoug': 1052, 'ndr': 1643, 'rri': 2082, 'erythin': 1107, 'enough': 1053, 'cle': 853, 'ema': 1037, ' defi': 112, 'hone ': 1300, 'ter': 2251, 'sa': 2116, 'sk': 2169, 'reak': 1985, ' get ': 219, ' com': 89, 'best': 780, 'irst ': 1434, 'thin': 2269, ' wort': 599, 'tan': 2232, 'ther': 2266, 'ch': 830, 'redi': 2005, 'ion': 1419, 'gi': 1238, 'ish ': 1447, ' go ': 225, 'ange': 680, 'inut': 1415, 'ame': 669, ' sound ': 485, ' ord': 349, ' piece ': 380, 'an': 672, 'want': 2447, 'acter': 625, 'ythi': 2517, 'enti': 1058, 'ng ': 1663, 'ss ': 2193, 'eb': 976, ' ter': 515, 'esta': 1118, 'rful ': 2027, 'to': 2309, 'isappoin': 1441, 'sho': 2160, 'am': 664, 'watch': 2456, ' sin': 476, 'sy ': 2219, 'bar': 766, 'ffe': 1180, 'get': 1231, ' po': 391, 'special': 2191, 'worth': 2480, 'rl': 2062, 'yone': 2511, 'coo': 873, ' rec': 432, 'ppoint': 1923, ' like ': 289, 'adset ': 634, 'uck ': 2361, ' disa': 127, 'ys': 2513, 'tive ': 2302, 'fre': 1211, 'eall': 965, 'iendly': 1359, 'ecomme': 986, 'ou': 1822, 'ty ': 2349, 'ellent': 1031, 'aw': 750, ' scen': 456, 'rst ': 2090, ' charg': 82, 'uy': 2412, 'pretty': 1931, 'com': 856, ' comp': 96, ' al': 6, 'ra ': 1963, 'appoi': 689, 'appo': 688, ' stu': 501, 'the': 2265, 'un': 2379, ' thing ': 526, ' sur': 504, 'pro': 1937, 'ong': 1762, ' bette': 49, ' sl': 477, ' la': 283, ' peopl': 363, 'eco': 983, 'ce ': 818, 'all': 656, 'cke': 851, 'heads': 1277, 'isappo': 1439, 'sc': 2129, ' friendly': 211, 'tai': 2226, ' hol': 252, 'could': 876, ' serv': 466, 'ever ': 1134, 'deli': 914, 'hundred ': 1323, 'now': 1688, 'ousand': 1838, ' coul': 103, 'ick ': 1342, 'play ': 1901, 'mer': 1590, ' comfort': 95, ' make': 305, 'ful': 1221, 'sit': 2168, ' j': 273, 'ther ': 2267, 'erribl': 1090, 'bly ': 795, 'ts': 2326, 'character': 838, 'rfec': 2023, 'tc': 2238, 'battery': 771, ' at': 23, 'expe': 1155, ' defini': 114, 'ck': 849, 'eep ': 1007, 'place ': 1899, 'till ': 2290, 'ovie': 1845, 'terr': 2253, 've ': 2416, 'orm': 1794, 'avor': 749, 'eak': 961, 'case': 814, 'ai': 639, 'ph': 1884, 'cter ': 888, 'rve': 2102, 'ny ': 1707, 'less': 1506, ' we': 582, 'phone ': 1888, ' sal': 451, 'en ': 1040, 'ife': 1365, 'every ': 1136, 'ood ': 1769, 'ik': 1372, 'ult': 2377, 'rder': 1980, 'tter ': 2331, 'rg': 2028, ' minutes': 315, 'avo': 748, 'yt': 2515, 'lig': 1514, 'erfu': 1079, 'ona': 1754, 'excelle': 1150, 'soun': 2183, 'ugh': 2368, 'play': 1900, 'eopl': 1062, 'bla': 790, ' exce': 166, ' one': 346, 'movies ': 1617, 'orst ': 1799, 'feel': 1176, ' si': 475, 'exce': 1147, 'oint ': 1726, ' look ': 298, ' part': 359, 'ase': 717, 'lack ': 1486, 'rm ': 2066, 'peci': 1863, ' well ': 585, 'bes': 779, 'case ': 815, 'ars': 711, 'maze ': 1579, 'obl': 1711, 'xcel': 2489, 'poi': 1908, 'sal': 2117, 'rde': 1979, 'ove': 1841, 'ily ': 1383, 'rat': 1974, 'ake ': 647, 'headset ': 1280, 'enty': 1059, 'our': 1832, 'nne': 1680, 'eed ': 1001, 'pen': 1868, 'ral': 1969, ' never ': 337, 'movies': 1616, 'comfo': 860, 'erri': 1088, 'cha': 832, 'pect': 1866, ' battery ': 40, 'set': 2153, ' hu': 256, 'ything': 2519, 'back ': 763, 'ze': 2521, 'ds': 943, ' case': 71, 'ota': 1816, 'ife ': 1366, 'undr': 2385, 'cul': 897, 're': 1982, 'peri': 1879, 'hand': 1261, 'mf': 1591, 'id ': 1345, ' head': 242, 'minu': 1598, 'acto': 627, 'very ': 2425, ' hundred': 261, 'battery ': 772, 'iec': 1350, 'ger': 1229, 'nough ': 1687, ' li': 286, 'ack': 620, ' film': 185, 'me ': 1582, ' wait': 568, 'st ': 2196, 'nite': 1671, 'ive': 1465, 'mea': 1583, ' res': 440, ' soun': 483, 'worst': 2477, 'chara': 834, 'ard ': 702, 'hor': 1301, 'sp': 2186, 'st': 2195, 'ow ': 1850, 'won': 2469, ' ear ': 138, 'le ': 1497, 'ead': 955, 'commen': 865, ' perfec': 369, 'better ': 786, ' neve': 335, 'wort': 2479, 'ee ': 999, 'ptio': 1947, 'est ': 1117, 'ull': 2376, 'quali': 1955, 'like': 1518, ' still ': 495, 'omfort': 1744, 'film ': 1184, 'ama': 665, 'ost': 1812, ' under': 556, 'ns ': 1691, 'ir': 1428, 'rs ': 2088, 'lut': 1564, 'litt': 1525, 'itely': 1454, 'dd': 901, 'efi': 1009, 'poo': 1912, 'character ': 839, 'ort ': 1801, 'rribl': 2084, 'can': 811, ' scene': 457, ' think ': 528, 'ster ': 2203, ' su': 502, 'rb': 1975, ' feel ': 182, 'roduc': 2074, 'ys ': 2514, 'perf': 1875, 'lie': 1512, ' much ': 327, 'errible ': 1092, ' wonde': 591, ' rat': 424, 'rta': 2093, 'high': 1288, ' na': 330, 'etty': 1127, 'enough ': 1054, ' sm': 478, 'ast': 721, ' sc': 454, 'eral': 1071, 'aut': 744, 'par': 1858, 'lic': 1511, 'ette': 1124, ' prod': 407, 'ly ': 1566, 'riendly ': 2048, ' charac': 78, 'ire': 1429, 'erience': 1085, 'sce': 2130, 'ppoi': 1921, 'ta': 2221, ' every ': 159, 'ork ': 1793, 'ink ': 1408, 'side': 2165, 'atio': 735, 'ith': 1456, ' bad ': 33, 'usi': 2405, 'elle': 1029, 'endly': 1047, 'loo': 1547, 'was': 2450, ' nev': 334, 'onde': 1757, 'plot ': 1906, ' q': 413, 'aste': 723, ' dir': 122, 'ervice ': 1101, 'ca': 807, 'tab': 2222, ' everyth': 161, 'appoint': 691, 'xpe': 2496, 'or ': 1784, 'pecial': 1865, 'er ': 1069, 'uch ': 2359, 'ave': 746, 'nit': 1670, ' cas': 70, 'hic': 1286, 'roduct ': 2076, 'lity': 1529, 'yo': 2509, ' movies ': 323, 'als': 661, 'xc': 2487, ' fi': 183, ' enou': 147, 'pl': 1895, 'endly ': 1048, 'ute': 2410, 'ent': 1056, 'l ': 1480, 'nitely': 1673, 'cra': 879, ' bea': 42, 'light': 1516, 'sol': 2177, 'str': 2213, 'ore ': 1790, ' comf': 92, 'rodu': 2073, 'well': 2462, 'rib': 2034, 'rn': 2068, ' still': 494, ' s': 449, 'san': 2118, 'servi': 2149, 'lack': 1485, 'thousan': 2278, ' bes': 44, ' quality ': 420, ' tho': 529, ' people': 364, 'ug': 2367, 'ecomm': 985, ' righ': 444, 'ind': 1395, 'nd ': 1637, 'ual': 2351, 'produ': 1940, ' exper': 174, 'ol': 1729, 'less ': 1507, 'ney': 1659, ' i': 263, 'also': 662, 'rfe': 2022, 'it': 1449, 'ad': 629, ' service': 469, 'ng': 1662, 'good': 1248, 'ite': 1451, 'kn': 1476, ' prett': 398, 'seve': 2156, 'usa': 2400, 'ind ': 1396, ' yea': 608, 'good ': 1249, ' def': 111, 'ul ': 2373, 'or': 1783, 'rvice ': 2106, 'th': 2263, ' really ': 431, 'itel': 1453, 'defini': 908, 'ible': 1332, 'hing': 1291, 'spec': 2188, 'cto': 893, 'rant': 1972, 'art ': 714, 'ld ': 1495, 'ious': 1424, 'goo': 1247, 'r ': 1961, 'efinit': 1012, ' great': 232, 'sand': 2119, 'bu': 803, 'endl': 1046, 'dse': 944, 'uct': 2362, 'mfort': 1594, ' ev': 152, ' unde': 555, 'hara': 1265, ' bac': 29, 'f ': 1165, 'ib': 1330, 'definite': 910, 'mend ': 1587, 'all ': 657, 'bac': 761, 'ction': 891, ' plo': 388, 'ovies': 1847, ' ta': 506, 'ture ': 2342, 'ict': 1343, 'wel': 2461, ' ca': 66, 'how ': 1309, 'ear': 969, 'ga': 1225, 'ction ': 892, 'hum': 1317, 'etty ': 1128, ' nic': 339, 'our ': 1833, 'stan': 2198, 'ate': 730, 'sm': 2173, 'ica': 1336, 'headse': 1278, ' fil': 184, ' str': 500, 'happ': 1263, ' mo': 316, ' ea': 136, 'rythi': 2111, 'ance ': 676, 'ie ': 1349, 'take ': 2230, 'price': 1935, ' would ': 604, 'look': 1548, 'bad': 764, 'orth': 1805, 't ': 2220, 'ibl': 1331, 'ly': 1565, ' w': 565, 'ren': 2011, 'giv': 1240, 'itt': 1458, 'se': 2138, 'oot': 1776, 'hil': 1289, ' also': 8, 'table': 2224, ' direc': 124, 'point': 1910, ' end': 144, 'if': 1364, 'def': 905, 'charg': 840, ' plot': 389, ' never': 336, ' rea': 426, 'ud': 2364, ' de': 110, 'ommend ': 1749, ' produc': 409, 'hl': 1295, 'vor': 2441, ' bu': 62, 'harge': 1272, 'blu': 793, ' ch': 74, ' chi': 85, 'nty': 1700, 'orta': 1802, ' back ': 31, ' story': 498, 'irec': 1430, ' sh': 473, ' ro': 447, ' gi': 220, ' tr': 545, 'product ': 1943, ' comfor': 94, 'fla': 1202, 'screen': 2136, 'ndre': 1644, ' well': 584, 'na': 1629, 'still': 2207, ' charge': 83, 'ap': 685, 'verything': 2430, ' som': 480, 'eople': 1063, 'rd ': 1978, 'prett': 1930, 'reall': 1988, ' disapp': 129, 'cou': 874, 'pe': 1860, ' pa': 357, ' thousand': 534, ' characte': 80, 'nes ': 1653, 'love': 1553, 'nute': 1703, ' reco': 434, 'eas': 973, 'ot ': 1815, 'lov': 1552, 'eo': 1060, 'turn ': 2344, ' app': 20, 'wonder': 2472, ' minu': 312, 'dire': 922, 'hat': 1273, 'friendly': 1217, 'rien': 2042, 'log': 1545, 'tm': 2308, ' quality': 419, 'act ': 623, 'far': 1167, 'ars ': 712, 'order ': 1788, 'lso': 1558, 'appoin': 690, 'ea': 954, 'otal': 1817, 'min': 1597, ' qualit': 418, ' hundr': 259, 'friendly ': 1218, 'haracter': 1269, 'tas': 2235, 'mot': 1611, ' eno': 146, 'bs': 802, ' fu': 213, 'cti': 889, 'oo': 1767, 'nv': 1705, 'sic': 2162, ' fri': 206, 'ang': 679, 'ept': 1067, 'ia': 1326, 'amaz': 666, 'hy': 1324, ' dire': 123, 'ap ': 686, 'rrible': 2085, 'fe ': 1171, 'net': 1654, 'con': 870, 'oor': 1774, 'tem': 2248, 'amaze': 667, 'ight': 1369, 'ovie ': 1846, 'haracte': 1268, 'af': 635, 'ean': 968, 'ful ': 1222, 'watc': 2455, 'ega': 1018, ' much': 326, 'great': 1254, 'finite': 1190, ' thin': 524, ' movies': 322, 'ality': 654, ' ki': 277, 'aste ': 724, 'bea': 774, 'everything': 1141, 'righ': 2050, 'age ': 638, 'cam': 810, ' minut': 313, ' know': 280, 'rem': 2010, ' pretty ': 400, 'gh ': 1235, 'iz': 1467, ' story ': 499, 'dea': 904, 'belie': 777, 'es': 1110, ' headset': 245, 'undred ': 2388, 'ard': 701, 'stic': 2205, 'littl': 1526, 'ilm ': 1381, ' mov': 318, 'rite ': 2059, 'irst': 1433, ' go': 224, 'dset ': 946, ' jo': 274, 'hu': 1316, 'rtab': 2094, ' recomme': 437, 'hre': 1311, ' fiv': 194, 'food ': 1206, ' like': 288, 'ion ': 1420, 'dred ': 941, 'batter': 770, 'sappoi': 2123, 'rty': 2099, ' stor': 497, 'rod': 2072, ' ne': 331, 'first ': 1197, 'ip ': 1427, 'never ': 1658, ' time': 539, 'tty ': 2338, ' disap': 128, 'sto': 2209, ' perf': 367, 'ctu': 895, 'bad ': 765, 'po': 1907, 'ht': 1314, 'feel ': 1177, 'bly': 794, ' ri': 442, ' qu': 414, 'oy': 1853, ' cle': 87, 'el ': 1023, 'ance': 675, ' servi': 467, 'nes': 1652, 'nk': 1676, 'ctio': 890, 'lon': 1546, ' on': 345, ' woul': 602, 'rth': 2096, 'eg': 1017, 'lt ': 1561, 'year': 2508, 'are ': 704, 'even ': 1132, 'ecommend ': 989, 'lle': 1534, 'mal': 1572, 'scr': 2133, ' ei': 142, 'at ': 726, 'atch ': 729, ' ever': 156, 'side ': 2166, 'ent ': 1057, 'tho': 2274, 'ts ': 2327, 'stor': 2210, 'perfe': 1876, 'movi': 1613, ' par': 358, ' bat': 35, 'story ': 2212, 'tru': 2323, 'od ': 1716, 'rs': 2087, 'mple': 1620, 'line ': 1522, 'rece': 1994, ' get': 218, 'tory ': 2314, ' thi': 523, 'man ': 1574, 'ret': 2016, 'ment ': 1589, 'etter': 1125, 'pecia': 1864, ' terr': 516, 'nev': 1655, ' try': 547, ' lea': 285, 'compl': 869, 'ep': 1065, 'duct ': 950, 'ten': 2249, ' play ': 387, 'charge': 841, 'batt': 768, ' mi': 310, 'llent ': 1537, 'ag': 636, ' u': 552, 'pea': 1861, 'kno': 1477, 'ound': 1830, ' thousa': 532, 'isappoint ': 1443, 'eally': 966, 'tions ': 2299, 'oin': 1724, 'sev': 2155, 'rap': 1973, 'creen': 882, 'ee': 998, 'commend': 866, ' way': 580, 'ads': 631, ' sou': 482, 'thous': 2276, 'ant': 681, 'el': 1022, 'eal ': 964, ' five ': 196, 'ura': 2393, ' mus': 328, 'waste': 2452, 'tive': 2301, ' friendl': 210, 'use': 2403, 'scree': 2135, 'hr': 1310, 'lis': 1523, 'nti': 1699, ' ho': 251, ' mon': 317, 'fas': 1169, 'rn ': 2069, 'day': 900, 'cel': 819, ' bre': 58, 'any ': 684, 'mpr': 1621, 'lem': 1500, 'eed': 1000, 'definit': 909, ' watch ': 579, 'eadset ': 960, 'say ': 2128, ' servic': 468, ' ga': 216, 'ala': 650, 'ide': 1346, ' year': 609, 'elie': 1026, 'ov': 1840, 'dre': 939, 'erful': 1080, 'mi': 1595, 'exc': 1146, 'time ': 2293, 'ervic': 1099, 'uit': 2371, 'take': 2229, 'piec': 1892, 'll ': 1533, 'og': 1722, 'leas': 1499, 'tin': 2294, 'ey': 1163, 'ger ': 1230, 'ears ': 972, 'ari': 708, 'ill': 1378, ' coo': 101, 'ears': 971, 'enou': 1051, 'celle': 821, ' littl': 292, 'dit': 933, 'perie': 1880, 'ell': 1027, 'i ': 1325, ' bl': 53, 'w ': 2442, ' r': 422, ' end ': 145, ' ph': 371, 'well ': 2463, 'definitely': 912, 'rol': 2077, 'een': 1004, ' disappo': 130, 'form': 1208, ' see': 462, 'terri': 2254, 'dy': 951, 'ies ': 1362, 'bette': 784, ' wh': 586, 'rrible ': 2086, 'por': 1915, 'ce': 817, 'roduct': 2075, 'tim': 2291, 'nn': 1679, 'tro': 2322, 'aze': 756, 'veryt': 2426, 'ge ': 1227, 'ial ': 1328, 'little ': 1528, 'omf': 1741, 'isapp': 1438, 'sou': 2182, 'dis': 925, 'eal': 963, 'vie ': 2437, 'joy ': 1470, ' pro': 405, 'ock': 1714, 'lik': 1517, 'n ': 1628, 'ster': 2202, 'iece ': 1352, 'fee': 1175, 'opl': 1780, 'me': 1581, 'erie': 1082, 'irect': 1431, 'eth': 1122, 'rvic': 2104, 'pi': 1889, 'hund': 1319, 'lent': 1502, 'y ': 2504, 'gg': 1233, 'piece': 1893, 'rger ': 2032, ' des': 120, ' use ': 559, 'gr': 1250, 'om ': 1738, 'eci': 980, 'comm': 863, 'oor ': 1775, 'man': 1573, 'wat': 2454, 'thousand': 2279, 'lso ': 1559, 'nee': 1649, 'retty': 2018, ' wel': 583, ' even': 154, 'sapp': 2121, 'oint': 1725, 'et': 1119, 'sl': 2170, 'xce': 2488, 'riend': 2045, 'tell': 2245, 'oul': 1826, ' five': 195, ' case ': 72, 'vice ': 2435, 'rio': 2054, ' need': 333, 'quality ': 1958, 'buy ': 805, ' batte': 37, 'rest': 2015, 'shi': 2159, ' time ': 540, 'adse': 632, 'lly ': 1541, 'try': 2324, 'ler': 1504, 'efin': 1010, 'uld': 2374, 'ft': 1219, ' spe': 487, 'bit': 788, 'perienc': 1882, 'no': 1681, 'cal': 808, 'ould ': 1828, 'in ': 1390, 'better': 785, 'eat': 974, 'ain ': 642, ' movie': 320, 'prob': 1938, ' ser': 464, 'itely ': 1455, ' peo': 361, 'om': 1737, 'orma': 1795, 'uch': 2358, ' inter': 272, 'lu': 1562, 'thre': 2281, 'alo': 660, 'rything ': 2114, 'de ': 903, 'til': 2288, 'ing ': 1400, 'disappoi': 930, 'pa': 1856, 'vo': 2440, 'go ': 1246, 'total': 2317, ' place ': 385, 'br': 797, ' br': 57, 'minut': 1599, 'firs': 1195, 'ign': 1371, 'tter': 2330, 'end ': 1045, 'rf': 2021, 'ays': 753, 'rvi': 2103, ' plac': 383, ' take': 508, 'ke': 1472, 'worst ': 2478, 'tory': 2313, 'ns': 1690, 'point ': 1911, 'sic ': 2163, 'xperience': 2502, 'everyth': 1138, 'characte': 837, 'cri': 883, ' waste': 574, 'inu': 1414, 'ryt': 2109, 'rett': 2017, 'ett': 1123, ' sta': 489, 'oth': 1818, 'isa': 1436, 'est': 1116, 'as ': 716, 'ece': 978, 'ef': 1008, 'commend ': 867, ' us': 557, ' look': 297, 'ise': 1444, 'mend': 1586, ' batt': 36, ' stil': 493, 'igh': 1368, ' b': 27, 'pos': 1917, 'ond': 1756, 'las': 1490, ' lov': 299, 'dy ': 952, 'orst': 1798, 'produc': 1941, ' quali': 417, ' product ': 411, ' headset ': 246, 'try ': 2325, 'eople ': 1064, 'tely ': 2247, ' foo': 200, 'initel': 1404, 'tle ': 2305, 'ect ': 991, 'em': 1035, 'scri': 2137, ' terrible ': 521, 'ons': 1764, ' worst': 597, 'rip': 2055, 'ast ': 722, 'ew': 1143, 'one': 1759, ' min': 311, 'di': 918, 'rth ': 2097, 'xperien': 2500, 'adset': 633, 'ake': 646, 'mmend': 1606, 'lm': 1542, 'gu': 1256, ' thr': 535, ' inc': 268, 'one ': 1760, ' terrible': 520, ' eat ': 141, 'rob': 2071, 'tt': 2328, 'alit': 653, 'ath': 732, ' pric': 402, 'yone ': 2512, ' muc': 325, 'le': 1496, 'disa': 926, 'efini': 1011, 'tic': 2285, 'ole': 1733, 'lly': 1540, ' fa': 176, 'ro': 2070, 'waste ': 2453, 'ions ': 1422, ' ama': 11, 'ople': 1781, ' sho': 474, ' phone': 374, 'sta': 2197, 'c ': 806, ' break': 60, 'ti': 2284, 'ian': 1329, 'ervi': 1098, 'rig': 2049, 'ami': 671, 'per': 1874, 'uy ': 2413, ' ve': 561, 'wonde': 2471, 'efinite': 1013, 'ellen': 1030, 'rea': 1984, ' seve': 472, 'del': 913, 'eat ': 975, 'ory': 1807, 'recomm': 1997, 'first': 1196, 'fec': 1172, 'hear': 1281, 'mo': 1608, 'nal ': 1631, 'ything ': 2520, 'gre': 1252, ' movi': 319, 'for': 1207, 'see': 2141, 'tor': 2312, 'nc': 1633, 'thousa': 2277, ' cr': 106, ' im': 264, 'il': 1375, 'fil': 1182, ' reall': 429, 'ally ': 659, 'tly': 2306, ' c': 65, 'press': 1928, 'scen': 2131, ' g': 215, 'perien': 1881, 'ori': 1791, 'ber': 778, 'ien': 1353, 'fort': 1209, 'thing': 2270, 'atter': 740, ' enough': 149, 'retty ': 2019, 'best ': 781, 'cree': 881, 'grea': 1253, ' ad': 5, 'xcelle': 2491, 'actor': 628, 'aracter ': 700, 'thing ': 2271, 'do': 937, 'um': 2378, 'work': 2474, 'tely': 2246, 'ere ': 1074, ' excel': 167, 'mos': 1610, ' inte': 271, ' price ': 404, 'ete': 1121, 'er': 1068, ' rece': 433, ' l': 282, 'hol': 1297, 'lad': 1487, 'ide ': 1347, ' say': 452, 'llo': 1539, ' two ': 551, 'ice': 1338, ' product': 410, 'wait': 2445, 'fin': 1185, 'star': 2199, 'cas': 813, 'fo': 1203, 'are': 703, 'aract': 697, 'ert': 1095, ' ce': 73, 'ooth': 1777, ' could': 104, 'nsi': 1692, ' fl': 197, 'sappo': 2122, 'fl': 1201, 'say': 2127, 'exper': 1156, ' over': 355, 'iv': 1464, ' wai': 567, ' price': 403, ' als': 7, 'end': 1044, 'ovi': 1844, 'racter ': 1968, 'xp': 2495, 'ya': 2505, 'han': 1260, 'ell ': 1028, 'sly ': 2172, ' he': 240, 'ab': 611, 'tain': 2227, 'ick': 1341, ' come ': 91, 'disappoint': 932, 'wa': 2443, ' kno': 279, 'isappoint': 1442, 'rect': 2002, 'othe': 1819, 'headset': 1279, ' pre': 396, ' hundred ': 262, 'od': 1715, ' total': 544, ' recommend': 439, 'defin': 907, 'eryth': 1105, 'wast': 2451, 'plo': 1904, ' wonder': 592, ' di': 121, 'even': 1131, 'foo': 1204, 'tr': 2318, 'ous ': 1835, 'lay ': 1493, 'rec': 1993, 'spe': 2187, ' chara': 77, 'mfor': 1593, 'cre': 880, 'cia': 846, 'nk ': 1677, 'lo': 1544, ' give ': 223, 'excellent': 1152, 'ris': 2056, 'ait': 643, 'eak ': 962, 'pt': 1944, 'ess ': 1115, 'sel': 2143, 'der ': 916, 'ime': 1385, 'tery ': 2260, 'wo': 2467, 'war': 2449, 'eme': 1038, 'oll': 1734, 'beli': 776, 'ection': 994, 'att': 738, ' definite': 116, 'her ': 1284, 'other ': 1821, 'rice': 2039, 'ecommen': 987, 'verythin': 2429, 'service ': 2152, 'app': 687, 'minute': 1600, ' definit': 115, ' hund': 258, 'rt ': 2092, ' te': 512, 'oc': 1713, 'nic': 1666, 'find': 1186, 'omfo': 1742, 'ail': 640, ' fr': 204, 'ove ': 1842, ' find ': 189, 'very': 2424, 'ad ': 630, ' little ': 294, 'ndl': 1640, 'perfec': 1877, 'oun': 1829, ' poo': 392, 'ever': 1133, 'eel ': 1003, 'pho': 1885, 'eadset': 959, 'poor': 1913, 'port': 1916, ' h': 234, 'her': 1283, ' best ': 46, 'qu': 1952, 'wi': 2465, 'tiv': 2300, 'finitely ': 1193, 'ine': 1397, ' che': 84, 'amer': 670, 'tery': 2259, 'tly ': 2307, ' wi': 587, 'ue': 2365, 'think': 2272, 'nde': 1638, 'init': 1402, 'sappoin': 2124, 'che': 842, ' first': 192, 'rv': 2101, 'seri': 2146, 'of': 1721, 'te ': 2242, ' wr': 605, ' no': 342, 'veryth': 2427, 'undred': 2387, 'real ': 1987, ' first ': 193, 'tic ': 2286, 'hree ': 1313, 'other': 1820, ' bel': 43, ' fo': 199, ' firs': 191, ' food': 201, 'lot': 1550, 'omfor': 1743, 'ite ': 1452, 'fect ': 1174, 'en': 1039, ' m': 302, 'ni': 1665, 'find ': 1187, 'gl': 1243, ' love ': 301, 'excel': 1148, 'eigh': 1021, 'pie': 1891, ' rig': 443, 'iece': 1351, ' watc': 577, ' recomm': 436, 'till': 2289, 'ki': 1474, ' even ': 155, 'io': 1418, 'o ': 1708, 'ellent ': 1032, ' o': 344, 'dl': 934, 'verythi': 2428, 'ese': 1112, 'tions': 2298, 'ence ': 1043, 'sappoint': 2125, 'usand': 2402, 'ua': 2350, 'oduc': 1718, ' es': 151, 'place': 1898, 'rk ': 2061, 'pti': 1946, 'ord': 1785, ' char': 76, 'op ': 1779, 'si': 2161, 'ici': 1340, 'like ': 1519, 'rly': 2063, 'wou': 2481, ' say ': 453, 'lin': 1520, 'ome ': 1740, ' was': 572, 'ep ': 1066, 'pu': 1949, 'ave ': 747, 'quality': 1957, 'tty': 2337, 'ric': 2038, 'people ': 1873, ' fir': 190, 'ecti': 992, 'need': 1650, ' find': 188, 'come ': 858, 'ecia': 981, 'ppe': 1919, 'really': 1989, 'unde': 2383, ' really': 430, 'frie': 1213, 'ttle': 2335, 'make': 1570, 'wh': 2464, ' fre': 205, 'sound': 2184, 'te': 2241, ' think': 527, 'nal': 1630, 'ch ': 831, 'cons': 871, ' und': 554, 'ress': 2013, 've': 2415, ' real ': 428, 'cu': 896, 'ality ': 655, 'sea': 2140, 'lent ': 1503, 'ythin': 2518, 'car': 812, ' waste ': 575, 'rit': 2057, ' fun': 214, 'and': 677, ' watch': 578, 'lue': 1563, 'ryth': 2110, ' bri': 61, 'son': 2180, 'out': 1839, ' thou': 530, 'usan': 2401, 'ect': 990, 'lan': 1488, 'nce ': 1635, 'ple ': 1903, 'xcellent': 2493, 'initely': 1405, 'ose': 1810, 'eads': 957, ' amaze ': 14, 'ike ': 1374, ' f': 175, 'rp': 2080, 'ualit': 2353, 'onder': 1758, ' ste': 491, 'ract': 1965, 'everythi': 1139, 'ily': 1382, 'erien': 1083, ' ni': 338, 'ple': 1902, ' hou': 255, 'ribl': 2035, ' bet': 47, 'hig': 1287, 'fun': 1223, 'ers ': 1094, 'ead ': 956, 'vera': 2422, 'act': 622, 'want ': 2448, 'sy': 2218, 'rst': 2089, 'ct': 884, 'not': 1682, 'ive ': 1466, ' eat': 140, 'perience': 1883, ' fla': 198}\n"
     ]
    }
   ],
   "source": [
    "# inspect vocabulary\n",
    "print('vocab size: {}:'.format(len(vect.vocabulary_)))\n",
    "print('vocab:\\n{}'.format(vect.vocabulary_)) # this is very large..."
   ]
  },
  {
   "cell_type": "code",
   "execution_count": 15,
   "metadata": {},
   "outputs": [
    {
     "name": "stdout",
     "output_type": "stream",
     "text": [
      "bag of words:\n",
      "[[0 0 0 ..., 0 0 0]\n",
      " [1 0 1 ..., 0 0 0]\n",
      " [1 0 0 ..., 0 0 0]\n",
      " ..., \n",
      " [0 0 0 ..., 0 1 1]\n",
      " [0 0 0 ..., 0 0 0]\n",
      " [1 1 0 ..., 0 0 0]]\n"
     ]
    }
   ],
   "source": [
    "# create BOWs representation of data by tranformming\n",
    "# and storing in a dense representation of stem_BOWs\n",
    "BOCs_train = vect.transform(X_train)\n",
    "print('bag of words:\\n{}'.format(BOCs_train.toarray()))"
   ]
  },
  {
   "cell_type": "code",
   "execution_count": 16,
   "metadata": {},
   "outputs": [
    {
     "name": "stdout",
     "output_type": "stream",
     "text": [
      "num features: 2523\n",
      "\n",
      "features head: [' a', ' ab', ' ac', ' act', ' act ']\n",
      "\n",
      "every 100th feature:\n",
      "[' a', ' cont', ' foo', ' love', ' pretty ', ' str', ' worth', 'aracter ', 'break', 'day', 'eed', 'ervice', 'five ', 'hone ', 'ing ', 'lem', 'minute', 'nty', 'ort', 'play', 'recommend', 'ru', 'ste', 'tiv', 'usa', 'xperien']\n",
      "\n",
      "features tail: ['ythin', 'ything', 'ything ', 'ze', 'ze ']\n"
     ]
    }
   ],
   "source": [
    "feature_names = vect.get_feature_names()\n",
    "print('num features: {}\\n'.format(len(feature_names)))\n",
    "print('features head: {}\\n'.format(feature_names[:5]))\n",
    "print('every 100th feature:\\n{}\\n'.format(feature_names[::100]))\n",
    "print('features tail: {}'.format(feature_names[-5:]))"
   ]
  },
  {
   "cell_type": "code",
   "execution_count": 17,
   "metadata": {},
   "outputs": [
    {
     "name": "stdout",
     "output_type": "stream",
     "text": [
      "Mean cross-validation accuracy: 0.77\n"
     ]
    }
   ],
   "source": [
    "scores = cross_val_score(LogisticRegression(random_state=42), \n",
    "                         BOCs_train, # from X_train \n",
    "                         y_train, \n",
    "                         cv=5)\n",
    "print(\"Mean cross-validation accuracy: {:.2f}\".format(np.mean(scores)))"
   ]
  },
  {
   "cell_type": "code",
   "execution_count": 18,
   "metadata": {},
   "outputs": [
    {
     "data": {
      "text/plain": [
       "array([ 0.79417879,  0.77338877,  0.76875   ,  0.76617954,  0.76409186])"
      ]
     },
     "execution_count": 18,
     "metadata": {},
     "output_type": "execute_result"
    }
   ],
   "source": [
    "# look at the range of model scores\n",
    "scores"
   ]
  },
  {
   "cell_type": "markdown",
   "metadata": {},
   "source": [
    "### INSPECT MODEL - DATA VISUALIZATION\n",
    "\n",
    "\n",
    "* visualize the top coefficients from the sklearn model\n",
    "  * Looking at the top/bottom weightings helps to make sense and build and intuition of how the model works, which in turn completes the Qualitative aspect of measuring whether the algo is working as expected (i.e. that the patterns discovered have value and aren't lucky for the data).\n",
    "  * Please note: the visualization for important features (top n features) was inspired from workshops attended and books read from Andreas Mueller, PhD. \n",
    "\n",
    "* The confusion matrix makes sense as well and demonstrates that the model is working, as advertized in the cross validation step of training and validating.\n",
    "  * The character-level model is astounding. I varied the number of character-grams between 2-15, with and without stopwords, and raw text/preprocessed text. The models' performance were consistently between 75-83% accuracy. I got the idea reading a paper on text generation using NNs and character sequences from trained text like Shaekespeare and stackoverflow.com."
   ]
  },
  {
   "cell_type": "code",
   "execution_count": 19,
   "metadata": {},
   "outputs": [
    {
     "name": "stdout",
     "output_type": "stream",
     "text": [
      "num features: 2523\n",
      "\n",
      "features head: [' a', ' ab', ' ac', ' act', ' act ']\n",
      "\n",
      "every 100th feature:\n",
      "[' a', ' cont', ' foo', ' love', ' pretty ', ' str', ' worth', 'aracter ', 'break', 'day', 'eed', 'ervice', 'five ', 'hone ', 'ing ', 'lem', 'minute', 'nty', 'ort', 'play', 'recommend', 'ru', 'ste', 'tiv', 'usa', 'xperien']\n",
      "\n",
      "features tail: ['ythin', 'ything', 'ything ', 'ze', 'ze ']\n"
     ]
    }
   ],
   "source": [
    "feature_names = vect.get_feature_names()\n",
    "print('num features: {}\\n'.format(len(feature_names)))\n",
    "print('features head: {}\\n'.format(feature_names[:5]))\n",
    "print('every 100th feature:\\n{}\\n'.format(feature_names[::100]))\n",
    "print('features tail: {}'.format(feature_names[-5:]))"
   ]
  },
  {
   "cell_type": "code",
   "execution_count": 20,
   "metadata": {},
   "outputs": [
    {
     "name": "stdout",
     "output_type": "stream",
     "text": [
      "smallest coefficients/close to 0:\n",
      "['hand' 'ces' 'people ' 'people' 'peopl' 'peop' 'peo' 'pen' 'pect ' 'pect'\n",
      " 'pecial' 'pecia' 'peci' 'pec' 'perf' 'cho' 'cin' 'pan' 'cle' 'comme'\n",
      " 'commen' 'commend' 'commend ' 'comp' 'compl' 'ousand' 'cons' 'ousan' 'coo'\n",
      " 'cial' 'perfe' 'cene' 'perfec' 'por' 'poor ' 'bea' 'beli' 'belie' 'ple '\n",
      " 'ple']\n",
      "\n",
      "largest coefficients/close to 1:\n",
      "['y ' 'e ' ' s' 'er' ' su' 'ck' 'k ' 'uck ' 'uc' 'ck ' 'uck' 'n ' 'an' 'ar'\n",
      " 'su' 'l ' 'ch' 'al' 'd ' 'ca' ' c' 's ' ' m' 't ' 'se' ' t' 'on' 'el' 'r '\n",
      " 'ne' 'he' 'h ' ' e' 'en' 'nd' 'ce' 'oo' 'ma' 'p ' ' a']\n"
     ]
    }
   ],
   "source": [
    "# get the feature names\n",
    "feature_names = np.array(vect.get_feature_names())\n",
    "# find the max for each feature\n",
    "max_val = BOCs_train.max(axis=0).toarray().ravel()\n",
    "# sort the index\n",
    "sorted_coef_index = max_val.argsort()\n",
    "print('smallest coefficients/close to 0:\\n{}\\n'.format(feature_names[sorted_coef_index[:40]]))\n",
    "print('largest coefficients/close to 1:\\n{}'.format(feature_names[sorted_coef_index[:-41:-1]]))"
   ]
  },
  {
   "cell_type": "code",
   "execution_count": 21,
   "metadata": {
    "collapsed": true
   },
   "outputs": [],
   "source": [
    "lr_clf = LogisticRegression(random_state=42)\n",
    "lr_clf.fit(BOCs_train, y_train)\n",
    "BOCs_test = vect.transform(X_test)\n",
    "predictions = lr_clf.predict(BOCs_test)"
   ]
  },
  {
   "cell_type": "code",
   "execution_count": 22,
   "metadata": {},
   "outputs": [
    {
     "name": "stdout",
     "output_type": "stream",
     "text": [
      "Saving figure bocs_top_40_features\n"
     ]
    },
    {
     "data": {
      "image/png": "[encoded data removed]",
      "text/plain": [
       "<Figure size 1080x360 with 1 Axes>"
      ]
     },
     "metadata": {},
     "output_type": "display_data"
    }
   ],
   "source": [
    "# viz of the top coefficients for the \n",
    "h.visualize_coefficients(coefficients=lr_clf.coef_,\n",
    "                         feature_names=feature_names, \n",
    "                         n_top_features=40)\n",
    "plt.title('Feature Importance - Top 40 Features\\nBag-of-Characters + Logistic Regression')\n",
    "save_fig(\"bocs_top_40_features\")"
   ]
  },
  {
   "cell_type": "code",
   "execution_count": 23,
   "metadata": {},
   "outputs": [
    {
     "name": "stdout",
     "output_type": "stream",
     "text": [
      "Saving figure bocs_confusion_matrix\n"
     ]
    },
    {
     "data": {
      "image/png": "[encoded data removed]",
      "text/plain": [
       "<Figure size 720x720 with 2 Axes>"
      ]
     },
     "metadata": {},
     "output_type": "display_data"
    }
   ],
   "source": [
    "# create a confusion matrix\n",
    "conf_matrix = h.confusion_matrix(y_test, predictions)\n",
    "\n",
    "# plot the confusion matrix\n",
    "fig = plt.figure(figsize=(10,10))\n",
    "h.plot_confusion_matrix(conf_matrix,\n",
    "                        classes=['negative','positive'], \n",
    "                        normalize=False, \n",
    "                        title='Bag-of-Characters + Logistic Regression\\nConfusion Matrix\\n')\n",
    "\n",
    "save_fig(\"bocs_confusion_matrix\",tight_layout=False)"
   ]
  },
  {
   "cell_type": "code",
   "execution_count": 24,
   "metadata": {},
   "outputs": [
    {
     "name": "stdout",
     "output_type": "stream",
     "text": [
      "accuracy = 0.770, precision = 0.770, recall = 0.770, f1 = 0.770\n"
     ]
    }
   ],
   "source": [
    "# unpack metrics using function\n",
    "accuracy, precision, recall, f1 = h.get_metrics(y_test, predictions)\n",
    "print(\"accuracy = %.3f, precision = %.3f, recall = %.3f, f1 = %.3f\" % (accuracy, precision, recall, f1))"
   ]
  },
  {
   "cell_type": "code",
   "execution_count": 25,
   "metadata": {},
   "outputs": [
    {
     "name": "stdout",
     "output_type": "stream",
     "text": [
      "Saving model bocs\n",
      "Saving model logistic_regression_w_bocs\n"
     ]
    }
   ],
   "source": [
    "# save models (CountVectorizer and Logistic Regression)\n",
    "save_model(vect,'bocs')\n",
    "save_model(lr_clf,'logistic_regression_w_bocs')"
   ]
  },
  {
   "cell_type": "markdown",
   "metadata": {},
   "source": [
    "## GridSearch for Best Model\n",
    "----- \n",
    "* Let's see how competitive this model can be!\n",
    "* holding maximum geatures to 10000 for comparative purposes\n",
    "* we will explore n-gram ranges and regularization constant C\n",
    "* exploring variety of range for character n-grams\n",
    "* exploring min and max document frequency of character n-gram"
   ]
  },
  {
   "cell_type": "code",
   "execution_count": 26,
   "metadata": {},
   "outputs": [
    {
     "name": "stdout",
     "output_type": "stream",
     "text": [
      "Best cross-validation score: 0.77\n",
      "Best parameters:\n",
      "{'countvectorizer__max_df': 0.8, 'countvectorizer__ngram_range': (2, 10), 'countvectorizer__min_df': 0.01}\n"
     ]
    }
   ],
   "source": [
    "# use sklearn's pipeline functionality\n",
    "# leaving out stopwords, keeping C range close to what has been working (1)\n",
    "pipe = make_pipeline(CountVectorizer(max_features=10000, \n",
    "                                     analyzer='char_wb',   # char level ngrams\n",
    "                                    ), \n",
    "                     LogisticRegression(random_state=42)\n",
    "                    )\n",
    "\n",
    "# grid and the inclusion of trigrams\n",
    "param_grid = {\"countvectorizer__ngram_range\": [(2,3), (2, 5), (2,10)],\n",
    "              \"countvectorizer__min_df\": [0.01, 0.05], # removing this b/c pruning removes all features\n",
    "              \"countvectorizer__max_df\": [0.80, 0.90, 0.99]\n",
    "              #\"logisticregression__C\": [0.1, 1]\n",
    "             }\n",
    "\n",
    "grid = GridSearchCV(pipe, param_grid, cv=5)\n",
    "grid.fit(X_train, y_train)\n",
    "print(\"Best cross-validation score: {:.2f}\".format(grid.best_score_))\n",
    "print(\"Best parameters:\\n{}\".format(grid.best_params_))"
   ]
  },
  {
   "cell_type": "code",
   "execution_count": 82,
   "metadata": {
    "scrolled": true
   },
   "outputs": [],
   "source": [
    "grid_results = pd.DataFrame(grid.cv_results_).sort_values(by='rank_test_score', ascending=True)\n",
    "#display(grid_results.info())\n",
    "keep_cols = ['mean_test_score', 'mean_train_score', 'param_countvectorizer__max_df', \n",
    "             'param_countvectorizer__min_df', 'param_countvectorizer__ngram_range', \n",
    "             'params', 'rank_test_score', 'std_test_score', 'std_train_score']\n",
    "#display(grid_results[keep_cols])\n",
    "#display(grid_results[['mean_test_score',\n",
    "#                      'param_countvectorizer__ngram_range',\n",
    "#                      'param_countvectorizer__max_df', \n",
    "#                      'param_countvectorizer__min_df']])\n",
    "#grid.cv_results_['mean_test_score'].reshape(-1, 3).T"
   ]
  },
  {
   "cell_type": "code",
   "execution_count": 69,
   "metadata": {},
   "outputs": [
    {
     "data": {
      "text/html": [
       "<div>\n",
       "<style>\n",
       "    .dataframe thead tr:only-child th {\n",
       "        text-align: right;\n",
       "    }\n",
       "\n",
       "    .dataframe thead th {\n",
       "        text-align: left;\n",
       "    }\n",
       "\n",
       "    .dataframe tbody tr th {\n",
       "        vertical-align: top;\n",
       "    }\n",
       "</style>\n",
       "<table border=\"1\" class=\"dataframe\">\n",
       "  <thead>\n",
       "    <tr>\n",
       "      <th>param_countvectorizer__min_df</th>\n",
       "      <th colspan=\"3\" halign=\"left\">0.01</th>\n",
       "      <th colspan=\"3\" halign=\"left\">0.05</th>\n",
       "    </tr>\n",
       "    <tr>\n",
       "      <th>param_countvectorizer__max_df</th>\n",
       "      <th>0.80</th>\n",
       "      <th>0.90</th>\n",
       "      <th>0.99</th>\n",
       "      <th>0.80</th>\n",
       "      <th>0.90</th>\n",
       "      <th>0.99</th>\n",
       "    </tr>\n",
       "    <tr>\n",
       "      <th>param_countvectorizer__ngram_range</th>\n",
       "      <th></th>\n",
       "      <th></th>\n",
       "      <th></th>\n",
       "      <th></th>\n",
       "      <th></th>\n",
       "      <th></th>\n",
       "    </tr>\n",
       "  </thead>\n",
       "  <tbody>\n",
       "    <tr>\n",
       "      <th>(2, 3)</th>\n",
       "      <td>0.760000</td>\n",
       "      <td>0.760000</td>\n",
       "      <td>0.760000</td>\n",
       "      <td>0.724583</td>\n",
       "      <td>0.724583</td>\n",
       "      <td>0.724583</td>\n",
       "    </tr>\n",
       "    <tr>\n",
       "      <th>(2, 5)</th>\n",
       "      <td>0.768750</td>\n",
       "      <td>0.768750</td>\n",
       "      <td>0.768750</td>\n",
       "      <td>0.727917</td>\n",
       "      <td>0.727917</td>\n",
       "      <td>0.727917</td>\n",
       "    </tr>\n",
       "    <tr>\n",
       "      <th>(2, 10)</th>\n",
       "      <td>0.770833</td>\n",
       "      <td>0.770833</td>\n",
       "      <td>0.770833</td>\n",
       "      <td>0.727917</td>\n",
       "      <td>0.727917</td>\n",
       "      <td>0.727917</td>\n",
       "    </tr>\n",
       "  </tbody>\n",
       "</table>\n",
       "</div>"
      ],
      "text/plain": [
       "param_countvectorizer__min_df           0.01                          0.05                    \n",
       "param_countvectorizer__max_df           0.80      0.90      0.99      0.80      0.90      0.99\n",
       "param_countvectorizer__ngram_range                                                            \n",
       "(2, 3)                              0.760000  0.760000  0.760000  0.724583  0.724583  0.724583\n",
       "(2, 5)                              0.768750  0.768750  0.768750  0.727917  0.727917  0.727917\n",
       "(2, 10)                             0.770833  0.770833  0.770833  0.727917  0.727917  0.727917"
      ]
     },
     "execution_count": 69,
     "metadata": {},
     "output_type": "execute_result"
    }
   ],
   "source": [
    "piv = pd.pivot_table(data=grid_results[['mean_test_score',\n",
    "                                  'param_countvectorizer__ngram_range',\n",
    "                                  'param_countvectorizer__max_df',\n",
    "                                  'param_countvectorizer__min_df']], \n",
    "               index=['param_countvectorizer__min_df','param_countvectorizer__max_df'], \n",
    "               columns='param_countvectorizer__ngram_range',\n",
    "               values='mean_test_score').T\n",
    "piv"
   ]
  },
  {
   "cell_type": "code",
   "execution_count": 81,
   "metadata": {},
   "outputs": [
    {
     "name": "stdout",
     "output_type": "stream",
     "text": [
      "Saving figure logistic_regression_BoCs_gridsearch\n"
     ]
    },
    {
     "data": {
      "image/png": "[encoded data removed]",
      "text/plain": [
       "<Figure size 432x288 with 2 Axes>"
      ]
     },
     "metadata": {},
     "output_type": "display_data"
    }
   ],
   "source": [
    "# extract scores from grid_search\n",
    "scores = piv #grid.cv_results_['mean_test_score'].reshape(-1, 3).T\n",
    "# visualize heatmap\n",
    "heatmap = h.heatmap(scores, \n",
    "                    xlabel='countvectorizer__max_df', \n",
    "                    ylabel=\"ngram_range\", \n",
    "                    cmap=\"viridis\", \n",
    "                    fmt=\"%.3f\",\n",
    "                    xticklabels=2* param_grid['countvectorizer__max_df'],\n",
    "                    yticklabels=param_grid['countvectorizer__ngram_range'])\n",
    "\n",
    "plt.colorbar(heatmap)\n",
    "plt.title('Trying to Improve with GridSearch\\nBag-of-Chars + Logistic Regression Model\\nwith Hyperparameter Tuning')\n",
    "save_fig(\"logistic_regression_BoCs_gridsearch\",tight_layout=False)\n",
    "plt.show()"
   ]
  },
  {
   "cell_type": "code",
   "execution_count": 30,
   "metadata": {},
   "outputs": [
    {
     "name": "stdout",
     "output_type": "stream",
     "text": [
      "Saving figure logistic_regression_tfidf_gridsearch_best_estimator_top_30_features\n"
     ]
    },
    {
     "data": {
      "image/png": "[encoded data removed]",
      "text/plain": [
       "<Figure size 1080x360 with 1 Axes>"
      ]
     },
     "metadata": {},
     "output_type": "display_data"
    }
   ],
   "source": [
    "# extract feature names and coefficients\n",
    "vect = grid.best_estimator_.named_steps['countvectorizer']\n",
    "feature_names = np.array(vect.get_feature_names())\n",
    "coef = grid.best_estimator_.named_steps['logisticregression'].coef_\n",
    "h.visualize_coefficients(coef, \n",
    "                         feature_names, \n",
    "                         n_top_features=30)\n",
    "\n",
    "save_fig(\"logistic_regression_tfidf_gridsearch_best_estimator_top_30_features\")"
   ]
  },
  {
   "cell_type": "code",
   "execution_count": 32,
   "metadata": {},
   "outputs": [
    {
     "name": "stdout",
     "output_type": "stream",
     "text": [
      "Saving model logistic_regression_w_chars_best_vect\n",
      "Saving model logistic_regression_w_chars_best_model\n"
     ]
    }
   ],
   "source": [
    "# save the model\n",
    "save_model(grid.best_estimator_.named_steps['countvectorizer'], 'logistic_regression_w_chars_best_vect')\n",
    "save_model(grid.best_estimator_.named_steps['logisticregression'], 'logistic_regression_w_chars_best_model')"
   ]
  },
  {
   "cell_type": "markdown",
   "metadata": {},
   "source": [
    "## Let's examine mistakes by Character-Level Model"
   ]
  },
  {
   "cell_type": "code",
   "execution_count": 83,
   "metadata": {
    "collapsed": true
   },
   "outputs": [],
   "source": [
    "# let's look at the incorrect predictions\n",
    "# add the predictions of default BoWs to the all_reviews dataframe\n",
    "# https://stackoverflow.com/questions/45176469/can-i-get-a-list-of-wrong-predictions-in-svm-score-function-in-scikit-learn?rq=1\n",
    "#print(all_reviews['y_pred_def_bows'].count())\n",
    "#all_reviews['y_pred_def_bows'] = lr_clf.predict(vect.transform(all['reviews'].astype(str)))\n",
    "X_BoC = grid.best_estimator_.named_steps['countvectorizer'].transform(all_reviews['tokens'].apply(' '.join).as_matrix())\n",
    "y_pred_def_boc = lr_clf.predict(X_BoC)\n",
    "y_pred_prob_def_boc = lr_clf.predict_proba(X_BoC)\n",
    "\n",
    "# predict over whole group with the model and compare to actual target\n",
    "all_reviews['y_pred_def_boc'] = y_pred_def_boc\n",
    "# predict probabilities to compare how close, confident the prediction was\n",
    "all_reviews['y_pred_prob_def_boc_0'] = y_pred_prob_def_boc[:,0]\n",
    "all_reviews['y_pred_prob_def_boc_1'] = y_pred_prob_def_boc[:,1]"
   ]
  },
  {
   "cell_type": "code",
   "execution_count": 84,
   "metadata": {
    "scrolled": true
   },
   "outputs": [
    {
     "data": {
      "text/html": [
       "<div>\n",
       "<style>\n",
       "    .dataframe thead tr:only-child th {\n",
       "        text-align: right;\n",
       "    }\n",
       "\n",
       "    .dataframe thead th {\n",
       "        text-align: left;\n",
       "    }\n",
       "\n",
       "    .dataframe tbody tr th {\n",
       "        vertical-align: top;\n",
       "    }\n",
       "</style>\n",
       "<table border=\"1\" class=\"dataframe\">\n",
       "  <thead>\n",
       "    <tr style=\"text-align: right;\">\n",
       "      <th></th>\n",
       "      <th>source</th>\n",
       "      <th>score</th>\n",
       "      <th>mistakes_pct</th>\n",
       "    </tr>\n",
       "  </thead>\n",
       "  <tbody>\n",
       "    <tr>\n",
       "      <th>0</th>\n",
       "      <td>amazon</td>\n",
       "      <td>0</td>\n",
       "      <td>0.088</td>\n",
       "    </tr>\n",
       "    <tr>\n",
       "      <th>1</th>\n",
       "      <td>amazon</td>\n",
       "      <td>1</td>\n",
       "      <td>0.080</td>\n",
       "    </tr>\n",
       "    <tr>\n",
       "      <th>2</th>\n",
       "      <td>imdb</td>\n",
       "      <td>0</td>\n",
       "      <td>0.096</td>\n",
       "    </tr>\n",
       "    <tr>\n",
       "      <th>3</th>\n",
       "      <td>imdb</td>\n",
       "      <td>1</td>\n",
       "      <td>0.090</td>\n",
       "    </tr>\n",
       "    <tr>\n",
       "      <th>4</th>\n",
       "      <td>yelp</td>\n",
       "      <td>0</td>\n",
       "      <td>0.082</td>\n",
       "    </tr>\n",
       "    <tr>\n",
       "      <th>5</th>\n",
       "      <td>yelp</td>\n",
       "      <td>1</td>\n",
       "      <td>0.084</td>\n",
       "    </tr>\n",
       "  </tbody>\n",
       "</table>\n",
       "</div>"
      ],
      "text/plain": [
       "   source  score  mistakes_pct\n",
       "0  amazon      0         0.088\n",
       "1  amazon      1         0.080\n",
       "2    imdb      0         0.096\n",
       "3    imdb      1         0.090\n",
       "4    yelp      0         0.082\n",
       "5    yelp      1         0.084"
      ]
     },
     "execution_count": 84,
     "metadata": {},
     "output_type": "execute_result"
    }
   ],
   "source": [
    "mistakes = all_reviews['score'] != all_reviews['y_pred_def_boc']\n",
    "# observations: mistakes are consistently made with positive sentiment\n",
    "# imdb had ~45-50% more errors, which could likely change over a larger dataset and more training\n",
    "g = all_reviews[mistakes].groupby(['source','score'])['source'].size() / 500 #.plot(kind='bar')\n",
    "g = pd.DataFrame(g).rename(columns={'source':'mistakes_pct'}).reset_index()\n",
    "g"
   ]
  },
  {
   "cell_type": "code",
   "execution_count": 86,
   "metadata": {},
   "outputs": [
    {
     "name": "stdout",
     "output_type": "stream",
     "text": [
      "Saving figure bowc_default_top_30_features_mistakes\n"
     ]
    },
    {
     "data": {
      "image/png": "[encoded data removed]",
      "text/plain": [
       "<Figure size 432x288 with 1 Axes>"
      ]
     },
     "metadata": {},
     "output_type": "display_data"
    }
   ],
   "source": [
    "# plot the mistakes\n",
    "ax = sns.countplot(y='score', \n",
    "                   hue='source', \n",
    "                   data=all_reviews[['source','score']][mistakes], \n",
    "                   palette='bright')\n",
    "plt.title('Count of Mistakes per Source')\n",
    "save_fig(\"bowc_default_top_30_features_mistakes\")\n",
    "plt.show()"
   ]
  },
  {
   "cell_type": "markdown",
   "metadata": {
    "collapsed": true
   },
   "source": [
    "## Test Sentences from, urbandictionary.com\n",
    "-----\n",
    "The idea is to grab and label polarized sentences from yet another source. This will help demonstrate if the model is generalizing well, investigate any shortcomings/look for inspiration for ideas of improvement.\n",
    "\n",
    "In summary, these work pretty well. The ones that were missed, would be challenging even as a human, without more context like speaker's disposition/bias, or word intention/meanings. \n",
    "\n",
    "Also, using a strategy of the two highest probabilites per class would do quite nicely. An example is Index 2 \"Nah, that place is a total touristaurant, my food was awful last time I ate there.\" where Bag-of-Words choked but the other two models were within the top quartile of predicting negative sentiment."
   ]
  },
  {
   "cell_type": "code",
   "execution_count": 33,
   "metadata": {},
   "outputs": [
    {
     "data": {
      "text/html": [
       "<div>\n",
       "<style>\n",
       "    .dataframe thead tr:only-child th {\n",
       "        text-align: right;\n",
       "    }\n",
       "\n",
       "    .dataframe thead th {\n",
       "        text-align: left;\n",
       "    }\n",
       "\n",
       "    .dataframe tbody tr th {\n",
       "        vertical-align: top;\n",
       "    }\n",
       "</style>\n",
       "<table border=\"1\" class=\"dataframe\">\n",
       "  <thead>\n",
       "    <tr style=\"text-align: right;\">\n",
       "      <th></th>\n",
       "      <th>document</th>\n",
       "      <th>score</th>\n",
       "    </tr>\n",
       "  </thead>\n",
       "  <tbody>\n",
       "    <tr>\n",
       "      <th>0</th>\n",
       "      <td>Expensive restaurants with horrible food that people still go to for the prime location or atmosphere.</td>\n",
       "      <td>0</td>\n",
       "    </tr>\n",
       "    <tr>\n",
       "      <th>1</th>\n",
       "      <td>It has a beautiful view of the Eiffel Tower!</td>\n",
       "      <td>1</td>\n",
       "    </tr>\n",
       "    <tr>\n",
       "      <th>2</th>\n",
       "      <td>Nah, that place is a total touristaurant, my food was awful last time I ate there.</td>\n",
       "      <td>0</td>\n",
       "    </tr>\n",
       "    <tr>\n",
       "      <th>3</th>\n",
       "      <td>I had a great day, climbed a hill and didn't check facebook.</td>\n",
       "      <td>1</td>\n",
       "    </tr>\n",
       "    <tr>\n",
       "      <th>4</th>\n",
       "      <td>That corgi-shaped macaron is expensive because it's got instagram tax.</td>\n",
       "      <td>0</td>\n",
       "    </tr>\n",
       "  </tbody>\n",
       "</table>\n",
       "</div>"
      ],
      "text/plain": [
       "                                                                                                 document  score\n",
       "0  Expensive restaurants with horrible food that people still go to for the prime location or atmosphere.      0\n",
       "1                                                            It has a beautiful view of the Eiffel Tower!      1\n",
       "2                      Nah, that place is a total touristaurant, my food was awful last time I ate there.      0\n",
       "3                                            I had a great day, climbed a hill and didn't check facebook.      1\n",
       "4                                  That corgi-shaped macaron is expensive because it's got instagram tax.      0"
      ]
     },
     "execution_count": 33,
     "metadata": {},
     "output_type": "execute_result"
    }
   ],
   "source": [
    "# document & score\n",
    "contrived_sents = [(\"Expensive restaurants with horrible food that people still go to for the prime location or atmosphere.\", 0), \n",
    " (\"It has a beautiful view of the Eiffel Tower!\", 1),\n",
    " (\"Nah, that place is a total touristaurant, my food was awful last time I ate there.\", 0),\n",
    " (\"I had a great day, climbed a hill and didn't check facebook.\", 1),\n",
    " (\"That corgi-shaped macaron is expensive because it's got instagram tax.\", 0),\n",
    " (\"That 1962 Alfa Romeo is good for transportainment\", 1),\n",
    " (\"not so great for getting to work in the snow\", 0),\n",
    " (\"This is so sad Alexa play despacito\", 0),\n",
    " (\"This better not escalate to Dutch ovens any time soon...\", 0),\n",
    " (\"Oh. It has too many calories for me. Well, OK.\", 1),\n",
    " (\"Mmm, this pizza is some good food.\", 1),\n",
    " (\"Food's better for throwing at someone than eating.\", 0), \n",
    " (\"Are you finished with your restau-rant? I get it, we're outta here. Let's pay the check and leave.\", 0),\n",
    " (\"The Primrose Bar and Restaurant in Ballynahinch, Co. Down in the north of Ireland is one of the best in the country. \",  1),\n",
    " (\"This burger is crappy.\", 0),\n",
    " (\"DUDE! I got buffungled by Amazon.com with a 8-12 day shipping time!\", 0),\n",
    " (\"I am going to <b>BUY</b> that game RIGHT NOW.\", 1),\n",
    " (\"wow, that was great!\", 1),\n",
    " (\"That movie was great!\", 1),\n",
    " (\"The computer crashed again. I lost three thousand lines of code.\", 0)\n",
    "]\n",
    "\n",
    "df_contrived = pd.DataFrame(contrived_sents,columns=['document','score'])\n",
    "df_contrived.head()"
   ]
  },
  {
   "cell_type": "code",
   "execution_count": 34,
   "metadata": {
    "collapsed": true,
    "scrolled": true
   },
   "outputs": [],
   "source": [
    "df_contrived['tokens'] = df_contrived['document'].apply(h.denoise_text) \\\n",
    "                                                 .apply(h.replace_contractions) \\\n",
    "                                                 .apply(nltk.word_tokenize) \\\n",
    "                                                 .apply(h.normalize) \\\n",
    "                                                 .apply(h.lemmatize_verbs)\n",
    "BOCs_urban_dict = vect.transform(df_contrived['tokens'].apply(' '.join).tolist())\n",
    "urban_preds = lr_clf.predict(BOCs_urban_dict)\n",
    "df_contrived['prediction'] = urban_preds"
   ]
  },
  {
   "cell_type": "code",
   "execution_count": 35,
   "metadata": {},
   "outputs": [
    {
     "data": {
      "text/html": [
       "<div>\n",
       "<style>\n",
       "    .dataframe thead tr:only-child th {\n",
       "        text-align: right;\n",
       "    }\n",
       "\n",
       "    .dataframe thead th {\n",
       "        text-align: left;\n",
       "    }\n",
       "\n",
       "    .dataframe tbody tr th {\n",
       "        vertical-align: top;\n",
       "    }\n",
       "</style>\n",
       "<table border=\"1\" class=\"dataframe\">\n",
       "  <thead>\n",
       "    <tr style=\"text-align: right;\">\n",
       "      <th></th>\n",
       "      <th>document</th>\n",
       "      <th>score</th>\n",
       "      <th>tokens</th>\n",
       "      <th>prediction</th>\n",
       "    </tr>\n",
       "  </thead>\n",
       "  <tbody>\n",
       "    <tr>\n",
       "      <th>0</th>\n",
       "      <td>Expensive restaurants with horrible food that people still go to for the prime location or atmosphere.</td>\n",
       "      <td>0</td>\n",
       "      <td>[expensive, restaurants, horrible, food, people, still, go, prime, location, atmosphere]</td>\n",
       "      <td>0</td>\n",
       "    </tr>\n",
       "    <tr>\n",
       "      <th>1</th>\n",
       "      <td>It has a beautiful view of the Eiffel Tower!</td>\n",
       "      <td>1</td>\n",
       "      <td>[beautiful, view, eiffel, tower]</td>\n",
       "      <td>1</td>\n",
       "    </tr>\n",
       "    <tr>\n",
       "      <th>2</th>\n",
       "      <td>Nah, that place is a total touristaurant, my food was awful last time I ate there.</td>\n",
       "      <td>0</td>\n",
       "      <td>[nah, place, total, touristaurant, food, awful, last, time, eat]</td>\n",
       "      <td>0</td>\n",
       "    </tr>\n",
       "    <tr>\n",
       "      <th>3</th>\n",
       "      <td>I had a great day, climbed a hill and didn't check facebook.</td>\n",
       "      <td>1</td>\n",
       "      <td>[great, day, climb, hill, check, facebook]</td>\n",
       "      <td>1</td>\n",
       "    </tr>\n",
       "    <tr>\n",
       "      <th>4</th>\n",
       "      <td>That corgi-shaped macaron is expensive because it's got instagram tax.</td>\n",
       "      <td>0</td>\n",
       "      <td>[corgishaped, macaron, expensive, get, instagram, tax]</td>\n",
       "      <td>1</td>\n",
       "    </tr>\n",
       "    <tr>\n",
       "      <th>5</th>\n",
       "      <td>That 1962 Alfa Romeo is good for transportainment</td>\n",
       "      <td>1</td>\n",
       "      <td>[one thousand, nine hundred and sixty-two, alfa, romeo, good, transportainment]</td>\n",
       "      <td>1</td>\n",
       "    </tr>\n",
       "    <tr>\n",
       "      <th>6</th>\n",
       "      <td>not so great for getting to work in the snow</td>\n",
       "      <td>0</td>\n",
       "      <td>[great, get, work, snow]</td>\n",
       "      <td>1</td>\n",
       "    </tr>\n",
       "    <tr>\n",
       "      <th>7</th>\n",
       "      <td>This is so sad Alexa play despacito</td>\n",
       "      <td>0</td>\n",
       "      <td>[sad, alexa, play, despacito]</td>\n",
       "      <td>1</td>\n",
       "    </tr>\n",
       "    <tr>\n",
       "      <th>8</th>\n",
       "      <td>This better not escalate to Dutch ovens any time soon...</td>\n",
       "      <td>0</td>\n",
       "      <td>[better, escalate, dutch, ovens, time, soon]</td>\n",
       "      <td>1</td>\n",
       "    </tr>\n",
       "    <tr>\n",
       "      <th>9</th>\n",
       "      <td>Oh. It has too many calories for me. Well, OK.</td>\n",
       "      <td>1</td>\n",
       "      <td>[oh, many, calories, well, ok]</td>\n",
       "      <td>0</td>\n",
       "    </tr>\n",
       "    <tr>\n",
       "      <th>10</th>\n",
       "      <td>Mmm, this pizza is some good food.</td>\n",
       "      <td>1</td>\n",
       "      <td>[mmm, pizza, good, food]</td>\n",
       "      <td>1</td>\n",
       "    </tr>\n",
       "    <tr>\n",
       "      <th>11</th>\n",
       "      <td>Food's better for throwing at someone than eating.</td>\n",
       "      <td>0</td>\n",
       "      <td>[food, better, throw, someone, eat]</td>\n",
       "      <td>0</td>\n",
       "    </tr>\n",
       "    <tr>\n",
       "      <th>12</th>\n",
       "      <td>Are you finished with your restau-rant? I get it, we're outta here. Let's pay the check and leave.</td>\n",
       "      <td>0</td>\n",
       "      <td>[finish, restaurant, get, outta, let, us, pay, check, leave]</td>\n",
       "      <td>1</td>\n",
       "    </tr>\n",
       "    <tr>\n",
       "      <th>13</th>\n",
       "      <td>The Primrose Bar and Restaurant in Ballynahinch, Co. Down in the north of Ireland is one of the best in the country.</td>\n",
       "      <td>1</td>\n",
       "      <td>[primrose, bar, restaurant, ballynahinch, co, north, ireland, one, best, country]</td>\n",
       "      <td>0</td>\n",
       "    </tr>\n",
       "    <tr>\n",
       "      <th>14</th>\n",
       "      <td>This burger is crappy.</td>\n",
       "      <td>0</td>\n",
       "      <td>[burger, crappy]</td>\n",
       "      <td>0</td>\n",
       "    </tr>\n",
       "    <tr>\n",
       "      <th>15</th>\n",
       "      <td>DUDE! I got buffungled by Amazon.com with a 8-12 day shipping time!</td>\n",
       "      <td>0</td>\n",
       "      <td>[dude, get, buffungled, amazoncom, eight hundred and twelve, day, ship, time]</td>\n",
       "      <td>0</td>\n",
       "    </tr>\n",
       "    <tr>\n",
       "      <th>16</th>\n",
       "      <td>I am going to &lt;b&gt;BUY&lt;/b&gt; that game RIGHT NOW.</td>\n",
       "      <td>1</td>\n",
       "      <td>[go, buy, game, right]</td>\n",
       "      <td>1</td>\n",
       "    </tr>\n",
       "    <tr>\n",
       "      <th>17</th>\n",
       "      <td>wow, that was great!</td>\n",
       "      <td>1</td>\n",
       "      <td>[wow, great]</td>\n",
       "      <td>1</td>\n",
       "    </tr>\n",
       "    <tr>\n",
       "      <th>18</th>\n",
       "      <td>That movie was great!</td>\n",
       "      <td>1</td>\n",
       "      <td>[movie, great]</td>\n",
       "      <td>1</td>\n",
       "    </tr>\n",
       "    <tr>\n",
       "      <th>19</th>\n",
       "      <td>The computer crashed again. I lost three thousand lines of code.</td>\n",
       "      <td>0</td>\n",
       "      <td>[computer, crash, lose, three, thousand, line, code]</td>\n",
       "      <td>0</td>\n",
       "    </tr>\n",
       "  </tbody>\n",
       "</table>\n",
       "</div>"
      ],
      "text/plain": [
       "                                                                                                                 document  score                                                                                    tokens  prediction\n",
       "0                  Expensive restaurants with horrible food that people still go to for the prime location or atmosphere.      0  [expensive, restaurants, horrible, food, people, still, go, prime, location, atmosphere]           0\n",
       "1                                                                            It has a beautiful view of the Eiffel Tower!      1                                                          [beautiful, view, eiffel, tower]           1\n",
       "2                                      Nah, that place is a total touristaurant, my food was awful last time I ate there.      0                          [nah, place, total, touristaurant, food, awful, last, time, eat]           0\n",
       "3                                                            I had a great day, climbed a hill and didn't check facebook.      1                                                [great, day, climb, hill, check, facebook]           1\n",
       "4                                                  That corgi-shaped macaron is expensive because it's got instagram tax.      0                                    [corgishaped, macaron, expensive, get, instagram, tax]           1\n",
       "5                                                                       That 1962 Alfa Romeo is good for transportainment      1           [one thousand, nine hundred and sixty-two, alfa, romeo, good, transportainment]           1\n",
       "6                                                                            not so great for getting to work in the snow      0                                                                  [great, get, work, snow]           1\n",
       "7                                                                                     This is so sad Alexa play despacito      0                                                             [sad, alexa, play, despacito]           1\n",
       "8                                                                This better not escalate to Dutch ovens any time soon...      0                                              [better, escalate, dutch, ovens, time, soon]           1\n",
       "9                                                                          Oh. It has too many calories for me. Well, OK.      1                                                            [oh, many, calories, well, ok]           0\n",
       "10                                                                                     Mmm, this pizza is some good food.      1                                                                  [mmm, pizza, good, food]           1\n",
       "11                                                                     Food's better for throwing at someone than eating.      0                                                       [food, better, throw, someone, eat]           0\n",
       "12                     Are you finished with your restau-rant? I get it, we're outta here. Let's pay the check and leave.      0                              [finish, restaurant, get, outta, let, us, pay, check, leave]           1\n",
       "13  The Primrose Bar and Restaurant in Ballynahinch, Co. Down in the north of Ireland is one of the best in the country.       1         [primrose, bar, restaurant, ballynahinch, co, north, ireland, one, best, country]           0\n",
       "14                                                                                                 This burger is crappy.      0                                                                          [burger, crappy]           0\n",
       "15                                                    DUDE! I got buffungled by Amazon.com with a 8-12 day shipping time!      0             [dude, get, buffungled, amazoncom, eight hundred and twelve, day, ship, time]           0\n",
       "16                                                                          I am going to <b>BUY</b> that game RIGHT NOW.      1                                                                    [go, buy, game, right]           1\n",
       "17                                                                                                   wow, that was great!      1                                                                              [wow, great]           1\n",
       "18                                                                                                  That movie was great!      1                                                                            [movie, great]           1\n",
       "19                                                       The computer crashed again. I lost three thousand lines of code.      0                                      [computer, crash, lose, three, thousand, line, code]           0"
      ]
     },
     "execution_count": 35,
     "metadata": {},
     "output_type": "execute_result"
    }
   ],
   "source": [
    "df_contrived"
   ]
  },
  {
   "cell_type": "code",
   "execution_count": 36,
   "metadata": {},
   "outputs": [
    {
     "data": {
      "text/html": [
       "<div>\n",
       "<style>\n",
       "    .dataframe thead tr:only-child th {\n",
       "        text-align: right;\n",
       "    }\n",
       "\n",
       "    .dataframe thead th {\n",
       "        text-align: left;\n",
       "    }\n",
       "\n",
       "    .dataframe tbody tr th {\n",
       "        vertical-align: top;\n",
       "    }\n",
       "</style>\n",
       "<table border=\"1\" class=\"dataframe\">\n",
       "  <thead>\n",
       "    <tr style=\"text-align: right;\">\n",
       "      <th></th>\n",
       "      <th>document</th>\n",
       "      <th>score</th>\n",
       "      <th>tokens</th>\n",
       "      <th>prediction</th>\n",
       "    </tr>\n",
       "  </thead>\n",
       "  <tbody>\n",
       "    <tr>\n",
       "      <th>4</th>\n",
       "      <td>That corgi-shaped macaron is expensive because it's got instagram tax.</td>\n",
       "      <td>0</td>\n",
       "      <td>[corgishaped, macaron, expensive, get, instagram, tax]</td>\n",
       "      <td>1</td>\n",
       "    </tr>\n",
       "    <tr>\n",
       "      <th>6</th>\n",
       "      <td>not so great for getting to work in the snow</td>\n",
       "      <td>0</td>\n",
       "      <td>[great, get, work, snow]</td>\n",
       "      <td>1</td>\n",
       "    </tr>\n",
       "    <tr>\n",
       "      <th>7</th>\n",
       "      <td>This is so sad Alexa play despacito</td>\n",
       "      <td>0</td>\n",
       "      <td>[sad, alexa, play, despacito]</td>\n",
       "      <td>1</td>\n",
       "    </tr>\n",
       "    <tr>\n",
       "      <th>8</th>\n",
       "      <td>This better not escalate to Dutch ovens any time soon...</td>\n",
       "      <td>0</td>\n",
       "      <td>[better, escalate, dutch, ovens, time, soon]</td>\n",
       "      <td>1</td>\n",
       "    </tr>\n",
       "    <tr>\n",
       "      <th>9</th>\n",
       "      <td>Oh. It has too many calories for me. Well, OK.</td>\n",
       "      <td>1</td>\n",
       "      <td>[oh, many, calories, well, ok]</td>\n",
       "      <td>0</td>\n",
       "    </tr>\n",
       "    <tr>\n",
       "      <th>12</th>\n",
       "      <td>Are you finished with your restau-rant? I get it, we're outta here. Let's pay the check and leave.</td>\n",
       "      <td>0</td>\n",
       "      <td>[finish, restaurant, get, outta, let, us, pay, check, leave]</td>\n",
       "      <td>1</td>\n",
       "    </tr>\n",
       "    <tr>\n",
       "      <th>13</th>\n",
       "      <td>The Primrose Bar and Restaurant in Ballynahinch, Co. Down in the north of Ireland is one of the best in the country.</td>\n",
       "      <td>1</td>\n",
       "      <td>[primrose, bar, restaurant, ballynahinch, co, north, ireland, one, best, country]</td>\n",
       "      <td>0</td>\n",
       "    </tr>\n",
       "  </tbody>\n",
       "</table>\n",
       "</div>"
      ],
      "text/plain": [
       "                                                                                                                 document  score                                                                             tokens  prediction\n",
       "4                                                  That corgi-shaped macaron is expensive because it's got instagram tax.      0                             [corgishaped, macaron, expensive, get, instagram, tax]           1\n",
       "6                                                                            not so great for getting to work in the snow      0                                                           [great, get, work, snow]           1\n",
       "7                                                                                     This is so sad Alexa play despacito      0                                                      [sad, alexa, play, despacito]           1\n",
       "8                                                                This better not escalate to Dutch ovens any time soon...      0                                       [better, escalate, dutch, ovens, time, soon]           1\n",
       "9                                                                          Oh. It has too many calories for me. Well, OK.      1                                                     [oh, many, calories, well, ok]           0\n",
       "12                     Are you finished with your restau-rant? I get it, we're outta here. Let's pay the check and leave.      0                       [finish, restaurant, get, outta, let, us, pay, check, leave]           1\n",
       "13  The Primrose Bar and Restaurant in Ballynahinch, Co. Down in the north of Ireland is one of the best in the country.       1  [primrose, bar, restaurant, ballynahinch, co, north, ireland, one, best, country]           0"
      ]
     },
     "execution_count": 36,
     "metadata": {},
     "output_type": "execute_result"
    }
   ],
   "source": [
    "df_contrived[df_contrived['prediction'] != df_contrived['score']]"
   ]
  },
  {
   "cell_type": "markdown",
   "metadata": {
    "collapsed": true
   },
   "source": [
    "### Summary - Bag-of-Characters\n",
    "-----\n",
    "Bag-of-Characters was a surprise performer. The best performing model was with the ngram_range of (2, 10), a documet frequency min/max of 0.01/0.80. Given the scores, this would be a contender for a generalized model offering."
   ]
  }
 ],
 "metadata": {
  "kernelspec": {
   "display_name": "Python [conda env:tf-nlp-gpu]",
   "language": "python",
   "name": "conda-env-tf-nlp-gpu-py"
  },
  "language_info": {
   "codemirror_mode": {
    "name": "ipython",
    "version": 3
   },
   "file_extension": ".py",
   "mimetype": "text/x-python",
   "name": "python",
   "nbconvert_exporter": "python",
   "pygments_lexer": "ipython3",
   "version": "3.5.5"
  }
 },
 "nbformat": 4,
 "nbformat_minor": 2
}
